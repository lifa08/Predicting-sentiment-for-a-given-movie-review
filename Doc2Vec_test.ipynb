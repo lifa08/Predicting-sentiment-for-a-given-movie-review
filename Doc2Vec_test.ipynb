{
 "cells": [
  {
   "cell_type": "code",
   "execution_count": 17,
   "metadata": {
    "collapsed": true
   },
   "outputs": [],
   "source": [
    "import locale\n",
    "import glob\n",
    "import os.path\n",
    "import requests\n",
    "import tarfile\n",
    "import sys\n",
    "import codecs\n",
    "import smart_open\n",
    "import time\n",
    "\n",
    "# from https://github.com/RaRe-Technologies/gensim/blob/develop/docs/notebooks/doc2vec-IMDB.ipynb"
   ]
  },
  {
   "cell_type": "code",
   "execution_count": 18,
   "metadata": {},
   "outputs": [
    {
     "data": {
      "text/plain": [
       "'C'"
      ]
     },
     "execution_count": 18,
     "metadata": {},
     "output_type": "execute_result"
    }
   ],
   "source": [
    "locale.setlocale(locale.LC_ALL, 'C')"
   ]
  },
  {
   "cell_type": "code",
   "execution_count": 28,
   "metadata": {
    "collapsed": true
   },
   "outputs": [],
   "source": [
    "if sys.version > '3':\n",
    "    control_chars = [chr(0x85)]\n",
    "else:\n",
    "    control_chars = [unichr(0x85)]"
   ]
  },
  {
   "cell_type": "code",
   "execution_count": 29,
   "metadata": {
    "collapsed": true
   },
   "outputs": [],
   "source": [
    "# Convert text to lower-case and strip punctuation/symbols from words\n",
    "def normalize_text(text):\n",
    "    norm_text = text.lower()\n",
    "    # Replace breaks with spaces\n",
    "    norm_text = norm_text.replace('<br />', ' ')\n",
    "    # Pad punctuation with spaces on both sides\n",
    "    for char in [':', '\"', ',', '(', ')', '!', '?', ';']:\n",
    "        norm_text = norm_text.replace(char, ' ')\n",
    "    norm_text = norm_text.replace('.', ' ' + '.')\n",
    "    return norm_text"
   ]
  },
  {
   "cell_type": "code",
   "execution_count": 30,
   "metadata": {
    "collapsed": true
   },
   "outputs": [],
   "source": [
    "dirname = '../Miniproject_test/aclImdb'"
   ]
  },
  {
   "cell_type": "code",
   "execution_count": 31,
   "metadata": {},
   "outputs": [
    {
     "name": "stdout",
     "output_type": "stream",
     "text": [
      "Total running time:  12.401086000000078\n"
     ]
    }
   ],
   "source": [
    "start = time.clock()\n",
    "if not os.path.isfile('../Miniproject_test/aclImdb/alldata-id.txt'):\n",
    "    folders = ['train/pos', 'train/neg', 'test/pos', 'test/neg']\n",
    "    alldata = u''\n",
    "    for fol in folders:\n",
    "        temp = u''\n",
    "        output = fol.replace('/', '-') + '.txt'\n",
    "        txt_files = glob.glob(os.path.join(dirname, fol, '*.txt')) # get all text files\n",
    "        for txt in txt_files:\n",
    "            with smart_open.smart_open(txt, \"rb\") as t:\n",
    "                t_clean = t.read().decode(\"utf-8\")\n",
    "                for c in control_chars:\n",
    "                    t_clean = t_clean.replace(c, ' ')\n",
    "                temp += t_clean\n",
    "            temp += \"\\n\"\n",
    "        temp_norm = normalize_text(temp)\n",
    "        with smart_open.smart_open(os.path.join(dirname, output), \"wb\") as n:\n",
    "            n.write(temp_norm.encode(\"utf-8\"))\n",
    "        alldata += temp_norm\n",
    "    with smart_open.smart_open(os.path.join(dirname, 'alldata-id.txt'), 'wb') as f:\n",
    "        for idx, line in enumerate(alldata.splitlines()):\n",
    "            num_line = u\"_*{0} {1}\\n\".format(idx, line)\n",
    "            f.write(num_line.encode(\"utf-8\"))\n",
    "end = time.clock()\n",
    "print (\"Total running time: \", end-start)"
   ]
  },
  {
   "cell_type": "code",
   "execution_count": 32,
   "metadata": {
    "collapsed": true
   },
   "outputs": [],
   "source": [
    "assert os.path.isfile(\"../Miniproject_test/aclImdb/alldata-id.txt\"), \"alldata-id.txt unavailable\""
   ]
  },
  {
   "cell_type": "code",
   "execution_count": 33,
   "metadata": {},
   "outputs": [
    {
     "name": "stdout",
     "output_type": "stream",
     "text": [
      "50000 docs: 25000 train-sentiment, 25000 test-sentiment\n"
     ]
    }
   ],
   "source": [
    "import gensim\n",
    "from gensim.models.doc2vec import TaggedDocument\n",
    "from collections import namedtuple\n",
    "\n",
    "SentimentDocument = namedtuple('SentimentDocument', 'words tags split sentiment')\n",
    "alldocs = []  # Will hold all docs in original order\n",
    "\n",
    "with open('../Miniproject_test/aclImdb/alldata-id.txt', encoding='utf-8') as alldata:\n",
    "    for line_no, line in enumerate(alldata):\n",
    "        tokens = gensim.utils.to_unicode(line).split()\n",
    "        words = tokens[1:]\n",
    "        tags = [line_no]\n",
    "        split = ['train', 'test'][line_no//25000]  # 25k train, 25k test\n",
    "        sentiment = [1.0, 0.0, 1.0, 0.0][line_no//12500] #[12.5K pos, 12.5K neg]*2\n",
    "        alldocs.append(SentimentDocument(words, tags, split, sentiment))\n",
    "\n",
    "train_docs = [doc for doc in alldocs if doc.split == 'train']\n",
    "test_docs = [doc for doc in alldocs if doc.split == 'test']\n",
    "doc_list = alldocs[:]  # For reshuffling per pass\n",
    "\n",
    "print('%d docs: %d train-sentiment, %d test-sentiment' % (len(doc_list), len(train_docs), len(test_docs)))"
   ]
  },
  {
   "cell_type": "code",
   "execution_count": 34,
   "metadata": {},
   "outputs": [
    {
     "name": "stdout",
     "output_type": "stream",
     "text": [
      "SentimentDocument(words=['for', 'a', 'movie', 'that', 'gets', 'no', 'respect', 'there', 'sure', 'are', 'a', 'lot', 'of', 'memorable', 'quotes', 'listed', 'for', 'this', 'gem', '.', 'imagine', 'a', 'movie', 'where', 'joe', 'piscopo', 'is', 'actually', 'funny', 'maureen', 'stapleton', 'is', 'a', 'scene', 'stealer', '.', 'the', 'moroni', 'character', 'is', 'an', 'absolute', 'scream', '.', 'watch', 'for', 'alan', 'the', 'skipper', 'hale', 'jr', '.', 'as', 'a', 'police', 'sgt', '.'], tags=[0], split='train', sentiment=1.0)\n"
     ]
    }
   ],
   "source": [
    "print(alldocs[0])"
   ]
  },
  {
   "cell_type": "code",
   "execution_count": 35,
   "metadata": {},
   "outputs": [
    {
     "name": "stdout",
     "output_type": "stream",
     "text": [
      "Doc2Vec(dm/c,d100,n5,w5,mc2,s0.001,t4)\n",
      "Doc2Vec(dbow,d100,n5,mc2,s0.001,t4)\n",
      "Doc2Vec(dm/m,d100,n5,w10,mc2,s0.001,t4)\n"
     ]
    }
   ],
   "source": [
    "from gensim.models import Doc2Vec\n",
    "import gensim.models.doc2vec\n",
    "from collections import OrderedDict\n",
    "import multiprocessing\n",
    "\n",
    "cores = multiprocessing.cpu_count()\n",
    "assert gensim.models.doc2vec.FAST_VERSION > -1, \"This will be painfully slow otherwise\"\n",
    "\n",
    "simple_models = [\n",
    "    # PV-DM w/ concatenation - window=5 (both sides) approximates paper's 10-word total window size\n",
    "    Doc2Vec(dm=1, dm_concat=1, size=100, window=5, negative=5, hs=0, min_count=2, workers=cores),\n",
    "    # PV-DBOW \n",
    "    Doc2Vec(dm=0, size=100, negative=5, hs=0, min_count=2, workers=cores),\n",
    "    # PV-DM w/ average\n",
    "    Doc2Vec(dm=1, dm_mean=1, size=100, window=10, negative=5, hs=0, min_count=2, workers=cores),\n",
    "]\n",
    "\n",
    "simple_models[0].build_vocab(alldocs)  # PV-DM w/ concat requires one special NULL word so it serves as template\n",
    "print(simple_models[0])\n",
    "\n",
    "for model in simple_models[1:]:\n",
    "    model.reset_from(simple_models[0])\n",
    "    print(model)\n",
    "\n",
    "models_by_name = OrderedDict((str(model), model) for model in simple_models)"
   ]
  },
  {
   "cell_type": "code",
   "execution_count": 36,
   "metadata": {
    "collapsed": true
   },
   "outputs": [],
   "source": [
    "from gensim.test.test_doc2vec import ConcatenatedDoc2Vec\n",
    "models_by_name['dbow+dmm'] = ConcatenatedDoc2Vec([simple_models[1], simple_models[2]])\n",
    "models_by_name['dbow+dmc'] = ConcatenatedDoc2Vec([simple_models[1], simple_models[0]])"
   ]
  },
  {
   "cell_type": "code",
   "execution_count": 37,
   "metadata": {},
   "outputs": [
    {
     "name": "stdout",
     "output_type": "stream",
     "text": [
      "Doc2Vec(dm/c,d100,n5,w5,mc2,s0.001,t4)\n",
      "Doc2Vec(dbow,d100,n5,mc2,s0.001,t4)\n",
      "Doc2Vec(dm/m,d100,n5,w10,mc2,s0.001,t4)\n",
      "<gensim.test.test_doc2vec.ConcatenatedDoc2Vec object at 0x10ff0ec18>\n",
      "<gensim.test.test_doc2vec.ConcatenatedDoc2Vec object at 0x10ff0edd8>\n"
     ]
    }
   ],
   "source": [
    "for model in models_by_name:\n",
    "    print(models_by_name[model])"
   ]
  },
  {
   "cell_type": "code",
   "execution_count": 10,
   "metadata": {},
   "outputs": [
    {
     "name": "stderr",
     "output_type": "stream",
     "text": [
      "/Users/lifa08/anaconda3/lib/python3.6/site-packages/statsmodels/compat/pandas.py:56: FutureWarning: The pandas.core.datetools module is deprecated and will be removed in a future version. Please use the pandas.tseries module instead.\n",
      "  from pandas.core import datetools\n"
     ]
    }
   ],
   "source": [
    "import numpy as np\n",
    "import statsmodels.api as sm\n",
    "from random import sample\n",
    "\n",
    "# For timing\n",
    "from contextlib import contextmanager\n",
    "from timeit import default_timer"
   ]
  },
  {
   "cell_type": "code",
   "execution_count": 13,
   "metadata": {
    "collapsed": true
   },
   "outputs": [],
   "source": [
    "@contextmanager\n",
    "def elapsed_timer():\n",
    "    start = default_timer()\n",
    "    elapser = lambda: default_timer() - start\n",
    "    yield lambda: elapser()\n",
    "    end = default_timer()\n",
    "    elapser = lambda: end-start\n",
    "\n",
    "# train_regressors are inputs namely representational vectors for inputs\n",
    "def logistic_predictor_from_data(train_targets, train_regressors):\n",
    "    logit = sm.Logit(train_targets, train_regressors)\n",
    "    predictor = logit.fit(disp=0)\n",
    "    # print(predictor.summary())\n",
    "    return predictor\n",
    "\n",
    "# test_model is the doc2vec model\n",
    "def error_rate_for_model(test_model, train_set, test_set,\n",
    "                         infer=False, infer_steps=3,\n",
    "                         infer_alpha=0.1, infer_subsample=0.1):\n",
    "    \"\"\"Report error rate on test_doc sentiments, using supplied model and train_docs\"\"\"\n",
    "\n",
    "    train_targets, train_regressors = zip(*[(doc.sentiment, test_model.docvecs[doc.tags[0]])\n",
    "                                            for doc in train_set])\n",
    "    train_regressors = sm.add_constant(train_regressors)\n",
    "    predictor = logistic_predictor_from_data(train_targets, train_regressors)\n",
    "\n",
    "    test_data = test_set\n",
    "    if infer:\n",
    "        if infer_subsample < 1.0:\n",
    "            test_data = sample(test_data, int(infer_subsample * len(test_data)))\n",
    "        test_regressors = [test_model.infer_vector(doc.words, steps=infer_steps, alpha=infer_alpha)\n",
    "                           for doc in test_data]\n",
    "    else:\n",
    "        test_regressors = [test_model.docvecs[doc.tags[0]] for doc in test_docs]\n",
    "    test_regressors = sm.add_constant(test_regressors) # Adds a column of ones to an array\n",
    "    \n",
    "    # Predict & evaluate\n",
    "    test_predictions = predictor.predict(test_regressors)\n",
    "    corrects = sum(np.rint(test_predictions) == [doc.sentiment for doc in test_data])\n",
    "    errors = len(test_predictions) - corrects\n",
    "    error_rate = float(errors) / len(test_predictions)\n",
    "    return (error_rate, errors, len(test_predictions), predictor)"
   ]
  },
  {
   "cell_type": "code",
   "execution_count": 14,
   "metadata": {
    "collapsed": true
   },
   "outputs": [],
   "source": [
    "from collections import defaultdict\n",
    "best_error = defaultdict(lambda: 1.0)"
   ]
  },
  {
   "cell_type": "code",
   "execution_count": 15,
   "metadata": {},
   "outputs": [
    {
     "name": "stdout",
     "output_type": "stream",
     "text": [
      "START 2018-01-23 16:10:50.121029\n",
      "*0.412120 : 1 passes : Doc2Vec(dm/c,d100,n5,w5,mc2,s0.001,t4) 33.3s 0.7s\n",
      "*0.362400 : 1 passes : Doc2Vec(dm/c,d100,n5,w5,mc2,s0.001,t4)_inferred 33.3s 7.4s\n",
      "*0.297840 : 1 passes : Doc2Vec(dbow,d100,n5,mc2,s0.001,t4) 8.8s 0.9s\n",
      "*0.230000 : 1 passes : Doc2Vec(dbow,d100,n5,mc2,s0.001,t4)_inferred 8.8s 3.0s\n",
      "*0.278080 : 1 passes : Doc2Vec(dm/m,d100,n5,w10,mc2,s0.001,t4) 13.2s 0.6s\n",
      "*0.209200 : 1 passes : Doc2Vec(dm/m,d100,n5,w10,mc2,s0.001,t4)_inferred 13.2s 4.0s\n",
      "*0.254480 : 1 passes : dbow+dmm 0.0s 1.8s\n",
      "*0.176800 : 1 passes : dbow+dmm_inferred 0.0s 7.8s\n",
      "*0.288600 : 1 passes : dbow+dmc 0.0s 1.7s\n",
      "*0.238800 : 1 passes : dbow+dmc_inferred 0.0s 10.7s\n",
      "Completed pass 1 at alpha 0.025000\n",
      "*0.367720 : 2 passes : Doc2Vec(dm/c,d100,n5,w5,mc2,s0.001,t4) 30.6s 0.6s\n",
      "*0.175000 : 2 passes : Doc2Vec(dbow,d100,n5,mc2,s0.001,t4) 8.7s 0.6s\n",
      "*0.212320 : 2 passes : Doc2Vec(dm/m,d100,n5,w10,mc2,s0.001,t4) 13.1s 0.6s\n",
      "*0.161560 : 2 passes : dbow+dmm 0.0s 1.9s\n",
      "*0.173920 : 2 passes : dbow+dmc 0.0s 1.6s\n",
      "Completed pass 2 at alpha 0.021000\n",
      "*0.345320 : 3 passes : Doc2Vec(dm/c,d100,n5,w5,mc2,s0.001,t4) 29.7s 0.6s\n",
      "*0.150520 : 3 passes : Doc2Vec(dbow,d100,n5,mc2,s0.001,t4) 8.7s 0.6s\n",
      "*0.193360 : 3 passes : Doc2Vec(dm/m,d100,n5,w10,mc2,s0.001,t4) 13.1s 0.9s\n",
      "*0.140200 : 3 passes : dbow+dmm 0.0s 1.8s\n",
      "*0.150480 : 3 passes : dbow+dmc 0.0s 1.8s\n",
      "Completed pass 3 at alpha 0.017000\n",
      "*0.329480 : 4 passes : Doc2Vec(dm/c,d100,n5,w5,mc2,s0.001,t4) 31.9s 0.6s\n",
      "*0.136880 : 4 passes : Doc2Vec(dbow,d100,n5,mc2,s0.001,t4) 9.4s 0.6s\n",
      "*0.182080 : 4 passes : Doc2Vec(dm/m,d100,n5,w10,mc2,s0.001,t4) 14.4s 0.9s\n",
      "*0.129880 : 4 passes : dbow+dmm 0.0s 1.8s\n",
      "*0.136680 : 4 passes : dbow+dmc 0.0s 1.7s\n",
      "Completed pass 4 at alpha 0.013000\n",
      "*0.318960 : 5 passes : Doc2Vec(dm/c,d100,n5,w5,mc2,s0.001,t4) 32.9s 0.8s\n",
      " 0.382800 : 5 passes : Doc2Vec(dm/c,d100,n5,w5,mc2,s0.001,t4)_inferred 32.9s 8.5s\n",
      "*0.129680 : 5 passes : Doc2Vec(dbow,d100,n5,mc2,s0.001,t4) 10.4s 1.1s\n",
      "*0.159200 : 5 passes : Doc2Vec(dbow,d100,n5,mc2,s0.001,t4)_inferred 10.4s 3.8s\n",
      "*0.178560 : 5 passes : Doc2Vec(dm/m,d100,n5,w10,mc2,s0.001,t4) 15.2s 0.7s\n",
      "*0.196800 : 5 passes : Doc2Vec(dm/m,d100,n5,w10,mc2,s0.001,t4)_inferred 15.2s 4.2s\n",
      "*0.123960 : 5 passes : dbow+dmm 0.0s 1.9s\n",
      "*0.157200 : 5 passes : dbow+dmm_inferred 0.0s 8.6s\n",
      "*0.130920 : 5 passes : dbow+dmc 0.0s 2.3s\n",
      "*0.219600 : 5 passes : dbow+dmc_inferred 0.0s 12.3s\n",
      "Completed pass 5 at alpha 0.009000\n",
      "*0.312440 : 6 passes : Doc2Vec(dm/c,d100,n5,w5,mc2,s0.001,t4) 32.2s 0.8s\n",
      "*0.125880 : 6 passes : Doc2Vec(dbow,d100,n5,mc2,s0.001,t4) 10.6s 0.7s\n",
      "*0.176120 : 6 passes : Doc2Vec(dm/m,d100,n5,w10,mc2,s0.001,t4) 16.0s 0.9s\n",
      "*0.120600 : 6 passes : dbow+dmm 0.0s 2.0s\n",
      "*0.125680 : 6 passes : dbow+dmc 0.0s 2.6s\n",
      "Completed pass 6 at alpha 0.005000\n",
      "END 2018-01-23 16:18:08.760945\n"
     ]
    }
   ],
   "source": [
    "from random import shuffle\n",
    "import datetime\n",
    "\n",
    "alpha, min_alpha, passes = (0.025, 0.001, 6)\n",
    "alpha_delta = (alpha - min_alpha) / passes\n",
    "\n",
    "print(\"START %s\" % datetime.datetime.now())\n",
    "\n",
    "for epoch in range(passes):\n",
    "    shuffle(doc_list)  # Shuffling gets best results\n",
    "\n",
    "    for name, train_model in models_by_name.items():\n",
    "        # Train\n",
    "        duration = 'na'\n",
    "        train_model.alpha, train_model.min_alpha = alpha, alpha\n",
    "        with elapsed_timer() as elapsed:\n",
    "            train_model.train(doc_list, total_examples=len(doc_list), epochs=1)\n",
    "            duration = '%.1f' % elapsed()\n",
    "\n",
    "        # Evaluate\n",
    "        eval_duration = ''\n",
    "        with elapsed_timer() as eval_elapsed:\n",
    "            err, err_count, test_count, predictor = error_rate_for_model(train_model, train_docs, test_docs)\n",
    "        eval_duration = '%.1f' % eval_elapsed()\n",
    "        best_indicator = ' '\n",
    "        if err <= best_error[name]:\n",
    "            best_error[name] = err\n",
    "            best_indicator = '*' \n",
    "        print(\"%s%f : %i passes : %s %ss %ss\" % (best_indicator, err, epoch + 1, name, duration, eval_duration))\n",
    "\n",
    "        if ((epoch + 1) % 5) == 0 or epoch == 0:\n",
    "            eval_duration = ''\n",
    "            with elapsed_timer() as eval_elapsed:\n",
    "                infer_err, err_count, test_count, predictor = error_rate_for_model(train_model,\n",
    "                                                                                   train_docs, \n",
    "                                                                                   test_docs, infer=True)\n",
    "            eval_duration = '%.1f' % eval_elapsed()\n",
    "            best_indicator = ' '\n",
    "            if infer_err < best_error[name + '_inferred']:\n",
    "                best_error[name + '_inferred'] = infer_err\n",
    "                best_indicator = '*'\n",
    "            print(\"%s%f : %i passes : %s %ss %ss\" % (best_indicator, infer_err, epoch + 1,\n",
    "                                                     name + '_inferred', duration, eval_duration))\n",
    "\n",
    "    print('Completed pass %i at alpha %f' % (epoch + 1, alpha))\n",
    "    alpha -= alpha_delta\n",
    "    \n",
    "print(\"END %s\" % str(datetime.datetime.now()))"
   ]
  },
  {
   "cell_type": "code",
   "execution_count": 16,
   "metadata": {},
   "outputs": [
    {
     "name": "stdout",
     "output_type": "stream",
     "text": [
      "Err rate Model\n",
      "0.120600 dbow+dmm\n",
      "0.125680 dbow+dmc\n",
      "0.125880 Doc2Vec(dbow,d100,n5,mc2,s0.001,t4)\n",
      "0.157200 dbow+dmm_inferred\n",
      "0.159200 Doc2Vec(dbow,d100,n5,mc2,s0.001,t4)_inferred\n",
      "0.176120 Doc2Vec(dm/m,d100,n5,w10,mc2,s0.001,t4)\n",
      "0.196800 Doc2Vec(dm/m,d100,n5,w10,mc2,s0.001,t4)_inferred\n",
      "0.219600 dbow+dmc_inferred\n",
      "0.312440 Doc2Vec(dm/c,d100,n5,w5,mc2,s0.001,t4)\n",
      "0.362400 Doc2Vec(dm/c,d100,n5,w5,mc2,s0.001,t4)_inferred\n"
     ]
    }
   ],
   "source": [
    "# Print best error rates achieved\n",
    "print(\"Err rate Model\")\n",
    "for rate, name in sorted((rate, name) for name, rate in best_error.items()):\n",
    "    print(\"%f %s\" % (rate, name))"
   ]
  },
  {
   "cell_type": "markdown",
   "metadata": {},
   "source": [
    "### Another fantastic tutorial\n",
    "http://linanqiu.github.io/2015/10/07/word2vec-sentiment/\n",
    "https://medium.com/scaleabout/a-gentle-introduction-to-doc2vec-db3e8c0cce5e"
   ]
  }
 ],
 "metadata": {
  "kernelspec": {
   "display_name": "Python 3",
   "language": "python",
   "name": "python3"
  },
  "language_info": {
   "codemirror_mode": {
    "name": "ipython",
    "version": 3
   },
   "file_extension": ".py",
   "mimetype": "text/x-python",
   "name": "python",
   "nbconvert_exporter": "python",
   "pygments_lexer": "ipython3",
   "version": "3.6.3"
  }
 },
 "nbformat": 4,
 "nbformat_minor": 2
}
