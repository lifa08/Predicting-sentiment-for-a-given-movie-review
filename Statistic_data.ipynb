{
 "cells": [
  {
   "cell_type": "markdown",
   "metadata": {},
   "source": [
    "## Get the statistics about the length of sentences in the dataset"
   ]
  },
  {
   "cell_type": "code",
   "execution_count": 1,
   "metadata": {
    "collapsed": true
   },
   "outputs": [],
   "source": [
    "import numpy\n",
    "import matplotlib.pyplot as plt\n",
    "import pickle"
   ]
  },
  {
   "cell_type": "code",
   "execution_count": 2,
   "metadata": {
    "collapsed": true
   },
   "outputs": [],
   "source": [
    "def load_sentence_lens(path):\n",
    "    '''Obtain the lengths of sentences in train and test set\n",
    "\n",
    "    :type path: String\n",
    "    :param path: The path to the dataset\n",
    "    '''\n",
    "    # print(path)\n",
    "    if path.endswith(\".gz\"):\n",
    "        f = gzip.open(path, 'rb')\n",
    "    else:\n",
    "        f = open(path, 'rb')\n",
    "\n",
    "    train_set = pickle.load(f)\n",
    "    test_set = pickle.load(f)\n",
    "    f.close()\n",
    "\n",
    "    return [len(sen) for sen in train_set[0]], [len(sen) for sen in test_set[0]]"
   ]
  },
  {
   "cell_type": "code",
   "execution_count": 3,
   "metadata": {},
   "outputs": [],
   "source": [
    "data_path = '/Users/lifa08/Local_documents/Machine_Learning/miniproject/gensim/gensim_imdb.pkl'\n",
    "train_len, test_len = load_sentence_lens(path=data_path)"
   ]
  },
  {
   "cell_type": "code",
   "execution_count": 4,
   "metadata": {
    "collapsed": true
   },
   "outputs": [],
   "source": [
    "def statistic(sent_lens):\n",
    "    train_len_np = numpy.array(sent_lens)\n",
    "    print('max len: ' + str(numpy.amax(sent_lens)))\n",
    "    print('min len: ' + str(numpy.amin(sent_lens)))\n",
    "    print('median: ' + str(numpy.median(sent_lens)))\n",
    "\n",
    "    sent_lens_np = train_len_np\n",
    "    print('between 0 and 100: ' + str(((train_len_np < 100) & (train_len_np >= 0)).sum()))\n",
    "    numpy.histogram(train_len_np, bins=(0, 100, 200, 300, 400, 500, 600, 700, 1000, 3000))\n",
    "\n",
    "    # plot\n",
    "    plt.hist(train_len_np, bins=(0, 100, 200, 300, 400, 500, 600, 700, 1000, 1500), density=True)\n",
    "\n",
    "    plt.show()"
   ]
  },
  {
   "cell_type": "code",
   "execution_count": 5,
   "metadata": {},
   "outputs": [
    {
     "name": "stdout",
     "output_type": "stream",
     "text": [
      "max len: 2611\n",
      "min len: 11\n",
      "median: 187.0\n",
      "between 0 and 100: 2564\n"
     ]
    },
    {
     "data": {
      "image/png": "[encoded data removed]",
      "text/plain": [
       "<matplotlib.figure.Figure at 0x10dbc0ef0>"
      ]
     },
     "metadata": {},
     "output_type": "display_data"
    }
   ],
   "source": [
    "statistic(train_len)"
   ]
  },
  {
   "cell_type": "code",
   "execution_count": 6,
   "metadata": {},
   "outputs": [
    {
     "name": "stdout",
     "output_type": "stream",
     "text": [
      "max len: 2395\n",
      "min len: 6\n",
      "median: 185.0\n",
      "between 0 and 100: 2697\n"
     ]
    },
    {
     "data": {
      "image/png": "[encoded data removed]",
      "text/plain": [
       "<matplotlib.figure.Figure at 0x10f3a0470>"
      ]
     },
     "metadata": {},
     "output_type": "display_data"
    }
   ],
   "source": [
    "statistic(test_len)"
   ]
  }
 ],
 "metadata": {
  "kernelspec": {
   "display_name": "Python 3",
   "language": "python",
   "name": "python3"
  },
  "language_info": {
   "codemirror_mode": {
    "name": "ipython",
    "version": 3
   },
   "file_extension": ".py",
   "mimetype": "text/x-python",
   "name": "python",
   "nbconvert_exporter": "python",
   "pygments_lexer": "ipython3",
   "version": "3.6.3"
  }
 },
 "nbformat": 4,
 "nbformat_minor": 2
}
