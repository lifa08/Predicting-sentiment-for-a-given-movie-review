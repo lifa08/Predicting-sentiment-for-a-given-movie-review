{
 "cells": [
  {
   "cell_type": "code",
   "execution_count": 1,
   "metadata": {},
   "outputs": [
    {
     "name": "stderr",
     "output_type": "stream",
     "text": [
      "WARNING (theano.sandbox.cuda): The cuda backend is deprecated and will be removed in the next release (v0.10).  Please switch to the gpuarray backend. You can get more information about how to switch at this URL:\n",
      " https://github.com/Theano/Theano/wiki/Converting-to-the-new-gpu-back-end%28gpuarray%29\n",
      "\n",
      "ERROR (theano.sandbox.cuda): nvcc compiler not found on $PATH. Check your nvcc installation and try again.\n"
     ]
    }
   ],
   "source": [
    "from __future__ import print_function\n",
    "import six.moves.cPickle as pickle\n",
    "\n",
    "from collections import OrderedDict\n",
    "import sys\n",
    "import time\n",
    "import numpy\n",
    "\n",
    "import os\n",
    "os.environ[\"THEANO_FLAGS\"] = \"mode=FAST_RUN,device=gpu2,floatX=float32\"\n",
    "import theano\n",
    "from theano import config\n",
    "import theano.tensor as tensor\n",
    "from theano.sandbox.rng_mrg import MRG_RandomStreams as RandomStreams\n",
    "\n",
    "import imdb\n",
    "import pickle as pkl\n",
    "import gensim"
   ]
  },
  {
   "cell_type": "code",
   "execution_count": 2,
   "metadata": {
    "collapsed": true
   },
   "outputs": [],
   "source": [
    "SEED = 123\n",
    "numpy.random.seed(SEED)"
   ]
  },
  {
   "cell_type": "code",
   "execution_count": 3,
   "metadata": {
    "collapsed": true
   },
   "outputs": [],
   "source": [
    "def adadelta(lr, tparams, grads, x, mask, y, cost):\n",
    "    \"\"\"\n",
    "    An adaptive learning rate optimizer\n",
    "\n",
    "    Parameters\n",
    "    ----------\n",
    "    lr : Theano SharedVariable\n",
    "        Initial learning rate\n",
    "    tpramas: Theano SharedVariable\n",
    "        Model parameters\n",
    "    grads: Theano variable\n",
    "        Gradients of cost w.r.t to parameres\n",
    "    x: Theano variable\n",
    "        Model inputs\n",
    "    mask: Theano variable\n",
    "        Sequence mask\n",
    "    y: Theano variable\n",
    "        Targets\n",
    "    cost: Theano variable\n",
    "        Objective fucntion to minimize\n",
    "\n",
    "    Notes\n",
    "    -----\n",
    "    For more information, see [ADADELTA]_.\n",
    "\n",
    "    .. [ADADELTA] Matthew D. Zeiler, *ADADELTA: An Adaptive Learning\n",
    "       Rate Method*, arXiv:1212.5701.\n",
    "    \"\"\"\n",
    "\n",
    "    zipped_grads = [theano.shared(p.get_value() * numpy_floatX(0.),\n",
    "                                  name='%s_grad' % k)\n",
    "                    for k, p in tparams.items()]\n",
    "    running_up2 = [theano.shared(p.get_value() * numpy_floatX(0.),\n",
    "                                 name='%s_rup2' % k)\n",
    "                   for k, p in tparams.items()]\n",
    "    running_grads2 = [theano.shared(p.get_value() * numpy_floatX(0.),\n",
    "                                    name='%s_rgrad2' % k)\n",
    "                      for k, p in tparams.items()]\n",
    "\n",
    "    zgup = [(zg, g) for zg, g in zip(zipped_grads, grads)]\n",
    "    rg2up = [(rg2, 0.95 * rg2 + 0.05 * (g ** 2))\n",
    "             for rg2, g in zip(running_grads2, grads)]\n",
    "\n",
    "    f_grad_shared = theano.function([x, mask, y], cost, updates=zgup + rg2up,\n",
    "                                    name='adadelta_f_grad_shared')\n",
    "\n",
    "    updir = [-tensor.sqrt(ru2 + 1e-6) / tensor.sqrt(rg2 + 1e-6) * zg\n",
    "             for zg, ru2, rg2 in zip(zipped_grads,\n",
    "                                     running_up2,\n",
    "                                     running_grads2)]\n",
    "    ru2up = [(ru2, 0.95 * ru2 + 0.05 * (ud ** 2))\n",
    "             for ru2, ud in zip(running_up2, updir)]\n",
    "    param_up = [(p, p + ud) for p, ud in zip(tparams.values(), updir)]\n",
    "\n",
    "    f_update = theano.function([lr], [], updates=ru2up + param_up,\n",
    "                               on_unused_input='ignore',\n",
    "                               name='adadelta_f_update')\n",
    "\n",
    "    return f_grad_shared, f_update"
   ]
  },
  {
   "cell_type": "code",
   "execution_count": 4,
   "metadata": {
    "collapsed": true
   },
   "outputs": [],
   "source": [
    "# the same as model_options = locals().copy() in function train_lstm\n",
    "model_options = {}\n",
    "model_options.update({'test_size': 500, 'reload_model': None, 'use_dropout': True,\n",
    "                       'noise_std': 0.0, 'dataset': 'imdb', 'valid_batch_size': 64,\n",
    "                       'batch_size': 16, 'maxlen': 100, 'saveFreq': 1110, 'validFreq': 370,\n",
    "                       'saveto': 'lstm_model.npz', 'encoder': 'vanilla', 'optimizer': adadelta,\n",
    "                       'n_words': 10000, 'lrate': 0.0001, 'decay_c': 0.0, \n",
    "                       'dispFreq': 10, 'max_epochs': 100, 'patience': 10, 'dim_proj': 128})\n",
    "# 7078735  total words  114053  unique words; gensim 114526 unique words 7054759 raw words"
   ]
  },
  {
   "cell_type": "code",
   "execution_count": 6,
   "metadata": {},
   "outputs": [
    {
     "name": "stdout",
     "output_type": "stream",
     "text": [
      "{'test_size': 500, 'reload_model': None, 'use_dropout': True, 'noise_std': 0.0, 'dataset': 'imdb', 'valid_batch_size': 64, 'batch_size': 16, 'maxlen': 100, 'saveFreq': 1110, 'validFreq': 370, 'saveto': 'lstm_model.npz', 'encoder': 'vanilla', 'optimizer': <function adadelta at 0x103536268>, 'n_words': 10000, 'lrate': 0.0001, 'decay_c': 0.0, 'dispFreq': 10, 'max_epochs': 100, 'patience': 10, 'dim_proj': 128}\n"
     ]
    }
   ],
   "source": [
    "print(model_options)"
   ]
  },
  {
   "cell_type": "code",
   "execution_count": 5,
   "metadata": {
    "collapsed": true
   },
   "outputs": [],
   "source": [
    "datasets = {'imdb': (imdb.load_data, imdb.prepare_data)}\n",
    "def get_dataset(name):\n",
    "    return datasets[name][0], datasets[name][1]"
   ]
  },
  {
   "cell_type": "code",
   "execution_count": 6,
   "metadata": {
    "collapsed": true
   },
   "outputs": [],
   "source": [
    "# Get the function names from imdb module\n",
    "load_data, prepare_data = get_dataset(model_options['dataset'])"
   ]
  },
  {
   "cell_type": "code",
   "execution_count": 15,
   "metadata": {
    "collapsed": true
   },
   "outputs": [],
   "source": [
    "def load_data_test(path=\"imdb.pkl\", n_words=100000, valid_portion=0.1, maxlen=None,\n",
    "              sort_by_len=True):\n",
    "\n",
    "    if path.endswith(\".gz\"):\n",
    "        f = gzip.open(path, 'rb')\n",
    "    else:\n",
    "        f = open(path, 'rb')\n",
    "\n",
    "    train_set = pickle.load(f)\n",
    "    test_set = pickle.load(f)\n",
    "    f.close()\n",
    "\n",
    "    if maxlen:\n",
    "        new_train_set_x = []\n",
    "        new_train_set_y = []\n",
    "        for x, y in zip(train_set[0], train_set[1]):\n",
    "            if len(x) < maxlen:\n",
    "                new_train_set_x.append(x)\n",
    "                new_train_set_y.append(y)\n",
    "        train_set = (new_train_set_x, new_train_set_y)\n",
    "        del new_train_set_x, new_train_set_y\n",
    "\n",
    "    # split training set into validation set\n",
    "    train_set_x, train_set_y = train_set\n",
    "    n_samples = len(train_set_x)\n",
    "    sidx = numpy.random.permutation(n_samples)\n",
    "\n",
    "    n_train = int(numpy.round(n_samples * (1. - valid_portion)))\n",
    "    valid_set_x = [train_set_x[s] for s in sidx[n_train:]]\n",
    "    valid_set_y = [train_set_y[s] for s in sidx[n_train:]]\n",
    "    train_set_x = [train_set_x[s] for s in sidx[:n_train]]\n",
    "    train_set_y = [train_set_y[s] for s in sidx[:n_train]]\n",
    "\n",
    "    train_set = (train_set_x, train_set_y)\n",
    "    valid_set = (valid_set_x, valid_set_y)\n",
    "\n",
    "    def remove_unk(x, unk_tok):\n",
    "        return [[unk_tok if w >= n_words else w for w in sen] for sen in x]\n",
    "\n",
    "    test_set_x, test_set_y = test_set\n",
    "    valid_set_x, valid_set_y = valid_set\n",
    "    train_set_x, train_set_y = train_set\n",
    "\n",
    "    model = gensim.models.Word2Vec.load('gensim/imdb_gensim_vmodel')\n",
    "    unk_tok = model.wv.vocab['.'].index\n",
    "\n",
    "    train_set_x = remove_unk(train_set_x, unk_tok)\n",
    "    valid_set_x = remove_unk(valid_set_x, unk_tok)\n",
    "    test_set_x = remove_unk(test_set_x, unk_tok)\n",
    "\n",
    "    def len_argsort(seq):\n",
    "        return sorted(range(len(seq)), key=lambda x: len(seq[x]))\n",
    "\n",
    "    if sort_by_len:\n",
    "        sorted_index = len_argsort(test_set_x)\n",
    "        test_set_x = [test_set_x[i] for i in sorted_index]\n",
    "        test_set_y = [test_set_y[i] for i in sorted_index]\n",
    "\n",
    "        sorted_index = len_argsort(valid_set_x)\n",
    "        valid_set_x = [valid_set_x[i] for i in sorted_index]\n",
    "        valid_set_y = [valid_set_y[i] for i in sorted_index]\n",
    "\n",
    "        sorted_index = len_argsort(train_set_x)\n",
    "        train_set_x = [train_set_x[i] for i in sorted_index]\n",
    "        train_set_y = [train_set_y[i] for i in sorted_index]\n",
    "\n",
    "    train = (train_set_x, train_set_y)\n",
    "    valid = (valid_set_x, valid_set_y)\n",
    "    test = (test_set_x, test_set_y)\n",
    "\n",
    "    return train, valid, test"
   ]
  },
  {
   "cell_type": "code",
   "execution_count": 17,
   "metadata": {},
   "outputs": [
    {
     "name": "stdout",
     "output_type": "stream",
     "text": [
      "Loading data\n"
     ]
    }
   ],
   "source": [
    "# imdb.load_data(n_words, valid_portion, maxlen)\n",
    "print('Loading data')\n",
    "n_words = model_options['n_words'] # Vocabulary size\n",
    "maxlen = model_options['maxlen'] # Sequence longer then this get ignored\n",
    "train, valid, test = load_data(path='gensim/gensim_imdb.pkl', n_words=n_words, valid_portion=0.05)"
   ]
  },
  {
   "cell_type": "code",
   "execution_count": 18,
   "metadata": {},
   "outputs": [
    {
     "name": "stdout",
     "output_type": "stream",
     "text": [
      "[[15, 22, 7, 396, 23, 12, 55, 60, 61, 316, 2], [14, 66, 29, 865, 15, 38, 67, 28, 2966, 2436, 323, 2], [1, 0, 1, 85, 4, 128, 1, 3, 4, 22, 105, 4728, 39]]\n",
      "[0, 0, 0]\n",
      "23750\n"
     ]
    }
   ],
   "source": [
    "# check from imdb.load_data function that train includes train_x, train_y\n",
    "# print some train_x and train_y to get the sense what they look like\n",
    "train_x, train_y = train\n",
    "\n",
    "print(train_x[0:3])\n",
    "print(train_y[0:3])\n",
    "print(len(train_x))"
   ]
  },
  {
   "cell_type": "code",
   "execution_count": 10,
   "metadata": {},
   "outputs": [
    {
     "name": "stdout",
     "output_type": "stream",
     "text": [
      "500\n",
      "25000\n"
     ]
    }
   ],
   "source": [
    "test_size = model_options['test_size']\n",
    "print(test_size)\n",
    "\n",
    "# Select randomly the test_size number of test smaples from test which is much largerb\n",
    "# The test set is sorted by size, but we want to keep random\n",
    "# size example.  So we must select a random selection of the\n",
    "# examples.\n",
    "if test_size > 0:\n",
    "    print(len(test[0]))\n",
    "    idx = numpy.arange(len(test[0])) # test[0] is test_x\n",
    "    numpy.random.shuffle(idx) # shuffle: to rearrange (playing cards, dominoes, tiles, etc.) to produce a random order\n",
    "    idx = idx[:test_size]\n",
    "    test = ([test[0][n] for n in idx], [test[1][n] for n in idx])"
   ]
  },
  {
   "cell_type": "code",
   "execution_count": 54,
   "metadata": {
    "collapsed": true
   },
   "outputs": [],
   "source": [
    "# Get the number of sentimental class\n",
    "ydim = numpy.max(train[1]) + 1 # train_y = train[1]\n",
    "model_options['ydim'] = ydim"
   ]
  },
  {
   "cell_type": "code",
   "execution_count": 56,
   "metadata": {
    "collapsed": true
   },
   "outputs": [],
   "source": [
    "def ortho_weight(ndim):\n",
    "    W = numpy.random.randn(ndim, ndim)\n",
    "    u, s, v = numpy.linalg.svd(W)\n",
    "    return u.astype(config.floatX)"
   ]
  },
  {
   "cell_type": "code",
   "execution_count": 57,
   "metadata": {
    "collapsed": true
   },
   "outputs": [],
   "source": [
    "def _p(pp, name):\n",
    "    return '%s_%s' % (pp, name)"
   ]
  },
  {
   "cell_type": "code",
   "execution_count": 58,
   "metadata": {
    "collapsed": true
   },
   "outputs": [],
   "source": [
    "# Initialize the parameters of lstm layer\n",
    "def param_init_lstm(options, params, prefix='lstm'):\n",
    "    \"\"\"\n",
    "    Init the LSTM parameter:\n",
    "\n",
    "    :see: init_params\n",
    "    \"\"\"\n",
    "    W = numpy.concatenate([ortho_weight(options['dim_proj']),\n",
    "                           ortho_weight(options['dim_proj']),\n",
    "                           ortho_weight(options['dim_proj']),\n",
    "                           ortho_weight(options['dim_proj'])], axis=1)\n",
    "    params[_p(prefix, 'W')] = W # _p is a function to concate prefix and W --> lstm_W\n",
    "    U = numpy.concatenate([ortho_weight(options['dim_proj']),\n",
    "                           ortho_weight(options['dim_proj']),\n",
    "                           ortho_weight(options['dim_proj']),\n",
    "                           ortho_weight(options['dim_proj'])], axis=1)\n",
    "    params[_p(prefix, 'U')] = U\n",
    "    b = numpy.zeros((4 * options['dim_proj'],))\n",
    "    params[_p(prefix, 'b')] = b.astype(config.floatX)\n",
    "\n",
    "    return params"
   ]
  },
  {
   "cell_type": "code",
   "execution_count": 59,
   "metadata": {
    "collapsed": true
   },
   "outputs": [],
   "source": [
    "# state_below is passed in the emb --> the weights in the first layer ? why not X\n",
    "# because emb is the embedding of words which represents words\n",
    "def lstm_layer(tparams, state_below, options, prefix='lstm', mask=None):\n",
    "    nsteps = state_below.shape[0] # time steps namely, the number of words in a sentence\n",
    "    if state_below.ndim == 3:\n",
    "        n_samples = state_below.shape[1] # the number of sentences in a minibatch\n",
    "    else:\n",
    "        n_samples = 1 # in the case of no minibach applied, then train with one sentence at a time\n",
    "\n",
    "    assert mask is not None # sequence mask must be provided\n",
    "\n",
    "    def _slice(_x, n, dim):\n",
    "        if _x.ndim == 3:\n",
    "            return _x[:, :, n * dim:(n + 1) * dim]\n",
    "        return _x[:, n * dim:(n + 1) * dim]\n",
    "\n",
    "    # m_: mask, x_: state_below which is emb * lstm_W + lstm_b\n",
    "    def _step(m_, x_, h_, c_):\n",
    "        preact = tensor.dot(h_, tparams[_p(prefix, 'U')]) # lstm_U*h_t-1\n",
    "        preact += x_ # Wemb * lstm_W + lstm_b + lstm_U*h_t-1\n",
    "\n",
    "        i = tensor.nnet.sigmoid(_slice(preact, 0, options['dim_proj']))\n",
    "        f = tensor.nnet.sigmoid(_slice(preact, 1, options['dim_proj']))\n",
    "        o = tensor.nnet.sigmoid(_slice(preact, 2, options['dim_proj']))\n",
    "        c = tensor.tanh(_slice(preact, 3, options['dim_proj']))\n",
    "\n",
    "        c = f * c_ + i * c # c_ means previous state refer to s[t]= f*s[t-1] + i*s[t]\n",
    "        c = m_[:, None] * c + (1. - m_)[:, None] * c_ # c is of shape (minibatch maxlen, number of sentences\n",
    "                                                    # in a minibatch, word embbdeding size) = (98, 16, 4)\n",
    "        # c = theano.printing.Print('c')(c)\n",
    "\n",
    "        h = o * tensor.tanh(c)\n",
    "        h = m_[:, None] * h + (1. - m_)[:, None] * h_ # ??\n",
    "\n",
    "        return h, c\n",
    "\n",
    "    # emb * lstm_W + lstm_b\n",
    "    state_below = (tensor.dot(state_below, tparams[_p(prefix, 'W')]) +\n",
    "                   tparams[_p(prefix, 'b')])\n",
    "\n",
    "    dim_proj = options['dim_proj']\n",
    "    # scan function, sequence is the input x, nonsequence is ussually not iterated such as w and b\n",
    "    rval, updates = theano.scan(_step,\n",
    "                                sequences=[mask, state_below],\n",
    "                                outputs_info=[tensor.alloc(numpy_floatX(0.),\n",
    "                                                           n_samples,\n",
    "                                                           dim_proj),\n",
    "                                              tensor.alloc(numpy_floatX(0.),\n",
    "                                                           n_samples,\n",
    "                                                           dim_proj)],\n",
    "                                name=_p(prefix, '_layers'),\n",
    "                                n_steps=nsteps) # repeat as the number of words in a sentence\n",
    "    return rval[0] # rval = h which is of shape (n_samples, dim_proj)"
   ]
  },
  {
   "cell_type": "code",
   "execution_count": 60,
   "metadata": {
    "collapsed": true
   },
   "outputs": [],
   "source": [
    "def gru_layer(tparams, state_below, options, prefix='gru', mask=None):\n",
    "    nsteps = state_below.shape[0]\n",
    "    if state_below.ndim == 3:\n",
    "        n_samples = state_below.shape[1]\n",
    "    else:\n",
    "        n_samples = 1\n",
    "\n",
    "    assert mask is not None\n",
    "\n",
    "    def _slice(_x, n, dim):\n",
    "        if _x.ndim == 3:\n",
    "            return _x[:, :, n * dim:(n + 1) * dim]\n",
    "        return _x[:, n * dim:(n + 1) * dim]\n",
    "    \n",
    "    def x_seperate(_x, dim):\n",
    "        if _x.ndim == 3:\n",
    "            return _x[:, :, 0: 2 * dim], _x[:, :, 2 * dim:]\n",
    "        return _x[:, 0: 2 * dim], _x[:, 2 * dim:]\n",
    "\n",
    "    def _step(m_, x_, h_):\n",
    "        _x12, _x3 = x_seperate(x_, model_options['dim_proj'])\n",
    "\n",
    "        preact = tensor.dot(h_, tparams[_p(prefix, 'U')])\n",
    "        preact += _x12\n",
    "\n",
    "        m = tensor.nnet.sigmoid(preact)\n",
    "        r = _slice(m, 0, model_options['dim_proj'])\n",
    "        u = _slice(m, 1, model_options['dim_proj'])\n",
    "\n",
    "        _h = tensor.tanh(_x3 + tensor.dot(r * h_, tparams[_p(prefix, 'W_hh')]))\n",
    "        h = u * h_ + (1.0 - u) * _h\n",
    "\n",
    "        h = m_[:, None] * h + (1. - m_)[:, None] * h_\n",
    "\n",
    "        return h\n",
    "\n",
    "    state_below = (tensor.dot(state_below, tparams[_p(prefix, 'W')]) +\n",
    "                   tparams[_p(prefix, 'b')])\n",
    "\n",
    "    dim_proj = options['dim_proj']\n",
    "    initial_hidden_vector = tensor.alloc(numpy_floatX(0.), n_samples, dim_proj)\n",
    "\n",
    "    rval, updates = theano.scan(_step,\n",
    "                                sequences=[mask, state_below],\n",
    "                                outputs_info=[initial_hidden_vector],\n",
    "                                name=_p(prefix, '_layers'),\n",
    "                                n_steps=nsteps)\n",
    "    return rval[0]"
   ]
  },
  {
   "cell_type": "code",
   "execution_count": 61,
   "metadata": {
    "collapsed": true
   },
   "outputs": [],
   "source": [
    "# Initialize the parameters of gru layer\n",
    "def param_init_gru(options, params, prefix='gru'):\n",
    "    \"\"\"\n",
    "    Init the GRU parameter:\n",
    "\n",
    "    :see: init_params\n",
    "    \"\"\"\n",
    "    W = numpy.concatenate([ortho_weight(options['dim_proj']),\n",
    "                           ortho_weight(options['dim_proj']),\n",
    "                           ortho_weight(options['dim_proj'])], axis=1)\n",
    "    params[_p(prefix, 'W')] = W\n",
    "        \n",
    "    U = numpy.concatenate([ortho_weight(options['dim_proj']),\n",
    "                           ortho_weight(options['dim_proj'])], axis=1)\n",
    "    params[_p(prefix, 'U')] = U\n",
    "\n",
    "    W_hh = ortho_weight(options['dim_proj'])\n",
    "    params[_p(prefix, 'W_hh')] = W_hh\n",
    "\n",
    "    b = numpy.zeros((3 * options['dim_proj'],))\n",
    "    params[_p(prefix, 'b')] = b.astype(config.floatX)\n",
    "\n",
    "    return params"
   ]
  },
  {
   "cell_type": "code",
   "execution_count": 62,
   "metadata": {
    "collapsed": true
   },
   "outputs": [],
   "source": [
    "def vanilla_layer(tparams, state_below, options, prefix='vanilla', mask=None):\n",
    "    nsteps = state_below.shape[0]\n",
    "    if state_below.ndim == 3:\n",
    "        n_samples = state_below.shape[1]\n",
    "    else:\n",
    "        n_samples = 1\n",
    "\n",
    "    assert mask is not None\n",
    "\n",
    "    def _step(m_, x_, h_):\n",
    "        a = x_ + tensor.dot(h_, tparams[_p(prefix, 'W')])\n",
    "        h = tensor.tanh(a)\n",
    "        h = m_[:, None] * h + (1. - m_)[:, None] * h_\n",
    "        return h\n",
    "\n",
    "    state_below = (tensor.dot(state_below, tparams[_p(prefix, 'U')]) +\n",
    "                   tparams[_p(prefix, 'b')])\n",
    "\n",
    "    dim_proj = options['dim_proj']\n",
    "    initial_hidden_vector = tensor.alloc(numpy_floatX(0.), n_samples, dim_proj)\n",
    "\n",
    "    rval, updates = theano.scan(_step,\n",
    "                                sequences=[mask, state_below],\n",
    "                                outputs_info=[initial_hidden_vector],\n",
    "                                name=_p(prefix, '_layers'),\n",
    "                                n_steps=nsteps)\n",
    "    return rval[0]"
   ]
  },
  {
   "cell_type": "code",
   "execution_count": 63,
   "metadata": {
    "collapsed": true
   },
   "outputs": [],
   "source": [
    "def param_init_vanilla(options, params, prefix='vanilla'):\n",
    "    \"\"\"\n",
    "    Init the vanilla RNN parameter:\n",
    "\n",
    "    :see: init_params\n",
    "    \"\"\"\n",
    "    ndim = options['dim_proj']\n",
    "    W_bound = numpy.sqrt(6. / (ndim + ndim))\n",
    "\n",
    "    U = numpy.asarray(numpy.random.uniform(low=-W_bound, high=W_bound, size=(ndim, ndim)))\n",
    "    params[_p(prefix, 'U')] = U.astype(config.floatX)\n",
    "    \n",
    "    W = numpy.asarray(numpy.random.uniform(low=-W_bound, high=W_bound, size=(ndim, ndim)))\n",
    "    params[_p(prefix, 'W')] = W.astype(config.floatX)\n",
    "\n",
    "    b = numpy.zeros(options['dim_proj'],)\n",
    "    params[_p(prefix, 'b')] = b.astype(config.floatX)\n",
    "\n",
    "    return params"
   ]
  },
  {
   "cell_type": "code",
   "execution_count": 64,
   "metadata": {
    "collapsed": true
   },
   "outputs": [],
   "source": [
    "# ff: Feed Forward (normal neural net), only useful to put after lstm\n",
    "#     before the classifier.\n",
    "layers = {'lstm': (param_init_lstm, lstm_layer), \\\n",
    "         'gru': (param_init_gru, gru_layer), \\\n",
    "         'vanilla': (param_init_vanilla, vanilla_layer)}\n",
    "\n",
    "def get_layer(name):\n",
    "    fns = layers[name]\n",
    "    return fns"
   ]
  },
  {
   "cell_type": "code",
   "execution_count": 67,
   "metadata": {
    "collapsed": true
   },
   "outputs": [],
   "source": [
    "def init_params(options):\n",
    "    \"\"\"\n",
    "    Global (not LSTM) parameters. For the embeding and the classifier.\n",
    "    \"\"\"\n",
    "    params = OrderedDict()\n",
    "\n",
    "    # embedding layer\n",
    "    if(options['gensim_Wemb']):\n",
    "        f = open('gensim/gensim_imdb_Wemb.pkl', 'rb')\n",
    "        Wemb = pkl.load(f)\n",
    "        f.close()\n",
    "\n",
    "        params['Wemb'] = (Wemb[:options['n_words']]).astype(config.floatX)\n",
    "        # print(params['Wemb'])\n",
    "    else:\n",
    "        randn = numpy.random.rand(options['n_words'],\n",
    "                                  options['dim_proj']) # n_words = vocabulary size, dim_proj = word embedding size\n",
    "        params['Wemb'] = (0.01 * randn).astype(config.floatX)\n",
    "\n",
    "    # lstm layer\n",
    "    params = get_layer(options['encoder'])[0](options, params, prefix=options['encoder'])\n",
    "\n",
    "    # classifier\n",
    "    params['U'] = 0.01 * numpy.random.randn(options['dim_proj'],\n",
    "                                            options['ydim']).astype(config.floatX)\n",
    "    params['b'] = numpy.zeros((options['ydim'],)).astype(config.floatX)\n",
    "\n",
    "    return params"
   ]
  },
  {
   "cell_type": "code",
   "execution_count": 68,
   "metadata": {},
   "outputs": [
    {
     "name": "stdout",
     "output_type": "stream",
     "text": [
      "[[ 0.23214337  0.22709398 -0.13915879 ..., -0.29400018  0.01327728\n",
      "  -0.22308338]\n",
      " [ 0.32642704  0.20947878 -0.03118606 ..., -0.29324871  0.10518014\n",
      "  -0.21739705]\n",
      " [ 0.24918276  0.22549438 -0.11904836 ..., -0.28879401  0.02009493\n",
      "  -0.21981591]\n",
      " ..., \n",
      " [ 0.0044718   0.00408245  0.00117931 ..., -0.00167246  0.00394396\n",
      "  -0.00034346]\n",
      " [ 0.0036628   0.00454143 -0.00812024 ..., -0.00727811 -0.00245646\n",
      "  -0.00324976]\n",
      " [ 0.0039031   0.00190716  0.00041667 ...,  0.0007948   0.00038007\n",
      "  -0.00230217]]\n"
     ]
    }
   ],
   "source": [
    "params = init_params(model_options)"
   ]
  },
  {
   "cell_type": "code",
   "execution_count": 69,
   "metadata": {
    "collapsed": true
   },
   "outputs": [],
   "source": [
    "def init_tparams(params):\n",
    "    tparams = OrderedDict()\n",
    "    for kk, pp in params.items():\n",
    "        tparams[kk] = theano.shared(params[kk], name=kk)\n",
    "    return tparams"
   ]
  },
  {
   "cell_type": "code",
   "execution_count": 71,
   "metadata": {
    "collapsed": true
   },
   "outputs": [],
   "source": [
    "# This create Theano Shared Variable from the parameters.\n",
    "# Dict name (string) -> Theano Tensor Shared Variable\n",
    "# params and tparams have different copy of the weights. --> dont know why use different copies\n",
    "tparams = init_tparams(params)"
   ]
  },
  {
   "cell_type": "code",
   "execution_count": 72,
   "metadata": {},
   "outputs": [
    {
     "name": "stdout",
     "output_type": "stream",
     "text": [
      "[7534  128]\n"
     ]
    }
   ],
   "source": [
    "emb = tparams['Wemb']\n",
    "print(emb.shape.eval())"
   ]
  },
  {
   "cell_type": "code",
   "execution_count": 73,
   "metadata": {
    "collapsed": true
   },
   "outputs": [],
   "source": [
    "# state_before is proj namely hidden state\n",
    "def dropout_layer(state_before, use_noise, trng):\n",
    "    proj = tensor.switch(use_noise,\n",
    "                         (state_before *\n",
    "                          trng.binomial(state_before.shape,\n",
    "                                        p=0.5, n=1,\n",
    "                                        dtype=state_before.dtype)),\n",
    "                         state_before * 0.5)\n",
    "    return proj"
   ]
  },
  {
   "cell_type": "code",
   "execution_count": 74,
   "metadata": {
    "collapsed": true
   },
   "outputs": [],
   "source": [
    "def numpy_floatX(data):\n",
    "    return numpy.asarray(data, dtype=config.floatX)"
   ]
  },
  {
   "cell_type": "code",
   "execution_count": 75,
   "metadata": {
    "collapsed": true
   },
   "outputs": [],
   "source": [
    "def build_model(tparams, options):\n",
    "    trng = RandomStreams(SEED)\n",
    "\n",
    "    # Used for dropout.\n",
    "    use_noise = theano.shared(numpy_floatX(0.)) # --> [0], thus this line of code is the same as use_noise=[0]\n",
    "\n",
    "    x = tensor.matrix('x', dtype='int64') # x is a sentence with each word form a row?\n",
    "    mask = tensor.matrix('mask', dtype=config.floatX) # sequence mask\n",
    "    y = tensor.vector('y', dtype='int64')\n",
    "\n",
    "    n_timesteps = x.shape[0] # number of words per sentence\n",
    "    n_samples = x.shape[1] # number of sentences in a minibatch\n",
    "\n",
    "    # x.flatten() --> number of words * word embeded\n",
    "    emb = tparams['Wemb'][x.flatten()].reshape([n_timesteps,\n",
    "                                                n_samples,\n",
    "                                                options['dim_proj']]) # each word in the sentence\n",
    "                                                                      # get different weights\n",
    "\n",
    "    # call get_layer(options['encoder'])[1] --> lstm_layer --> lstm_layer(tparams,...,)\n",
    "    # here emb is used to initialize states_below in lstm_layer function\n",
    "    proj = get_layer(options['encoder'])[1](tparams, emb, options,\n",
    "                                            prefix=options['encoder'],\n",
    "                                            mask=mask)\n",
    "\n",
    "    projshape = theano.printing.Print('proj')(proj.shape)\n",
    "    # mean over word hidden representations in a sentence, proj is of shape(n_samples, dim_proj)\n",
    "    if options['encoder'] == 'lstm' or options['encoder'] == 'gru':\n",
    "        proj = (proj * mask[:, :, None]).sum(axis=0) # add up the hidden representations of all words in a sentence\n",
    "        proj = proj / mask.sum(axis=0)[:, None] # mask.sum(axis=0) is the length of sentence without padding\n",
    "    if options['use_dropout']:\n",
    "        proj = dropout_layer(proj, use_noise, trng)\n",
    "\n",
    "    # last layer\n",
    "    pred = tensor.nnet.softmax(tensor.dot(proj, tparams['U']) + tparams['b'])\n",
    "    # pred is the probability of a sentence belonging to a class. It is of shape (n_samples, class)\n",
    "\n",
    "    f_pred_prob = theano.function([x, mask], pred, name='f_pred_prob')\n",
    "    f_pred = theano.function([x, mask], pred.argmax(axis=1), name='f_pred')\n",
    "\n",
    "    off = 1e-8\n",
    "    if pred.dtype == 'float16':\n",
    "        off = 1e-6\n",
    "\n",
    "    # get the probability of the right class and calculate its negative log. --> negative log likelihood\n",
    "    cost = -tensor.log(pred[tensor.arange(n_samples), y] + off).mean()\n",
    "\n",
    "    return use_noise, x, mask, y, f_pred_prob, f_pred, cost"
   ]
  },
  {
   "cell_type": "code",
   "execution_count": 76,
   "metadata": {
    "collapsed": true
   },
   "outputs": [],
   "source": [
    "# What this step do?\n",
    "(use_noise, x, mask,\n",
    " y, f_pred_prob, f_pred, cost) = build_model(tparams, model_options)"
   ]
  },
  {
   "cell_type": "code",
   "execution_count": 77,
   "metadata": {
    "collapsed": true
   },
   "outputs": [],
   "source": [
    "# add weight decay\n",
    "decay_c = model_options['decay_c']\n",
    "if decay_c > 0.:\n",
    "    decay_c = theano.shared(numpy_floatX(decay_c), name='decay_c')\n",
    "    weight_decay = 0.\n",
    "    weight_decay += (tparams['U'] ** 2).sum()\n",
    "    weight_decay *= decay_c\n",
    "    cost += weight_decay"
   ]
  },
  {
   "cell_type": "code",
   "execution_count": 78,
   "metadata": {
    "collapsed": true
   },
   "outputs": [],
   "source": [
    "# define cost that includes weight decay\n",
    "f_cost = theano.function([x, mask, y], cost, name='f_cost')"
   ]
  },
  {
   "cell_type": "code",
   "execution_count": 79,
   "metadata": {
    "collapsed": true
   },
   "outputs": [],
   "source": [
    "# define gradient functions\n",
    "grads = tensor.grad(cost, wrt=list(tparams.values()))\n",
    "f_grad = theano.function([x, mask, y], grads, name='f_grad')"
   ]
  },
  {
   "cell_type": "code",
   "execution_count": 80,
   "metadata": {
    "collapsed": true
   },
   "outputs": [],
   "source": [
    "# define optmizer\n",
    "optimizer = model_options['optimizer']\n",
    "lr = tensor.scalar(name='lr')\n",
    "f_grad_shared, f_update = optimizer(lr, tparams, grads,\n",
    "                                        x, mask, y, cost)"
   ]
  },
  {
   "cell_type": "code",
   "execution_count": 81,
   "metadata": {
    "collapsed": true
   },
   "outputs": [],
   "source": [
    "def get_minibatches_idx(n, minibatch_size, shuffle=False):\n",
    "    \"\"\"\n",
    "    Used to shuffle the dataset at each iteration.\n",
    "    \"\"\"\n",
    "\n",
    "    idx_list = numpy.arange(n, dtype=\"int32\")\n",
    "\n",
    "    if shuffle:\n",
    "        numpy.random.shuffle(idx_list)\n",
    "\n",
    "    minibatches = []\n",
    "    minibatch_start = 0\n",
    "    for i in range(n // minibatch_size):\n",
    "        minibatches.append(idx_list[minibatch_start:\n",
    "                                    minibatch_start + minibatch_size])\n",
    "        minibatch_start += minibatch_size\n",
    "\n",
    "    if (minibatch_start != n):\n",
    "        # Make a minibatch out of what is left\n",
    "        minibatches.append(idx_list[minibatch_start:])\n",
    "\n",
    "    return zip(range(len(minibatches)), minibatches)"
   ]
  },
  {
   "cell_type": "code",
   "execution_count": 82,
   "metadata": {},
   "outputs": [
    {
     "name": "stdout",
     "output_type": "stream",
     "text": [
      "Optimization\n"
     ]
    }
   ],
   "source": [
    "print('Optimization')\n",
    "valid_batch_size = model_options['valid_batch_size']\n",
    "kf_valid = get_minibatches_idx(len(valid[0]), valid_batch_size)\n",
    "kf_test = get_minibatches_idx(len(test[0]), valid_batch_size)"
   ]
  },
  {
   "cell_type": "code",
   "execution_count": 83,
   "metadata": {},
   "outputs": [
    {
     "name": "stdout",
     "output_type": "stream",
     "text": [
      "190 train examples\n",
      "10 valid examples\n",
      "200 test examples\n"
     ]
    }
   ],
   "source": [
    "print(\"%d train examples\" % len(train[0]))\n",
    "print(\"%d valid examples\" % len(valid[0]))\n",
    "print(\"%d test examples\" % len(test[0]))"
   ]
  },
  {
   "cell_type": "code",
   "execution_count": 84,
   "metadata": {
    "collapsed": true
   },
   "outputs": [],
   "source": [
    "history_errs = []\n",
    "best_p = None # for storing best parameters\n",
    "bad_count = 0"
   ]
  },
  {
   "cell_type": "code",
   "execution_count": 85,
   "metadata": {
    "collapsed": true
   },
   "outputs": [],
   "source": [
    "# Compute the validation error after this number of update.\n",
    "validFreq = model_options['validFreq']\n",
    "\n",
    "# The batch size during training.\n",
    "batch_size = model_options['batch_size']\n",
    "\n",
    "saveFreq = model_options['saveFreq']\n",
    "\n",
    "if validFreq == -1:\n",
    "    validFreq = len(train[0]) // batch_size\n",
    "if saveFreq == -1:\n",
    "    saveFreq = len(train[0]) // batch_size"
   ]
  },
  {
   "cell_type": "code",
   "execution_count": 86,
   "metadata": {
    "collapsed": true
   },
   "outputs": [],
   "source": [
    "uidx = 0  # the number of update done\n",
    "estop = False  # early stop"
   ]
  },
  {
   "cell_type": "code",
   "execution_count": 87,
   "metadata": {
    "collapsed": true
   },
   "outputs": [],
   "source": [
    "def unzip(zipped):\n",
    "    \"\"\"\n",
    "    When we pickle the model. Needed for the GPU stuff.\n",
    "    \"\"\"\n",
    "    new_params = OrderedDict()\n",
    "    for kk, vv in zipped.items():\n",
    "        new_params[kk] = vv.get_value()\n",
    "    return new_params"
   ]
  },
  {
   "cell_type": "code",
   "execution_count": 88,
   "metadata": {
    "collapsed": true
   },
   "outputs": [],
   "source": [
    "def zipp(params, tparams):\n",
    "    \"\"\"\n",
    "    When we reload the model. Needed for the GPU stuff.\n",
    "    \"\"\"\n",
    "    for kk, vv in params.items():\n",
    "        tparams[kk].set_value(vv)"
   ]
  },
  {
   "cell_type": "code",
   "execution_count": 89,
   "metadata": {
    "collapsed": true
   },
   "outputs": [],
   "source": [
    "def pred_error(f_pred, prepare_data, data, iterator, verbose=False):\n",
    "    \"\"\"\n",
    "    Just compute the error\n",
    "    f_pred: Theano fct computing the prediction\n",
    "    prepare_data: usual prepare_data for that dataset.\n",
    "    \"\"\"\n",
    "    valid_err = 0\n",
    "    for _, valid_index in iterator:\n",
    "        x, mask, y = prepare_data([data[0][t] for t in valid_index],\n",
    "                                  numpy.array(data[1])[valid_index],\n",
    "                                  maxlen=None)\n",
    "        preds = f_pred(x, mask)\n",
    "        targets = numpy.array(data[1])[valid_index]\n",
    "        valid_err += (preds == targets).sum()\n",
    "    valid_err = 1. - numpy_floatX(valid_err) / len(data[0])\n",
    "\n",
    "    return valid_err"
   ]
  },
  {
   "cell_type": "code",
   "execution_count": 90,
   "metadata": {},
   "outputs": [
    {
     "name": "stdout",
     "output_type": "stream",
     "text": [
      "Epoch  0 Update  10 Cost  0.6952233910560608\n",
      "Seen 190 samples\n",
      "Epoch  1 Update  20 Cost  0.6714669466018677\n",
      "Seen 190 samples\n",
      "Epoch  2 Update  30 Cost  0.6950305700302124\n",
      "Seen 190 samples\n",
      "Epoch  3 Update  40 Cost  0.6977871060371399\n",
      "Seen 190 samples\n",
      "Epoch  4 Update  50 Cost  0.689307451248169\n",
      "Epoch  4 Update  60 Cost  0.7125126123428345\n",
      "Seen 190 samples\n",
      "Epoch  5 Update  70 Cost  0.7043824195861816\n",
      "Seen 190 samples\n",
      "Epoch  6 Update  80 Cost  0.7036417126655579\n",
      "Seen 190 samples\n",
      "Epoch  7 Update  90 Cost  0.6772223711013794\n",
      "Seen 190 samples\n",
      "Epoch  8 Update  100 Cost  0.6848430633544922\n",
      "Seen 190 samples\n",
      "Epoch  9 Update  110 Cost  0.6901675462722778\n",
      "Epoch  9 Update  120 Cost  0.6769610643386841\n",
      "Seen 190 samples\n",
      "Epoch  10 Update  130 Cost  0.6789525747299194\n",
      "Seen 190 samples\n",
      "Epoch  11 Update  140 Cost  0.7082839608192444\n",
      "Seen 190 samples\n",
      "Epoch  12 Update  150 Cost  0.6754332184791565\n",
      "Seen 190 samples\n",
      "Epoch  13 Update  160 Cost  0.7008559107780457\n",
      "Seen 190 samples\n",
      "Epoch  14 Update  170 Cost  0.6579836010932922\n",
      "Epoch  14 Update  180 Cost  0.6918386816978455\n",
      "Seen 190 samples\n",
      "Epoch  15 Update  190 Cost  0.7907167077064514\n",
      "Seen 190 samples\n",
      "Epoch  16 Update  200 Cost  0.6600497364997864\n",
      "Seen 190 samples\n",
      "Epoch  17 Update  210 Cost  0.6802575588226318\n",
      "Seen 190 samples\n",
      "Epoch  18 Update  220 Cost  0.6953369379043579\n",
      "Seen 190 samples\n",
      "Epoch  19 Update  230 Cost  0.6755378246307373\n",
      "Epoch  19 Update  240 Cost  0.6751789450645447\n",
      "Seen 190 samples\n",
      "Epoch  20 Update  250 Cost  0.5625070333480835\n",
      "Seen 190 samples\n",
      "Epoch  21 Update  260 Cost  0.613463282585144\n",
      "Seen 190 samples\n",
      "Epoch  22 Update  270 Cost  0.6134650111198425\n",
      "Seen 190 samples\n",
      "Epoch  23 Update  280 Cost  0.6655939221382141\n",
      "Seen 190 samples\n",
      "Epoch  24 Update  290 Cost  1.176270604133606\n",
      "Epoch  24 Update  300 Cost  0.6460996866226196\n",
      "Seen 190 samples\n",
      "Epoch  25 Update  310 Cost  0.6630631685256958\n",
      "Seen 190 samples\n",
      "Epoch  26 Update  320 Cost  0.5624374151229858\n",
      "Seen 190 samples\n",
      "Epoch  27 Update  330 Cost  0.547333836555481\n",
      "Seen 190 samples\n",
      "Epoch  28 Update  340 Cost  0.5872389674186707\n",
      "Seen 190 samples\n",
      "Epoch  29 Update  350 Cost  0.5012906789779663\n",
      "Epoch  29 Update  360 Cost  0.5684274435043335\n",
      "Seen 190 samples\n",
      "Epoch  30 Update  370 Cost  0.4944015443325043\n",
      "Train  0.868421052632 Valid  0.5 Test  0.435\n",
      "Seen 160 samples\n",
      "Epoch  31 Update  380 Cost  0.4871417284011841\n",
      "Seen 190 samples\n",
      "Epoch  32 Update  390 Cost  0.4561994969844818\n",
      "Seen 190 samples\n",
      "Epoch  33 Update  400 Cost  0.433064341545105\n",
      "Seen 190 samples\n",
      "Epoch  34 Update  410 Cost  1.152390480041504\n",
      "Seen 190 samples\n",
      "Epoch  35 Update  420 Cost  0.5247058868408203\n",
      "Epoch  35 Update  430 Cost  0.4884660243988037\n",
      "Seen 190 samples\n",
      "Epoch  36 Update  440 Cost  0.4874965250492096\n",
      "Seen 190 samples\n",
      "Epoch  37 Update  450 Cost  0.43782100081443787\n",
      "Seen 190 samples\n",
      "Epoch  38 Update  460 Cost  0.39423900842666626\n",
      "Seen 190 samples\n",
      "Epoch  39 Update  470 Cost  0.5031894445419312\n",
      "Seen 190 samples\n",
      "Epoch  40 Update  480 Cost  0.5944942831993103\n",
      "Epoch  40 Update  490 Cost  0.43247947096824646\n",
      "Seen 190 samples\n",
      "Epoch  41 Update  500 Cost  0.5376884341239929\n",
      "Seen 190 samples\n",
      "Epoch  42 Update  510 Cost  0.81196129322052\n",
      "Seen 190 samples\n",
      "Epoch  43 Update  520 Cost  0.6693535447120667\n",
      "Seen 190 samples\n",
      "Epoch  44 Update  530 Cost  0.2103128433227539\n",
      "Seen 190 samples\n",
      "Epoch  45 Update  540 Cost  0.42655807733535767\n",
      "Epoch  45 Update  550 Cost  0.42090263962745667\n",
      "Seen 190 samples\n",
      "Epoch  46 Update  560 Cost  0.5357693433761597\n",
      "Seen 190 samples\n",
      "Epoch  47 Update  570 Cost  0.5401927828788757\n",
      "Seen 190 samples\n",
      "Epoch  48 Update  580 Cost  0.27601882815361023\n",
      "Seen 190 samples\n",
      "Epoch  49 Update  590 Cost  0.5296239256858826\n",
      "Seen 190 samples\n",
      "Epoch  50 Update  600 Cost  0.4212265610694885\n",
      "Epoch  50 Update  610 Cost  0.5992708206176758\n",
      "Seen 190 samples\n",
      "Epoch  51 Update  620 Cost  0.3560605049133301\n",
      "Seen 190 samples\n",
      "Epoch  52 Update  630 Cost  0.31298714876174927\n",
      "Seen 190 samples\n",
      "Epoch  53 Update  640 Cost  0.6892620921134949\n",
      "Seen 190 samples\n",
      "Epoch  54 Update  650 Cost  0.4604330360889435\n",
      "Seen 190 samples\n",
      "Epoch  55 Update  660 Cost  0.4973902106285095\n",
      "Epoch  55 Update  670 Cost  0.2966865003108978\n",
      "Seen 190 samples\n",
      "Epoch  56 Update  680 Cost  0.5801676511764526\n",
      "Seen 190 samples\n",
      "Training interupted\n",
      "Train  0.263157894737 Valid  0.5 Test  0.435\n",
      "The code run for 58 epochs, with 2.811763 sec/epochs\n"
     ]
    },
    {
     "name": "stderr",
     "output_type": "stream",
     "text": [
      "Training took 163.1s\n"
     ]
    }
   ],
   "source": [
    "max_epochs = model_options['max_epochs']\n",
    "dispFreq = model_options['dispFreq'] # Display to stdout the training progress every N updates\n",
    "saveFreq = model_options['saveFreq']\n",
    "saveto = model_options['saveto'] # The best model will be saved there\n",
    "\n",
    "lrate = model_options['lrate']\n",
    "patience = model_options['patience']\n",
    "\n",
    "train_costs = numpy.array([]) # add for plot\n",
    "train_accus = numpy.array([])\n",
    "\n",
    "start_time = time.time()\n",
    "try:\n",
    "    for eidx in range(max_epochs):\n",
    "        n_samples = 0 # the number of sentence\n",
    "\n",
    "        # Get new shuffled index for the training set.\n",
    "        kf = get_minibatches_idx(len(train[0]), batch_size, shuffle=True)\n",
    "\n",
    "        for _, train_index in kf:\n",
    "            uidx += 1\n",
    "            use_noise.set_value(1.) # going to use noise\n",
    "\n",
    "            # Select the random examples for this minibatch\n",
    "            y = [train[1][t] for t in train_index]\n",
    "            x = [train[0][t] for t in train_index] # wrap 16 sentences into an array \n",
    "                                        # as a result, x is of 2 dimensions, size of 1998/16 * 16 sentences\n",
    "            # Get the data in numpy.ndarray format\n",
    "            # This swap the axis!\n",
    "            # Return something of shape (minibatch maxlen, n samples)\n",
    "            # n_samples is the number of sentences in a minibatch\n",
    "            x, mask, y = prepare_data(x, y) # all the sentence will have the same length which is minibatch maxlen\n",
    "            n_samples += x.shape[1] # x.shape[1] is the number of sentence in a minibatch\n",
    "\n",
    "            cost = f_grad_shared(x, mask, y) # call the model\n",
    "            f_update(lrate)\n",
    "\n",
    "            accuracy = (f_pred(x, mask) == y).sum() / len(y)\n",
    "            train_costs = numpy.append(train_costs, cost)\n",
    "            train_accus = numpy.append(train_accus, accuracy)\n",
    "\n",
    "            if numpy.isnan(cost) or numpy.isinf(cost):\n",
    "                print('bad cost detected: ', cost)\n",
    "                break\n",
    "            if numpy.mod(uidx, dispFreq) == 0:\n",
    "                print('Epoch ', eidx, 'Update ', uidx, 'Cost ', cost)\n",
    "            if saveto and numpy.mod(uidx, saveFreq) == 0:\n",
    "                print('Saving...')\n",
    "\n",
    "                if best_p is not None:\n",
    "                    params = best_p\n",
    "                else:\n",
    "                    params = unzip(tparams)\n",
    "                    numpy.savez(saveto, history_errs=history_errs, **params)\n",
    "                    pickle.dump(model_options, open('%s.pkl' % saveto, 'wb'), -1)\n",
    "                    print('Done')\n",
    "            if numpy.mod(uidx, validFreq) == 0:\n",
    "                use_noise.set_value(0.) # at validation stage, dont use noise\n",
    "                train_err = pred_error(f_pred, prepare_data, train, kf)\n",
    "                valid_err = pred_error(f_pred, prepare_data, valid, kf_valid)\n",
    "                test_err = pred_error(f_pred, prepare_data, test, kf_test)\n",
    "\n",
    "                kf_valid = get_minibatches_idx(len(valid[0]), valid_batch_size)\n",
    "                kf_test = get_minibatches_idx(len(test[0]), valid_batch_size)\n",
    "\n",
    "                history_errs.append([valid_err, test_err])\n",
    "\n",
    "                if (best_p is None or\n",
    "                    valid_err <= numpy.array(history_errs)[:, 0].min()):\n",
    "\n",
    "                    best_p = unzip(tparams)\n",
    "                    bad_counter = 0\n",
    "\n",
    "                print('Train ', train_err, 'Valid ', valid_err,\n",
    "                       'Test ', test_err)\n",
    "\n",
    "                if (len(history_errs) > patience and\n",
    "                    valid_err >= numpy.array(history_errs)[:-patience,\n",
    "                                                           0].min()):\n",
    "                    bad_counter += 1\n",
    "                    if bad_counter > patience:\n",
    "                        print('Early Stop!')\n",
    "                        estop = True\n",
    "                        break\n",
    "\n",
    "        print('Seen %d samples' % n_samples)\n",
    "\n",
    "        if estop:\n",
    "            break\n",
    "\n",
    "except KeyboardInterrupt:\n",
    "    print(\"Training interupted\")\n",
    "\n",
    "end_time = time.time()\n",
    "\n",
    "if best_p is not None:\n",
    "    zipp(best_p, tparams)\n",
    "else:\n",
    "    best_p = unzip(tparams)\n",
    "\n",
    "use_noise.set_value(0.)\n",
    "kf_train_sorted = get_minibatches_idx(len(train[0]), batch_size)\n",
    "train_err = pred_error(f_pred, prepare_data, train, kf_train_sorted)\n",
    "valid_err = pred_error(f_pred, prepare_data, valid, kf_valid)\n",
    "test_err = pred_error(f_pred, prepare_data, test, kf_test)\n",
    "\n",
    "print( 'Train ', train_err, 'Valid ', valid_err, 'Test ', test_err )\n",
    "if saveto:\n",
    "    numpy.savez(saveto, train_err=train_err,\n",
    "                valid_err=valid_err, test_err=test_err,\n",
    "                history_errs=history_errs, **best_p)\n",
    "print('The code run for %d epochs, with %f sec/epochs' % (\n",
    "    (eidx + 1), (end_time - start_time) / (1. * (eidx + 1))))\n",
    "print( ('Training took %.1fs' %\n",
    "        (end_time - start_time)), file=sys.stderr)"
   ]
  },
  {
   "cell_type": "code",
   "execution_count": 91,
   "metadata": {},
   "outputs": [
    {
     "name": "stdout",
     "output_type": "stream",
     "text": [
      "685\n"
     ]
    }
   ],
   "source": [
    "print(len(train_costs))"
   ]
  },
  {
   "cell_type": "code",
   "execution_count": 92,
   "metadata": {},
   "outputs": [
    {
     "data": {
      "image/png": "[encoded data removed]",
      "text/plain": [
       "<matplotlib.figure.Figure at 0x1c196a9748>"
      ]
     },
     "metadata": {},
     "output_type": "display_data"
    },
    {
     "data": {
      "image/png": "[encoded data removed]",
      "text/plain": [
       "<matplotlib.figure.Figure at 0x1c15045d68>"
      ]
     },
     "metadata": {},
     "output_type": "display_data"
    }
   ],
   "source": [
    "import matplotlib.pyplot as plt\n",
    "\n",
    "fig_tr, ax_tr = plt.subplots(1, 2, figsize=(16, 4))\n",
    "fig_tr.suptitle(\"Cost and Accuracy on Training Set\")\n",
    "\n",
    "ax_tr[0].plot(train_costs, '-r')\n",
    "ax_tr[0].set_xlabel('Iterations')\n",
    "ax_tr[0].set_ylabel('Cost')\n",
    "\n",
    "ax_tr[1].plot(train_accus, '-g')\n",
    "ax_tr[1].set_xlabel('Iterations')\n",
    "ax_tr[1].set_ylabel('Accuracy')\n",
    "\n",
    "fig_tr.subplots_adjust(wspace=.4)\n",
    "plt.show()\n",
    "\n",
    "fig_v, ax_v = plt.subplots(1, 2, figsize=(16, 4))\n",
    "fig_v.suptitle(\"Validation and test error rates\")\n",
    "\n",
    "ax_v[0].plot(numpy.array(history_errs)[:,0], '-r')\n",
    "ax_v[0].set_xlabel('Iterations')\n",
    "ax_v[0].set_ylabel('Validation error rate')\n",
    "\n",
    "ax_v[1].plot(numpy.array(history_errs)[:,1], '-g')\n",
    "ax_v[1].set_xlabel('Iterations')\n",
    "ax_v[1].set_ylabel('Test error rate')\n",
    "\n",
    "fig_v.subplots_adjust(wspace=.4)\n",
    "plt.show()\n",
    "fig_v.savefig('errs.png')"
   ]
  }
 ],
 "metadata": {
  "kernelspec": {
   "display_name": "Python 3",
   "language": "python",
   "name": "python3"
  },
  "language_info": {
   "codemirror_mode": {
    "name": "ipython",
    "version": 3
   },
   "file_extension": ".py",
   "mimetype": "text/x-python",
   "name": "python",
   "nbconvert_exporter": "python",
   "pygments_lexer": "ipython3",
   "version": "3.6.3"
  }
 },
 "nbformat": 4,
 "nbformat_minor": 2
}
