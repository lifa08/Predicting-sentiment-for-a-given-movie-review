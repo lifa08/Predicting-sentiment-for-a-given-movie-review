{
 "cells": [
  {
   "cell_type": "markdown",
   "metadata": {},
   "source": [
    "## Method 1: use RNN(Recurrent Neural Network) to predict the sentimental polarity of a given document\n",
    "\n",
    "RNN includes LSTM (Long Short Term Memory), GRN( Gated Re- current Units) and the vanilla RNN.\n",
    "\n",
    "Running the training can take 30 minutes or more."
   ]
  },
  {
   "cell_type": "code",
   "execution_count": 1,
   "metadata": {},
   "outputs": [
    {
     "data": {
      "image/png": "[encoded data removed]",
      "text/plain": [
       "<IPython.core.display.Image object>"
      ]
     },
     "execution_count": 1,
     "metadata": {},
     "output_type": "execute_result"
    }
   ],
   "source": [
    "from IPython.display import Image\n",
    "Image(\"../img/Method1/LSTM.png\")"
   ]
  },
  {
   "cell_type": "code",
   "execution_count": 2,
   "metadata": {
    "collapsed": true
   },
   "outputs": [],
   "source": [
    "from __future__ import print_function\n",
    "import six.moves.cPickle as pickle\n",
    "\n",
    "from collections import OrderedDict\n",
    "import sys\n",
    "import time\n",
    "import numpy\n",
    "\n",
    "import os\n",
    "os.environ[\"THEANO_FLAGS\"] = \"mode=FAST_RUN,device=cpu,floatX=float32\"\n",
    "import theano\n",
    "from theano import config\n",
    "import theano.tensor as tensor\n",
    "from theano.sandbox.rng_mrg import MRG_RandomStreams as RandomStreams\n",
    "\n",
    "sys.path.append('../script')\n",
    "import imdb"
   ]
  },
  {
   "cell_type": "code",
   "execution_count": 3,
   "metadata": {
    "collapsed": true
   },
   "outputs": [],
   "source": [
    "SEED = 123\n",
    "numpy.random.seed(SEED)"
   ]
  },
  {
   "cell_type": "code",
   "execution_count": 4,
   "metadata": {
    "collapsed": true
   },
   "outputs": [],
   "source": [
    "def adadelta(lr, tparams, grads, x, mask, y, cost):\n",
    "    \"\"\"\n",
    "    An adaptive learning rate optimizer\n",
    "\n",
    "    Parameters\n",
    "    ----------\n",
    "    lr : Theano SharedVariable\n",
    "        Initial learning rate\n",
    "    tpramas: Theano SharedVariable\n",
    "        Model parameters\n",
    "    grads: Theano variable\n",
    "        Gradients of cost w.r.t to parameres\n",
    "    x: Theano variable\n",
    "        Model inputs\n",
    "    mask: Theano variable\n",
    "        Sequence mask\n",
    "    y: Theano variable\n",
    "        Targets\n",
    "    cost: Theano variable\n",
    "        Objective fucntion to minimize\n",
    "\n",
    "    Notes\n",
    "    -----\n",
    "    For more information, see [ADADELTA]_.\n",
    "\n",
    "    .. [ADADELTA] Matthew D. Zeiler, *ADADELTA: An Adaptive Learning\n",
    "       Rate Method*, arXiv:1212.5701.\n",
    "    \"\"\"\n",
    "\n",
    "    zipped_grads = [theano.shared(p.get_value() * numpy_floatX(0.),\n",
    "                                  name='%s_grad' % k)\n",
    "                    for k, p in tparams.items()]\n",
    "    running_up2 = [theano.shared(p.get_value() * numpy_floatX(0.),\n",
    "                                 name='%s_rup2' % k)\n",
    "                   for k, p in tparams.items()]\n",
    "    running_grads2 = [theano.shared(p.get_value() * numpy_floatX(0.),\n",
    "                                    name='%s_rgrad2' % k)\n",
    "                      for k, p in tparams.items()]\n",
    "\n",
    "    zgup = [(zg, g) for zg, g in zip(zipped_grads, grads)]\n",
    "    rg2up = [(rg2, 0.95 * rg2 + 0.05 * (g ** 2))\n",
    "             for rg2, g in zip(running_grads2, grads)]\n",
    "\n",
    "    f_grad_shared = theano.function([x, mask, y], cost, updates=zgup + rg2up,\n",
    "                                    name='adadelta_f_grad_shared')\n",
    "\n",
    "    updir = [-tensor.sqrt(ru2 + 1e-6) / tensor.sqrt(rg2 + 1e-6) * zg\n",
    "             for zg, ru2, rg2 in zip(zipped_grads,\n",
    "                                     running_up2,\n",
    "                                     running_grads2)]\n",
    "    ru2up = [(ru2, 0.95 * ru2 + 0.05 * (ud ** 2))\n",
    "             for ru2, ud in zip(running_up2, updir)]\n",
    "    param_up = [(p, p + ud) for p, ud in zip(tparams.values(), updir)]\n",
    "\n",
    "    f_update = theano.function([lr], [], updates=ru2up + param_up,\n",
    "                               on_unused_input='ignore',\n",
    "                               name='adadelta_f_update')\n",
    "\n",
    "    return f_grad_shared, f_update"
   ]
  },
  {
   "cell_type": "code",
   "execution_count": 5,
   "metadata": {
    "collapsed": true
   },
   "outputs": [],
   "source": [
    "# the same as model_options = locals().copy() in function train_lstm\n",
    "model_options = {}\n",
    "model_options.update({'test_size': 500, 'reload_model': None, 'use_dropout': True,\n",
    "                       'noise_std': 0.0, 'dataset': 'imdb', 'valid_batch_size': 64,\n",
    "                       'batch_size': 16, 'maxlen': 100, 'saveFreq': 1110, 'validFreq': 370,\n",
    "                       'saveto': '../trained_models/Method1_and_2/lstm_model.npz', 'encoder': 'lstm', 'optimizer': adadelta,\n",
    "                       'n_words': 10000, 'lrate': 0.0001, 'decay_c': 0.0, \n",
    "                       'dispFreq': 100, 'max_epochs': 100, 'patience': 10, 'dim_proj': 128})\n",
    "# 7078735  total words  114053  unique words"
   ]
  },
  {
   "cell_type": "code",
   "execution_count": 6,
   "metadata": {},
   "outputs": [
    {
     "name": "stdout",
     "output_type": "stream",
     "text": [
      "{'test_size': 500, 'reload_model': None, 'use_dropout': True, 'noise_std': 0.0, 'dataset': 'imdb', 'valid_batch_size': 64, 'batch_size': 16, 'maxlen': 100, 'saveFreq': 1110, 'validFreq': 370, 'saveto': '../trained_models/Method1_and_2/lstm_model.npz', 'encoder': 'lstm', 'optimizer': <function adadelta at 0x10ca24f28>, 'n_words': 10000, 'lrate': 0.0001, 'decay_c': 0.0, 'dispFreq': 100, 'max_epochs': 100, 'patience': 10, 'dim_proj': 128}\n"
     ]
    }
   ],
   "source": [
    "print(model_options)"
   ]
  },
  {
   "cell_type": "code",
   "execution_count": 7,
   "metadata": {
    "collapsed": true
   },
   "outputs": [],
   "source": [
    "datasets = {'imdb': (imdb.load_data, imdb.prepare_data)}\n",
    "def get_dataset(name):\n",
    "    return datasets[name][0], datasets[name][1]"
   ]
  },
  {
   "cell_type": "code",
   "execution_count": 8,
   "metadata": {
    "collapsed": true
   },
   "outputs": [],
   "source": [
    "# Get the function names from imdb module\n",
    "load_data, prepare_data = get_dataset(model_options['dataset'])"
   ]
  },
  {
   "cell_type": "code",
   "execution_count": 9,
   "metadata": {},
   "outputs": [
    {
     "name": "stdout",
     "output_type": "stream",
     "text": [
      "Loading data\n"
     ]
    }
   ],
   "source": [
    "# imdb.load_data(n_words, valid_portion, maxlen)\n",
    "print('Loading data')\n",
    "data_path = '../data/gensim/gensim_imdb.pkl'\n",
    "n_words = model_options['n_words'] # Vocabulary size\n",
    "maxlen = model_options['maxlen'] # Sequence longer than this get ignored\n",
    "train, valid, test = load_data(path=data_path, n_words=n_words,\n",
    "                               valid_portion=0.05, maxlen=maxlen)"
   ]
  },
  {
   "cell_type": "code",
   "execution_count": 10,
   "metadata": {},
   "outputs": [
    {
     "name": "stdout",
     "output_type": "stream",
     "text": [
      "[[10, 17, 6, 377, 18, 7, 45, 49, 50, 303, 1], [1, 0, 1, 73, 3, 115, 1, 2, 3, 17, 93, 4710], [9, 55, 22, 858, 10, 29, 56, 21, 2973, 2363, 310, 1]]\n",
      "[0, 0, 0]\n",
      "2436\n"
     ]
    }
   ],
   "source": [
    "# check from imdb.load_data function that train includes train_x, train_y\n",
    "# print some train_x and train_y to get the sense what they look like\n",
    "train_x, train_y = train\n",
    "\n",
    "print(train_x[0:3])\n",
    "print(train_y[0:3])\n",
    "print(len(train_x))"
   ]
  },
  {
   "cell_type": "code",
   "execution_count": 11,
   "metadata": {},
   "outputs": [
    {
     "name": "stdout",
     "output_type": "stream",
     "text": [
      "The test size set in parameters: 500\n",
      "The real size of test set: 25000\n"
     ]
    }
   ],
   "source": [
    "test_size = model_options['test_size']\n",
    "print('The test size set in parameters: ' + str(test_size))\n",
    "\n",
    "# Select randomly the test_size number of test smaples from test which is much larger\n",
    "# The test set is sorted by size, but we want to keep random\n",
    "# size example.  So we must select a random selection of the\n",
    "# examples.\n",
    "if test_size > 0:\n",
    "    print('The real size of test set: ' + str(len(test[0])))\n",
    "    idx = numpy.arange(len(test[0])) # test[0] is test_x\n",
    "    numpy.random.shuffle(idx) # shuffle: to rearrange (playing cards, dominoes, tiles, etc.) to produce a random order\n",
    "    idx = idx[:test_size]\n",
    "    test = ([test[0][n] for n in idx], [test[1][n] for n in idx])"
   ]
  },
  {
   "cell_type": "code",
   "execution_count": 12,
   "metadata": {
    "collapsed": true
   },
   "outputs": [],
   "source": [
    "# Get the number of sentimental class\n",
    "ydim = numpy.max(train[1]) + 1 # train_y = train[1]\n",
    "model_options['ydim'] = ydim"
   ]
  },
  {
   "cell_type": "code",
   "execution_count": 13,
   "metadata": {
    "collapsed": true
   },
   "outputs": [],
   "source": [
    "def ortho_weight(ndim):\n",
    "    W = numpy.random.randn(ndim, ndim)\n",
    "    u, s, v = numpy.linalg.svd(W)\n",
    "    return u.astype(config.floatX)"
   ]
  },
  {
   "cell_type": "code",
   "execution_count": 14,
   "metadata": {
    "collapsed": true
   },
   "outputs": [],
   "source": [
    "# concate prefix pp to name\n",
    "def _p(pp, name):\n",
    "    return '%s_%s' % (pp, name)"
   ]
  },
  {
   "cell_type": "code",
   "execution_count": 15,
   "metadata": {
    "collapsed": true
   },
   "outputs": [],
   "source": [
    "# Initialize the parameters of lstm layer\n",
    "def param_init_lstm(options, params, prefix='lstm'):\n",
    "    \"\"\"\n",
    "    Init the LSTM parameter:\n",
    "\n",
    "    :see: init_params\n",
    "    \"\"\"\n",
    "    W = numpy.concatenate([ortho_weight(options['dim_proj']),\n",
    "                           ortho_weight(options['dim_proj']),\n",
    "                           ortho_weight(options['dim_proj']),\n",
    "                           ortho_weight(options['dim_proj'])], axis=1)\n",
    "    params[_p(prefix, 'W')] = W # _p is a function to concate prefix and W --> lstm_W\n",
    "    U = numpy.concatenate([ortho_weight(options['dim_proj']),\n",
    "                           ortho_weight(options['dim_proj']),\n",
    "                           ortho_weight(options['dim_proj']),\n",
    "                           ortho_weight(options['dim_proj'])], axis=1)\n",
    "    params[_p(prefix, 'U')] = U\n",
    "    b = numpy.zeros((4 * options['dim_proj'],))\n",
    "    params[_p(prefix, 'b')] = b.astype(config.floatX)\n",
    "\n",
    "    return params"
   ]
  },
  {
   "cell_type": "code",
   "execution_count": 16,
   "metadata": {},
   "outputs": [
    {
     "data": {
      "text/plain": [
       "OrderedDict([('lstm_W',\n",
       "              array([[-0.97752005,  0.21084256, -0.89628685,  0.44347477, -0.55625039,\n",
       "                       0.83101475, -0.82345879,  0.56737614],\n",
       "                     [ 0.21084256,  0.97752005,  0.44347477,  0.89628685,  0.83101475,\n",
       "                       0.55625039,  0.56737614,  0.82345879]], dtype=float32))])"
      ]
     },
     "execution_count": 16,
     "metadata": {},
     "output_type": "execute_result"
    }
   ],
   "source": [
    "params_test = OrderedDict()\n",
    "def ptest(options, params_test, prefix='lstm'):\n",
    "    W = numpy.concatenate([ortho_weight(2),\n",
    "                       ortho_weight(2),\n",
    "                       ortho_weight(2),\n",
    "                       ortho_weight(2)], axis=1)\n",
    "    params_test[_p('lstm', 'W')] = W\n",
    "    return params_test\n",
    "\n",
    "ptest(model_options, params_test, prefix=model_options['encoder'])"
   ]
  },
  {
   "cell_type": "code",
   "execution_count": 17,
   "metadata": {
    "collapsed": true
   },
   "outputs": [],
   "source": [
    "# state_below is passed in the emb --> the weights in the first layer ? why not X\n",
    "# because emb is the embedding of words which represents words\n",
    "def lstm_layer(tparams, state_below, options, prefix='lstm', mask=None):\n",
    "    nsteps = state_below.shape[0] # time steps namely, the number of words in a sentence\n",
    "    if state_below.ndim == 3:\n",
    "        n_samples = state_below.shape[1] # the number of sentences in a minibatch\n",
    "    else:\n",
    "        n_samples = 1 # in the case of no minibatch applied, then train with one sentence at a time\n",
    "\n",
    "    assert mask is not None # sequence mask must be provided\n",
    "\n",
    "    def _slice(_x, n, dim):\n",
    "        if _x.ndim == 3:\n",
    "            return _x[:, :, n * dim:(n + 1) * dim]\n",
    "        return _x[:, n * dim:(n + 1) * dim]\n",
    "\n",
    "    # m_: mask, x_: state_below which is emb * lstm_W + lstm_b\n",
    "    def _step(m_, x_, h_, c_):\n",
    "        preact = tensor.dot(h_, tparams[_p(prefix, 'U')]) # lstm_U*h_t-1\n",
    "        preact += x_ # Wemb * lstm_W + lstm_b + lstm_U*h_t-1\n",
    "\n",
    "        i = tensor.nnet.sigmoid(_slice(preact, 0, options['dim_proj']))\n",
    "        f = tensor.nnet.sigmoid(_slice(preact, 1, options['dim_proj']))\n",
    "        o = tensor.nnet.sigmoid(_slice(preact, 2, options['dim_proj']))\n",
    "        c = tensor.tanh(_slice(preact, 3, options['dim_proj']))\n",
    "\n",
    "        c = f * c_ + i * c # c_ means previous state refer to s[t]= f*s[t-1] + i*s[t]\n",
    "        c = m_[:, None] * c + (1. - m_)[:, None] * c_ # c is of shape (minibatch maxlen, number of sentences\n",
    "                                                    # in a minibatch, word embbdeding size) = (98, 16, 4)\n",
    "        # c = theano.printing.Print('c')(c)\n",
    "\n",
    "        h = o * tensor.tanh(c)\n",
    "        h = m_[:, None] * h + (1. - m_)[:, None] * h_ # ??\n",
    "\n",
    "        return h, c\n",
    "\n",
    "    # emb * lstm_W + lstm_b\n",
    "    state_below = (tensor.dot(state_below, tparams[_p(prefix, 'W')]) +\n",
    "                   tparams[_p(prefix, 'b')])\n",
    "\n",
    "    dim_proj = options['dim_proj']\n",
    "    # scan function, sequence is the input x, nonsequence is ussually not iterated such as w and b\n",
    "    rval, updates = theano.scan(_step,\n",
    "                                sequences=[mask, state_below],\n",
    "                                outputs_info=[tensor.alloc(numpy_floatX(0.),\n",
    "                                                           n_samples,\n",
    "                                                           dim_proj),\n",
    "                                              tensor.alloc(numpy_floatX(0.),\n",
    "                                                           n_samples,\n",
    "                                                           dim_proj)],\n",
    "                                name=_p(prefix, '_layers'),\n",
    "                                n_steps=nsteps) # repeat as the number of words in a sentence\n",
    "    return rval[0] # rval = h which is of shape (n_samples, dim_proj) or (n_timesteps, n_samples, dim_proj)?"
   ]
  },
  {
   "cell_type": "code",
   "execution_count": 18,
   "metadata": {
    "collapsed": true
   },
   "outputs": [],
   "source": [
    "def gru_layer(tparams, state_below, options, prefix='gru', mask=None):\n",
    "    nsteps = state_below.shape[0]\n",
    "    if state_below.ndim == 3:\n",
    "        n_samples = state_below.shape[1]\n",
    "    else:\n",
    "        n_samples = 1\n",
    "\n",
    "    assert mask is not None\n",
    "\n",
    "    def _slice(_x, n, dim):\n",
    "        if _x.ndim == 3:\n",
    "            return _x[:, :, n * dim:(n + 1) * dim]\n",
    "        return _x[:, n * dim:(n + 1) * dim]\n",
    "    \n",
    "    def x_seperate(_x, dim):\n",
    "        if _x.ndim == 3:\n",
    "            return _x[:, :, 0: 2 * dim], _x[:, :, 2 * dim:]\n",
    "        return _x[:, 0: 2 * dim], _x[:, 2 * dim:]\n",
    "\n",
    "    def _step(m_, x_, h_):\n",
    "        _x12, _x3 = x_seperate(x_, model_options['dim_proj'])\n",
    "\n",
    "        preact = tensor.dot(h_, tparams[_p(prefix, 'U')])\n",
    "        preact += _x12\n",
    "\n",
    "        m = tensor.nnet.sigmoid(preact)\n",
    "        r = _slice(m, 0, model_options['dim_proj'])\n",
    "        u = _slice(m, 1, model_options['dim_proj'])\n",
    "\n",
    "        _h = tensor.tanh(_x3 + tensor.dot(r * h_, tparams[_p(prefix, 'W_hh')]))\n",
    "        h = u * h_ + (1.0 - u) * _h\n",
    "\n",
    "        h = m_[:, None] * h + (1. - m_)[:, None] * h_\n",
    "\n",
    "        return h\n",
    "\n",
    "    state_below = (tensor.dot(state_below, tparams[_p(prefix, 'W')]) +\n",
    "                   tparams[_p(prefix, 'b')])\n",
    "\n",
    "    dim_proj = options['dim_proj']\n",
    "    initial_hidden_vector = tensor.alloc(numpy_floatX(0.), n_samples, dim_proj)\n",
    "\n",
    "    rval, updates = theano.scan(_step,\n",
    "                                sequences=[mask, state_below],\n",
    "                                outputs_info=[initial_hidden_vector],\n",
    "                                name=_p(prefix, '_layers'),\n",
    "                                n_steps=nsteps)\n",
    "    return rval[0]"
   ]
  },
  {
   "cell_type": "code",
   "execution_count": 19,
   "metadata": {
    "collapsed": true
   },
   "outputs": [],
   "source": [
    "# Initialize the parameters of gru layer\n",
    "def param_init_gru(options, params, prefix='gru'):\n",
    "    \"\"\"\n",
    "    Init the GRU parameter:\n",
    "\n",
    "    :see: init_params\n",
    "    \"\"\"\n",
    "    W = numpy.concatenate([ortho_weight(options['dim_proj']),\n",
    "                           ortho_weight(options['dim_proj']),\n",
    "                           ortho_weight(options['dim_proj'])], axis=1)\n",
    "    params[_p(prefix, 'W')] = W\n",
    "        \n",
    "    U = numpy.concatenate([ortho_weight(options['dim_proj']),\n",
    "                           ortho_weight(options['dim_proj'])], axis=1)\n",
    "    params[_p(prefix, 'U')] = U\n",
    "\n",
    "    W_hh = ortho_weight(options['dim_proj'])\n",
    "    params[_p(prefix, 'W_hh')] = W_hh\n",
    "\n",
    "    b = numpy.zeros((3 * options['dim_proj'],))\n",
    "    params[_p(prefix, 'b')] = b.astype(config.floatX)\n",
    "\n",
    "    return params"
   ]
  },
  {
   "cell_type": "code",
   "execution_count": 20,
   "metadata": {
    "collapsed": true
   },
   "outputs": [],
   "source": [
    "def vanilla_layer(tparams, state_below, options, prefix='vanilla', mask=None):\n",
    "    nsteps = state_below.shape[0]\n",
    "    if state_below.ndim == 3:\n",
    "        n_samples = state_below.shape[1]\n",
    "    else:\n",
    "        n_samples = 1\n",
    "\n",
    "    assert mask is not None\n",
    "\n",
    "    def _step(m_, x_, h_):\n",
    "        a = x_ + tensor.dot(h_, tparams[_p(prefix, 'W')])\n",
    "        h = tensor.tanh(a)\n",
    "        h = m_[:, None] * h + (1. - m_)[:, None] * h_\n",
    "        return h\n",
    "\n",
    "    state_below = (tensor.dot(state_below, tparams[_p(prefix, 'U')]) +\n",
    "                   tparams[_p(prefix, 'b')])\n",
    "\n",
    "    dim_proj = options['dim_proj']\n",
    "    initial_hidden_vector = tensor.alloc(numpy_floatX(0.), n_samples, dim_proj)\n",
    "\n",
    "    rval, updates = theano.scan(_step,\n",
    "                                sequences=[mask, state_below],\n",
    "                                outputs_info=[initial_hidden_vector],\n",
    "                                name=_p(prefix, '_layers'),\n",
    "                                n_steps=nsteps)\n",
    "    return rval[0]"
   ]
  },
  {
   "cell_type": "code",
   "execution_count": 21,
   "metadata": {
    "collapsed": true
   },
   "outputs": [],
   "source": [
    "def param_init_vanilla(options, params, prefix='vanilla'):\n",
    "    \"\"\"\n",
    "    Init the vanilla RNN parameter:\n",
    "\n",
    "    :see: init_params\n",
    "    \"\"\"\n",
    "    ndim = options['dim_proj']\n",
    "    W_bound = numpy.sqrt(6. / (ndim + ndim))\n",
    "\n",
    "    U = numpy.asarray(numpy.random.uniform(low=-W_bound, high=W_bound, size=(ndim, ndim)))\n",
    "    params[_p(prefix, 'U')] = U.astype(config.floatX)\n",
    "\n",
    "    W = numpy.asarray(numpy.random.uniform(low=-W_bound, high=W_bound, size=(ndim, ndim)))\n",
    "    params[_p(prefix, 'W')] = W.astype(config.floatX)\n",
    "\n",
    "    b = numpy.zeros(options['dim_proj'],)\n",
    "    params[_p(prefix, 'b')] = b.astype(config.floatX)\n",
    "\n",
    "    return params"
   ]
  },
  {
   "cell_type": "code",
   "execution_count": 22,
   "metadata": {
    "collapsed": true
   },
   "outputs": [],
   "source": [
    "# ff: Feed Forward (normal neural net), only useful to put after lstm\n",
    "#     before the classifier.\n",
    "layers = {'lstm': (param_init_lstm, lstm_layer), \\\n",
    "         'gru': (param_init_gru, gru_layer), \\\n",
    "         'vanilla': (param_init_vanilla, vanilla_layer)}\n",
    "\n",
    "def get_layer(name):\n",
    "    fns = layers[name]\n",
    "    return fns"
   ]
  },
  {
   "cell_type": "code",
   "execution_count": 23,
   "metadata": {
    "collapsed": true
   },
   "outputs": [],
   "source": [
    "def init_params(options):\n",
    "    \"\"\"\n",
    "    Global (not LSTM) parameters. For the embeding and the classifier.\n",
    "    \"\"\"\n",
    "    params = OrderedDict()\n",
    "\n",
    "    # embedding layer\n",
    "    randn = numpy.random.rand(options['n_words'],\n",
    "                              options['dim_proj']) # n_words = vocabulary size, dim_proj = word embedding size\n",
    "\n",
    "    params['Wemb'] = (0.01 * randn).astype(config.floatX)\n",
    "\n",
    "    # lstm layer\n",
    "    params = get_layer(options['encoder'])[0](options, params, prefix=options['encoder'])\n",
    "\n",
    "    # classifier\n",
    "    params['U'] = 0.01 * numpy.random.randn(options['dim_proj'],\n",
    "                                            options['ydim']).astype(config.floatX)\n",
    "    params['b'] = numpy.zeros((options['ydim'],)).astype(config.floatX)\n",
    "\n",
    "    return params"
   ]
  },
  {
   "cell_type": "code",
   "execution_count": 24,
   "metadata": {
    "collapsed": true
   },
   "outputs": [],
   "source": [
    "params = init_params(model_options)"
   ]
  },
  {
   "cell_type": "code",
   "execution_count": 25,
   "metadata": {
    "collapsed": true
   },
   "outputs": [],
   "source": [
    "def init_tparams(params):\n",
    "    tparams = OrderedDict()\n",
    "    for kk, pp in params.items():\n",
    "        tparams[kk] = theano.shared(params[kk], name=kk)\n",
    "    return tparams"
   ]
  },
  {
   "cell_type": "code",
   "execution_count": 26,
   "metadata": {
    "collapsed": true
   },
   "outputs": [],
   "source": [
    "# This create Theano Shared Variable from the parameters.\n",
    "# Dict name (string) -> Theano Tensor Shared Variable\n",
    "# params and tparams have different copy of the weights. --> dont know why use different copies\n",
    "# Why? --> https://stackoverflow.com/questions/31143452/theano-shared-variables-on-python\n",
    "tparams = init_tparams(params)"
   ]
  },
  {
   "cell_type": "code",
   "execution_count": 27,
   "metadata": {},
   "outputs": [
    {
     "name": "stdout",
     "output_type": "stream",
     "text": [
      "[10000   128]\n"
     ]
    }
   ],
   "source": [
    "emb = tparams['Wemb']\n",
    "print(emb.shape.eval())"
   ]
  },
  {
   "cell_type": "code",
   "execution_count": 28,
   "metadata": {
    "collapsed": true
   },
   "outputs": [],
   "source": [
    "# state_before is proj namely hidden state\n",
    "def dropout_layer(state_before, use_noise, trng):\n",
    "    proj = tensor.switch(use_noise,\n",
    "                         (state_before *\n",
    "                          trng.binomial(state_before.shape,\n",
    "                                        p=0.5, n=1,\n",
    "                                        dtype=state_before.dtype)),\n",
    "                         state_before * 0.5)\n",
    "    return proj"
   ]
  },
  {
   "cell_type": "code",
   "execution_count": 29,
   "metadata": {
    "collapsed": true
   },
   "outputs": [],
   "source": [
    "def numpy_floatX(data):\n",
    "    return numpy.asarray(data, dtype=config.floatX)"
   ]
  },
  {
   "cell_type": "code",
   "execution_count": 30,
   "metadata": {
    "collapsed": true
   },
   "outputs": [],
   "source": [
    "def build_model(tparams, options):\n",
    "    trng = RandomStreams(SEED)\n",
    "\n",
    "    # Used for dropout.\n",
    "    use_noise = theano.shared(numpy_floatX(0.)) # --> [0], thus this line of code is the same as use_noise=[0]\n",
    "\n",
    "    x = tensor.matrix('x', dtype='int64') # x includes multiple sentences\n",
    "    mask = tensor.matrix('mask', dtype=config.floatX) # sequence mask\n",
    "    y = tensor.vector('y', dtype='int64')\n",
    "\n",
    "    n_timesteps = x.shape[0] # number of words per sentence\n",
    "    n_samples = x.shape[1] # number of sentences in a minibatch\n",
    "\n",
    "    # x.flatten() --> number of words * number of sentences\n",
    "    emb = tparams['Wemb'][x.flatten()].reshape([n_timesteps,\n",
    "                                                n_samples,\n",
    "                                                options['dim_proj']]) # each word in the sentence\n",
    "                                                                      # get its corresponding weights\n",
    "\n",
    "    # call get_layer(options['encoder'])[1] --> lstm_layer --> lstm_layer(tparams,...,)\n",
    "    # here emb is used to initialize states_below in lstm_layer function\n",
    "    proj = get_layer(options['encoder'])[1](tparams, emb, options,\n",
    "                                            prefix=options['encoder'],\n",
    "                                            mask=mask)\n",
    "\n",
    "    projshape = theano.printing.Print('proj')(proj.shape)\n",
    "    # mean over word hidden representations in a sentence, proj is of shape(n_samples, dim_proj)\n",
    "    if options['encoder'] == 'lstm' or options['encoder'] == 'gru':\n",
    "        proj = (proj * mask[:, :, None]).sum(axis=0) # add up the hidden representations of all words in a sentence\n",
    "        proj = proj / mask.sum(axis=0)[:, None] # mask.sum(axis=0) is the length of sentence without padding\n",
    "    if options['use_dropout']:\n",
    "        proj = dropout_layer(proj, use_noise, trng)\n",
    "\n",
    "    # last layer\n",
    "    pred = tensor.nnet.softmax(tensor.dot(proj, tparams['U']) + tparams['b'])\n",
    "    # pred is the probability of a sentence belonging to a class. It is of shape (n_samples, class)\n",
    "\n",
    "    f_pred_prob = theano.function([x, mask], pred, name='f_pred_prob')\n",
    "    f_pred = theano.function([x, mask], pred.argmax(axis=1), name='f_pred')\n",
    "\n",
    "    off = 1e-8\n",
    "    if pred.dtype == 'float16':\n",
    "        off = 1e-6\n",
    "\n",
    "    # get the probability of the right class and calculate its negative log. --> negative log likelihood\n",
    "    cost = -tensor.log(pred[tensor.arange(n_samples), y] + off).mean()\n",
    "\n",
    "    return use_noise, x, mask, y, f_pred_prob, f_pred, cost"
   ]
  },
  {
   "cell_type": "code",
   "execution_count": 31,
   "metadata": {
    "collapsed": true
   },
   "outputs": [],
   "source": [
    "(use_noise, x, mask,\n",
    " y, f_pred_prob, f_pred, cost) = build_model(tparams, model_options)"
   ]
  },
  {
   "cell_type": "code",
   "execution_count": 32,
   "metadata": {
    "collapsed": true
   },
   "outputs": [],
   "source": [
    "# add weight decay\n",
    "decay_c = model_options['decay_c']\n",
    "if decay_c > 0.:\n",
    "    decay_c = theano.shared(numpy_floatX(decay_c), name='decay_c')\n",
    "    weight_decay = 0.\n",
    "    weight_decay += (tparams['U'] ** 2).sum()\n",
    "    weight_decay *= decay_c\n",
    "    cost += weight_decay"
   ]
  },
  {
   "cell_type": "code",
   "execution_count": 33,
   "metadata": {
    "collapsed": true
   },
   "outputs": [],
   "source": [
    "# define cost that includes weight decay\n",
    "f_cost = theano.function([x, mask, y], cost, name='f_cost')"
   ]
  },
  {
   "cell_type": "code",
   "execution_count": 34,
   "metadata": {
    "collapsed": true
   },
   "outputs": [],
   "source": [
    "# define gradient functions\n",
    "grads = tensor.grad(cost, wrt=list(tparams.values()))\n",
    "f_grad = theano.function([x, mask, y], grads, name='f_grad')"
   ]
  },
  {
   "cell_type": "code",
   "execution_count": 35,
   "metadata": {
    "collapsed": true
   },
   "outputs": [],
   "source": [
    "# define optmizer\n",
    "optimizer = model_options['optimizer']\n",
    "lr = tensor.scalar(name='lr')\n",
    "f_grad_shared, f_update = optimizer(lr, tparams, grads,\n",
    "                                        x, mask, y, cost)"
   ]
  },
  {
   "cell_type": "code",
   "execution_count": 36,
   "metadata": {
    "collapsed": true
   },
   "outputs": [],
   "source": [
    "def get_minibatches_idx(n, minibatch_size, shuffle=False):\n",
    "    \"\"\"\n",
    "    Used to shuffle the dataset at each iteration.\n",
    "    \"\"\"\n",
    "\n",
    "    idx_list = numpy.arange(n, dtype=\"int32\")\n",
    "\n",
    "    if shuffle:\n",
    "        numpy.random.shuffle(idx_list)\n",
    "\n",
    "    minibatches = []\n",
    "    minibatch_start = 0\n",
    "    for i in range(n // minibatch_size):\n",
    "        minibatches.append(idx_list[minibatch_start:\n",
    "                                    minibatch_start + minibatch_size])\n",
    "        minibatch_start += minibatch_size\n",
    "\n",
    "    if (minibatch_start != n):\n",
    "        # Make a minibatch out of what is left\n",
    "        minibatches.append(idx_list[minibatch_start:])\n",
    "\n",
    "    return zip(range(len(minibatches)), minibatches)"
   ]
  },
  {
   "cell_type": "code",
   "execution_count": 37,
   "metadata": {},
   "outputs": [
    {
     "name": "stdout",
     "output_type": "stream",
     "text": [
      "Optimization\n"
     ]
    }
   ],
   "source": [
    "print('Optimization')\n",
    "valid_batch_size = model_options['valid_batch_size']\n",
    "kf_valid = get_minibatches_idx(len(valid[0]), valid_batch_size)\n",
    "kf_test = get_minibatches_idx(len(test[0]), valid_batch_size)"
   ]
  },
  {
   "cell_type": "code",
   "execution_count": 38,
   "metadata": {},
   "outputs": [
    {
     "name": "stdout",
     "output_type": "stream",
     "text": [
      "2436 train examples\n",
      "128 valid examples\n",
      "500 test examples\n"
     ]
    }
   ],
   "source": [
    "print(\"%d train examples\" % len(train[0]))\n",
    "print(\"%d valid examples\" % len(valid[0]))\n",
    "print(\"%d test examples\" % len(test[0]))"
   ]
  },
  {
   "cell_type": "code",
   "execution_count": 39,
   "metadata": {
    "collapsed": true
   },
   "outputs": [],
   "source": [
    "history_errs = []\n",
    "best_p = None # for storing best parameters\n",
    "bad_count = 0"
   ]
  },
  {
   "cell_type": "code",
   "execution_count": 40,
   "metadata": {
    "collapsed": true
   },
   "outputs": [],
   "source": [
    "# Compute the validation error after this number of update.\n",
    "validFreq = model_options['validFreq']\n",
    "\n",
    "# The batch size during training.\n",
    "batch_size = model_options['batch_size']\n",
    "\n",
    "saveFreq = model_options['saveFreq']\n",
    "\n",
    "if validFreq == -1:\n",
    "    validFreq = len(train[0]) // batch_size\n",
    "if saveFreq == -1:\n",
    "    saveFreq = len(train[0]) // batch_size"
   ]
  },
  {
   "cell_type": "code",
   "execution_count": 41,
   "metadata": {
    "collapsed": true
   },
   "outputs": [],
   "source": [
    "uidx = 0  # the number of update done\n",
    "estop = False  # early stop"
   ]
  },
  {
   "cell_type": "code",
   "execution_count": 42,
   "metadata": {
    "collapsed": true
   },
   "outputs": [],
   "source": [
    "def unzip(zipped):\n",
    "    \"\"\"\n",
    "    When we pickle the model. Needed for the GPU stuff.\n",
    "    \"\"\"\n",
    "    new_params = OrderedDict()\n",
    "    for kk, vv in zipped.items():\n",
    "        new_params[kk] = vv.get_value()\n",
    "    return new_params"
   ]
  },
  {
   "cell_type": "code",
   "execution_count": 43,
   "metadata": {
    "collapsed": true
   },
   "outputs": [],
   "source": [
    "def zipp(params, tparams):\n",
    "    \"\"\"\n",
    "    When we reload the model. Needed for the GPU stuff.\n",
    "    \"\"\"\n",
    "    for kk, vv in params.items():\n",
    "        tparams[kk].set_value(vv)"
   ]
  },
  {
   "cell_type": "code",
   "execution_count": 44,
   "metadata": {
    "collapsed": true
   },
   "outputs": [],
   "source": [
    "def pred_error(f_pred, prepare_data, data, iterator, verbose=False):\n",
    "    \"\"\"\n",
    "    Just compute the error\n",
    "    f_pred: Theano fct computing the prediction\n",
    "    prepare_data: usual prepare_data for that dataset.\n",
    "    \"\"\"\n",
    "    valid_err = 0\n",
    "    for _, valid_index in iterator:\n",
    "        x, mask, y = prepare_data([data[0][t] for t in valid_index],\n",
    "                                  numpy.array(data[1])[valid_index],\n",
    "                                  maxlen=None)\n",
    "        preds = f_pred(x, mask)\n",
    "        targets = numpy.array(data[1])[valid_index]\n",
    "        valid_err += (preds == targets).sum()\n",
    "    valid_err = 1. - numpy_floatX(valid_err) / len(data[0])\n",
    "\n",
    "    return valid_err"
   ]
  },
  {
   "cell_type": "code",
   "execution_count": 45,
   "metadata": {
    "scrolled": false
   },
   "outputs": [
    {
     "name": "stdout",
     "output_type": "stream",
     "text": [
      "Epoch  0 Update  100 Cost  0.7342020869255066\n",
      "Progress: 0.2min / 16.2min (1%)\n",
      "Seen 2436 samples\n",
      "Epoch  1 Update  200 Cost  0.660256564617157\n",
      "Progress: 0.3min / 16.3min (2%)\n",
      "Epoch  1 Update  300 Cost  0.6548520922660828\n",
      "Progress: 0.5min / 24.5min (2%)\n",
      "Seen 2436 samples\n",
      "Train  0.686781609195 Valid  0.421875 Test  0.468\n",
      "Seen 1024 samples\n",
      "Epoch  3 Update  400 Cost  0.7247850894927979\n",
      "Progress: 0.8min / 19.8min (4%)\n",
      "Epoch  3 Update  500 Cost  0.6392447352409363\n",
      "Progress: 1.0min / 23.9min (4%)\n",
      "Seen 2436 samples\n",
      "Epoch  4 Update  600 Cost  0.6573266386985779\n",
      "Progress: 1.1min / 22.4min (5%)\n",
      "Seen 2436 samples\n",
      "Epoch  5 Update  700 Cost  0.6857000589370728\n",
      "Progress: 1.3min / 21.4min (6%)\n",
      "Train  0.661330049261 Valid  0.421875 Test  0.468\n",
      "Seen 1024 samples\n",
      "Epoch  6 Update  800 Cost  0.6854870319366455\n",
      "Progress: 1.6min / 22.6min (7%)\n",
      "Seen 2436 samples\n",
      "Epoch  7 Update  900 Cost  0.6695032715797424\n",
      "Progress: 1.7min / 21.8min (8%)\n",
      "Epoch  7 Update  1000 Cost  0.6837005019187927\n",
      "Progress: 1.9min / 23.9min (8%)\n",
      "Seen 2436 samples\n",
      "Epoch  8 Update  1100 Cost  0.7145876884460449\n",
      "Progress: 2.1min / 23.0min (9%)\n",
      "Train  0.601395730706 Valid  0.2890625 Test  0.41\n",
      "Seen 1024 samples\n",
      "Epoch  9 Update  1200 Cost  0.6498624682426453\n",
      "Progress: 2.4min / 23.7min (10%)\n",
      "Seen 2436 samples\n",
      "Epoch  10 Update  1300 Cost  0.6293635368347168\n",
      "Progress: 2.5min / 23.0min (11%)\n",
      "Epoch  10 Update  1400 Cost  0.5920513272285461\n",
      "Progress: 2.7min / 24.5min (11%)\n",
      "Seen 2436 samples\n",
      "Train  0.532019704433 Valid  0.1640625 Test  0.304\n",
      "Seen 1024 samples\n",
      "Epoch  12 Update  1500 Cost  0.4496521055698395\n",
      "Progress: 3.0min / 23.1min (13%)\n",
      "Epoch  12 Update  1600 Cost  0.3631879687309265\n",
      "Progress: 3.2min / 24.3min (13%)\n",
      "Seen 2436 samples\n",
      "Epoch  13 Update  1700 Cost  0.2596895396709442\n",
      "Progress: 3.3min / 23.7min (14%)\n",
      "Seen 2436 samples\n",
      "Epoch  14 Update  1800 Cost  0.31508395075798035\n",
      "Progress: 3.5min / 23.3min (15%)\n",
      "Train  0.459359605911 Valid  0.125 Test  0.214\n",
      "Seen 1024 samples\n",
      "Epoch  15 Update  1900 Cost  0.14426466822624207\n",
      "Progress: 3.8min / 23.7min (16%)\n",
      "Epoch  15 Update  2000 Cost  0.2478250414133072\n",
      "Progress: 3.9min / 24.7min (16%)\n",
      "Seen 2436 samples\n",
      "Epoch  16 Update  2100 Cost  0.1830029934644699\n",
      "Progress: 4.1min / 24.2min (17%)\n",
      "Seen 2436 samples\n",
      "Epoch  17 Update  2200 Cost  0.05864683538675308\n",
      "Progress: 4.3min / 23.8min (18%)\n",
      "Train  0.432676518883 Valid  0.1484375 Test  0.212\n",
      "Seen 1024 samples\n",
      "Epoch  18 Update  2300 Cost  0.03952469304203987\n",
      "Progress: 4.6min / 24.1min (19%)\n",
      "Seen 2436 samples\n",
      "Epoch  19 Update  2400 Cost  0.004390828311443329\n",
      "Progress: 4.7min / 23.7min (20%)\n",
      "Epoch  19 Update  2500 Cost  0.06635857373476028\n",
      "Progress: 4.9min / 24.5min (20%)\n",
      "Seen 2436 samples\n",
      "Train  0.426929392447 Valid  0.140625 Test  0.24\n",
      "Seen 1024 samples\n",
      "Epoch  21 Update  2600 Cost  0.003726083319634199\n",
      "Progress: 5.2min / 23.7min (22%)\n",
      "Epoch  21 Update  2700 Cost  0.12105407565832138\n",
      "Progress: 5.4min / 24.4min (22%)\n",
      "Seen 2436 samples\n",
      "Epoch  22 Update  2800 Cost  0.005120030604302883\n",
      "Progress: 5.6min / 24.2min (23%)\n",
      "Seen 2436 samples\n",
      "Epoch  23 Update  2900 Cost  0.005120834335684776\n",
      "Progress: 5.7min / 23.9min (24%)\n",
      "Train  0.422413793103 Valid  0.140625 Test  0.222\n",
      "Seen 1024 samples\n",
      "Epoch  24 Update  3000 Cost  0.01333322562277317\n",
      "Progress: 6.0min / 24.1min (25%)\n",
      "Epoch  24 Update  3100 Cost  0.0023409349378198385\n",
      "Progress: 6.2min / 24.8min (25%)\n",
      "Seen 2436 samples\n",
      "Epoch  25 Update  3200 Cost  0.017880696803331375\n",
      "Progress: 6.4min / 24.5min (26%)\n",
      "Seen 2436 samples\n",
      "Epoch  26 Update  3300 Cost  0.0013888824032619596\n",
      "Progress: 6.5min / 24.2min (27%)\n",
      "Train  0.42118226601 Valid  0.1796875 Test  0.23\n",
      "Seen 1024 samples\n",
      "Epoch  27 Update  3400 Cost  0.0004398656892590225\n",
      "Progress: 6.8min / 24.4min (28%)\n",
      "Seen 2436 samples\n",
      "Epoch  28 Update  3500 Cost  0.0001263209996977821\n",
      "Progress: 7.0min / 24.1min (29%)\n",
      "Epoch  28 Update  3600 Cost  0.0068263341672718525\n",
      "Progress: 7.2min / 24.7min (29%)\n",
      "Seen 2436 samples\n",
      "Epoch  29 Update  3700 Cost  0.002380585763603449\n",
      "Progress: 7.3min / 24.4min (30%)\n",
      "Train  0.42118226601 Valid  0.140625 Test  0.236\n",
      "Seen 1024 samples\n",
      "Epoch  30 Update  3800 Cost  0.0027308803983032703\n",
      "Progress: 7.6min / 24.6min (31%)\n",
      "Seen 2436 samples\n",
      "Epoch  31 Update  3900 Cost  1.1358712072251365e-05\n",
      "Progress: 7.8min / 24.3min (32%)\n",
      "Epoch  31 Update  4000 Cost  0.0008045496069826186\n",
      "Progress: 8.0min / 24.8min (32%)\n",
      "Seen 2436 samples\n",
      "Train  0.42118226601 Valid  0.1640625 Test  0.218\n",
      "Seen 1024 samples\n",
      "Epoch  33 Update  4100 Cost  0.0006735922070220113\n",
      "Progress: 8.2min / 24.3min (34%)\n",
      "Epoch  33 Update  4200 Cost  0.003501269267871976\n",
      "Progress: 8.4min / 24.7min (34%)\n",
      "Seen 2436 samples\n",
      "Epoch  34 Update  4300 Cost  0.00032379903132095933\n",
      "Progress: 8.6min / 24.6min (35%)\n",
      "Seen 2436 samples\n",
      "Epoch  35 Update  4400 Cost  0.0006487920181825757\n",
      "Progress: 8.8min / 24.3min (36%)\n",
      "Train  0.420361247947 Valid  0.1484375 Test  0.224\n",
      "Seen 1024 samples\n",
      "Epoch  36 Update  4500 Cost  0.0002244666829938069\n",
      "Progress: 9.1min / 24.5min (37%)\n",
      "Seen 2436 samples\n",
      "Epoch  37 Update  4600 Cost  3.5351404221728444e-05\n",
      "Progress: 9.2min / 24.3min (38%)\n",
      "Epoch  37 Update  4700 Cost  9.003535524243489e-05\n",
      "Progress: 9.4min / 24.7min (38%)\n",
      "Seen 2436 samples\n",
      "Epoch  38 Update  4800 Cost  2.276275154144969e-05\n",
      "Progress: 9.6min / 24.5min (39%)\n",
      "Train  0.420361247947 Valid  0.15625 Test  0.224\n",
      "Seen 1024 samples\n",
      "Epoch  39 Update  4900 Cost  0.0005901942495256662\n",
      "Progress: 9.9min / 24.6min (40%)\n",
      "Seen 2436 samples\n",
      "Epoch  40 Update  5000 Cost  4.8997593694366515e-05\n",
      "Progress: 10.0min / 24.5min (41%)\n",
      "Epoch  40 Update  5100 Cost  0.00010203079727943987\n",
      "Progress: 10.2min / 24.9min (41%)\n",
      "Seen 2436 samples\n",
      "Train  0.420361247947 Valid  0.1640625 Test  0.222\n",
      "Seen 1024 samples\n",
      "Epoch  42 Update  5200 Cost  0.000571517797652632\n",
      "Progress: 10.5min / 24.4min (43%)\n",
      "Epoch  42 Update  5300 Cost  0.0006203819066286087\n",
      "Progress: 10.7min / 24.8min (43%)\n",
      "Seen 2436 samples\n",
      "Epoch  43 Update  5400 Cost  2.391074667684734e-05\n",
      "Progress: 10.8min / 24.6min (44%)\n",
      "Seen 2436 samples\n",
      "Epoch  44 Update  5500 Cost  0.0009392689098604023\n",
      "Progress: 11.0min / 24.4min (45%)\n",
      "Train  0.420361247947 Valid  0.15625 Test  0.226\n",
      "Seen 1024 samples\n",
      "Epoch  45 Update  5600 Cost  5.5507925935671665e-06\n",
      "Progress: 11.3min / 24.5min (46%)\n",
      "Epoch  45 Update  5700 Cost  0.00019205757416784763\n",
      "Progress: 11.4min / 24.9min (46%)\n",
      "Seen 2436 samples\n",
      "Epoch  46 Update  5800 Cost  1.2852595318690874e-05\n",
      "Progress: 11.6min / 24.7min (47%)\n",
      "Seen 2436 samples\n",
      "Epoch  47 Update  5900 Cost  5.4398056818172336e-05\n",
      "Progress: 11.8min / 24.5min (48%)\n",
      "Train  0.420361247947 Valid  0.1875 Test  0.276\n",
      "Seen 1024 samples\n",
      "Epoch  48 Update  6000 Cost  2.0874649635516107e-05\n",
      "Progress: 12.1min / 24.7min (49%)\n",
      "Seen 2436 samples\n",
      "Epoch  49 Update  6100 Cost  0.00024185757501982152\n",
      "Progress: 12.3min / 24.5min (50%)\n",
      "Epoch  49 Update  6200 Cost  3.861197910737246e-05\n",
      "Progress: 12.4min / 24.8min (50%)\n",
      "Seen 2436 samples\n",
      "Train  0.420361247947 Valid  0.15625 Test  0.224\n",
      "Seen 1024 samples\n",
      "Epoch  51 Update  6300 Cost  0.00025835688575170934\n",
      "Progress: 12.7min / 24.5min (52%)\n",
      "Epoch  51 Update  6400 Cost  1.5273777762558893e-06\n",
      "Progress: 12.9min / 24.8min (52%)\n",
      "Seen 2436 samples\n",
      "Epoch  52 Update  6500 Cost  7.109341822797433e-05\n",
      "Progress: 13.1min / 24.6min (53%)\n",
      "Seen 2436 samples\n",
      "Epoch  53 Update  6600 Cost  0.00020561140263453126\n",
      "Progress: 13.3min / 24.6min (54%)\n",
      "Train  0.420361247947 Valid  0.15625 Test  0.228\n",
      "Seen 1024 samples\n",
      "Epoch  54 Update  6700 Cost  0.00014534840011037886\n",
      "Progress: 13.6min / 24.8min (55%)\n",
      "Epoch  54 Update  6800 Cost  1.0740391189756338e-05\n",
      "Progress: 13.8min / 25.2min (55%)\n",
      "Seen 2436 samples\n",
      "Epoch  55 Update  6900 Cost  0.00012776879884768277\n",
      "Progress: 14.0min / 25.0min (56%)\n",
      "Seen 2436 samples\n",
      "Epoch  56 Update  7000 Cost  2.6723721020971425e-05\n",
      "Progress: 14.3min / 25.0min (57%)\n",
      "Train  0.420361247947 Valid  0.15625 Test  0.22\n",
      "Seen 1024 samples\n",
      "Epoch  57 Update  7100 Cost  0.00027016628882847726\n",
      "Progress: 14.6min / 25.1min (58%)\n",
      "Seen 2436 samples\n",
      "Epoch  58 Update  7200 Cost  2.5243267373298295e-05\n",
      "Progress: 14.7min / 25.0min (59%)\n",
      "Epoch  58 Update  7300 Cost  6.6923770646099e-05\n",
      "Progress: 14.9min / 25.3min (59%)\n",
      "Seen 2436 samples\n",
      "Epoch  59 Update  7400 Cost  0.00010686453606467694\n",
      "Progress: 15.1min / 25.1min (60%)\n",
      "Train  0.420361247947 Valid  0.15625 Test  0.232\n",
      "Seen 1024 samples\n"
     ]
    },
    {
     "name": "stdout",
     "output_type": "stream",
     "text": [
      "Epoch  60 Update  7500 Cost  3.6088022170588374e-05\n",
      "Progress: 15.4min / 25.2min (61%)\n",
      "Seen 2436 samples\n",
      "Epoch  61 Update  7600 Cost  0.0003150971024297178\n",
      "Progress: 15.5min / 25.1min (62%)\n",
      "Epoch  61 Update  7700 Cost  7.767661372781731e-06\n",
      "Progress: 15.7min / 25.3min (62%)\n",
      "Seen 2436 samples\n",
      "Train  0.420361247947 Valid  0.1640625 Test  0.23\n",
      "Seen 1024 samples\n",
      "Epoch  63 Update  7800 Cost  1.1533868928381708e-05\n",
      "Progress: 16.0min / 25.0min (64%)\n",
      "Epoch  63 Update  7900 Cost  1.0856299923034385e-05\n",
      "Progress: 16.2min / 25.3min (64%)\n",
      "Seen 2436 samples\n",
      "Epoch  64 Update  8000 Cost  0.00012723854160867631\n",
      "Progress: 16.3min / 25.1min (65%)\n",
      "Seen 2436 samples\n",
      "Epoch  65 Update  8100 Cost  7.613594061695039e-05\n",
      "Progress: 16.5min / 25.0min (66%)\n",
      "Train  0.420361247947 Valid  0.1484375 Test  0.222\n",
      "Seen 1024 samples\n",
      "Epoch  66 Update  8200 Cost  1.1224720765312668e-05\n",
      "Progress: 16.8min / 25.1min (67%)\n",
      "Seen 2436 samples\n",
      "Epoch  67 Update  8300 Cost  1.2897568922198843e-05\n",
      "Progress: 17.0min / 25.0min (68%)\n",
      "Epoch  67 Update  8400 Cost  3.9004735299386084e-05\n",
      "Progress: 17.1min / 25.2min (68%)\n",
      "Seen 2436 samples\n",
      "Epoch  68 Update  8500 Cost  0.00025591658777557313\n",
      "Progress: 17.3min / 25.1min (69%)\n",
      "Train  0.420361247947 Valid  0.1484375 Test  0.224\n",
      "Seen 1024 samples\n",
      "Epoch  69 Update  8600 Cost  5.692808917956427e-05\n",
      "Progress: 17.6min / 25.1min (70%)\n",
      "Seen 2436 samples\n",
      "Epoch  70 Update  8700 Cost  1.7346514141536318e-05\n",
      "Progress: 17.8min / 25.0min (71%)\n",
      "Epoch  70 Update  8800 Cost  1.9669810171762947e-06\n",
      "Progress: 17.9min / 25.2min (71%)\n",
      "Seen 2436 samples\n",
      "Train  0.420361247947 Valid  0.1640625 Test  0.232\n",
      "Early Stop!\n",
      "Seen 1024 samples\n",
      "Train  0.0554187192118 Valid  0.125 Test  0.214\n",
      "Saved results to: ../trained_models/Method1_and_2/lstm_model.npz.\n",
      "The code run for 72 epochs, with 15.167021 sec/epochs\n"
     ]
    },
    {
     "name": "stderr",
     "output_type": "stream",
     "text": [
      "Training took 1092.0s\n"
     ]
    }
   ],
   "source": [
    "max_epochs = model_options['max_epochs']\n",
    "dispFreq = model_options['dispFreq'] # Display to stdout the training progress every N updates\n",
    "saveFreq = model_options['saveFreq']\n",
    "saveto = model_options['saveto'] # The best model will be saved there\n",
    "\n",
    "lrate = model_options['lrate']\n",
    "patience = model_options['patience']\n",
    "\n",
    "train_costs = numpy.array([]) # add for plot\n",
    "train_accus = numpy.array([])\n",
    "\n",
    "start_time = time.time()\n",
    "try:\n",
    "    for eidx in range(max_epochs):\n",
    "        n_samples = 0 # the number of sentence\n",
    "\n",
    "        if(eidx > 0)\n",
    "            progress = eidx / max_epochs\n",
    "            time_taken = (time.time() - start_time) / 60\n",
    "            time_remaining = time_taken / progress\n",
    "            print('Progress: %.1fmin / ' % time_taken + '%.1fmin' % time_remaining + ' (%.0f' % (progress * 100) + \"%)\") \n",
    "\n",
    "        # Get new shuffled index for the training set.\n",
    "        kf = get_minibatches_idx(len(train[0]), batch_size, shuffle=True)\n",
    "\n",
    "        for _, train_index in kf:\n",
    "            uidx += 1\n",
    "            use_noise.set_value(1.) # going to use noise\n",
    "\n",
    "            # Select the random examples for this minibatch\n",
    "            y = [train[1][t] for t in train_index]\n",
    "            x = [train[0][t] for t in train_index] # wrap 16 sentences into an array \n",
    "                                        # as a result, x is of 2 dimensions, size of 1998/16 * 16 sentences\n",
    "            # Get the data in numpy.ndarray format\n",
    "            # This swap the axis!\n",
    "            # Return something of shape (minibatch maxlen, n_samples)\n",
    "            # n_samples is the number of sentences in a minibatch\n",
    "            x, mask, y = prepare_data(x, y) # all the sentence will have the same length which is minibatch maxlen\n",
    "            n_samples += x.shape[1] # x.shape[1] is the number of sentence in a minibatch\n",
    "\n",
    "            cost = f_grad_shared(x, mask, y) # call the model\n",
    "            f_update(lrate)\n",
    "\n",
    "            accuracy = (f_pred(x, mask) == y).sum() / len(y)\n",
    "            train_costs = numpy.append(train_costs, cost)\n",
    "            train_accus = numpy.append(train_accus, accuracy)\n",
    "\n",
    "            if numpy.isnan(cost) or numpy.isinf(cost):\n",
    "                print('bad cost detected: ', cost)\n",
    "                break\n",
    "            if numpy.mod(uidx, dispFreq) == 0:\n",
    "                remainder = (uidx % validFreq)\n",
    "                    if(remainder == 0 and uidx != 0):\n",
    "                        remainder = validFreq\n",
    "                print('Epoch ' + str(eidx + 1) + \"/\" + str(max_epochs) + ' Update ' + str(remainder) + \"/\" + str(validFreq) + ' Cost ' + str(cost))\n",
    "                progress = (eidx / max_epochs) + ((remainder /validFreq) / max_epochs)\n",
    "                time_taken = (time.time() - start_time) / 60\n",
    "                time_remaining = time_taken / progress\n",
    "                print('Progress: %.1fmin / ' % time_taken + '%.1fmin' % time_remaining + ' (%.0f' % (progress * 100) + \"%)\") \n",
    "                \n",
    "            if saveto and numpy.mod(uidx, saveFreq) == 0:\n",
    "\n",
    "                if best_p is not None:\n",
    "                    params = best_p\n",
    "                else:\n",
    "                    params = unzip(tparams)\n",
    "                    numpy.savez(saveto, history_errs=history_errs, **params)\n",
    "                    pickle.dump(model_options, open('%s.pkl' % saveto, 'wb'), -1)\n",
    "                    print('Saved results to: ' + saveto + '.')\n",
    "            if numpy.mod(uidx, validFreq) == 0:\n",
    "                print(\"Validating.\")\n",
    "                use_noise.set_value(0.) # at validation stage, dont use noise\n",
    "                train_err = pred_error(f_pred, prepare_data, train, kf)\n",
    "                valid_err = pred_error(f_pred, prepare_data, valid, kf_valid)\n",
    "                test_err = pred_error(f_pred, prepare_data, test, kf_test)\n",
    "                \n",
    "                kf_valid = get_minibatches_idx(len(valid[0]), valid_batch_size)\n",
    "                kf_test = get_minibatches_idx(len(test[0]), valid_batch_size)\n",
    "\n",
    "                history_errs.append([valid_err, test_err])\n",
    "\n",
    "                if (best_p is None or\n",
    "                    valid_err <= numpy.array(history_errs)[:, 0].min()):\n",
    "\n",
    "                    best_p = unzip(tparams)\n",
    "                    bad_counter = 0\n",
    "\n",
    "                print('Train ', train_err, 'Valid ', valid_err,\n",
    "                       'Test ', test_err)\n",
    "\n",
    "                print(\"Testing for early stop criteria.\")\n",
    "                    print(\"1.) len(history_errs)=\" + str(len(history_errs)) + \" > patience=\" + str(patience)+ \"?\")\n",
    "                    if(len(history_errs) > patience):\n",
    "                        print(\"2.) valid_err=\" + str(valid_err) + \" >= numpy.array(history_errs)[:-patience,0].min()=\" + str(numpy.array(history_errs)[:-patience,0].min()) + \"?\")\n",
    "                    \n",
    "                if (len(history_errs) > patience and\n",
    "                    valid_err >= numpy.array(history_errs)[:-patience,\n",
    "                                                           0].min()):\n",
    "                    bad_counter += 1\n",
    "                    if bad_counter > patience:\n",
    "                        print('Early Stop!')\n",
    "                        estop = True\n",
    "                        break\n",
    "\n",
    "        print('Seen %d samples' % n_samples)\n",
    "\n",
    "        if estop:\n",
    "            break\n",
    "\n",
    "except KeyboardInterrupt:\n",
    "    print(\"Training interupted\")\n",
    "\n",
    "print(\"Doing final calculations.\")\n",
    "\n",
    "if best_p is not None:\n",
    "    zipp(best_p, tparams)\n",
    "else:\n",
    "    best_p = unzip(tparams)\n",
    "\n",
    "use_noise.set_value(0.)\n",
    "kf_train_sorted = get_minibatches_idx(len(train[0]), batch_size)\n",
    "train_err = pred_error(f_pred, prepare_data, train, kf_train_sorted)\n",
    "valid_err = pred_error(f_pred, prepare_data, valid, kf_valid)\n",
    "test_err = pred_error(f_pred, prepare_data, test, kf_test)\n",
    "\n",
    "print( 'Train ', train_err, 'Valid ', valid_err, 'Test ', test_err )\n",
    "if saveto:\n",
    "    numpy.savez(saveto, train_err=train_err,\n",
    "                valid_err=valid_err, test_err=test_err,\n",
    "                history_errs=history_errs, **best_p)\n",
    "    print('Saved results to: ' + saveto + '.')\n",
    "\n",
    "end_time = time.time()\n",
    "print('The code run for %d epochs, with %f sec/epochs' % (\n",
    "    (eidx + 1), (end_time - start_time) / (1. * (eidx + 1))))\n",
    "print( ('Training took %.1fs' %\n",
    "        (end_time - start_time)), file=sys.stderr)"
   ]
  },
  {
   "cell_type": "code",
   "execution_count": 46,
   "metadata": {},
   "outputs": [
    {
     "name": "stdout",
     "output_type": "stream",
     "text": [
      "8880\n"
     ]
    }
   ],
   "source": [
    "print(len(train_costs))"
   ]
  },
  {
   "cell_type": "code",
   "execution_count": 48,
   "metadata": {},
   "outputs": [
    {
     "data": {
      "image/png": "[encoded data removed]",
      "text/plain": [
       "<matplotlib.figure.Figure at 0x1c22a7c0b8>"
      ]
     },
     "metadata": {},
     "output_type": "display_data"
    },
    {
     "data": {
      "image/png": "[encoded data removed]",
      "text/plain": [
       "<matplotlib.figure.Figure at 0x1c26e81198>"
      ]
     },
     "metadata": {},
     "output_type": "display_data"
    }
   ],
   "source": [
    "import matplotlib.pyplot as plt\n",
    "\n",
    "fig_tr, ax_tr = plt.subplots(1, 2, figsize=(16, 4))\n",
    "fig_tr.suptitle(\"Cost and Accuracy on Training Set\")\n",
    "\n",
    "ax_tr[0].plot(train_costs, '-r')\n",
    "ax_tr[0].set_xlabel('Iterations')\n",
    "ax_tr[0].set_ylabel('Cost')\n",
    "\n",
    "ax_tr[1].plot(train_accus, '-g')\n",
    "ax_tr[1].set_xlabel('Iterations')\n",
    "ax_tr[1].set_ylabel('Accuracy')\n",
    "\n",
    "fig_tr.subplots_adjust(wspace=.4)\n",
    "plt.show()\n",
    "\n",
    "fig_v, ax_v = plt.subplots(1, 2, figsize=(16, 4))\n",
    "fig_v.suptitle(\"Validation and test error rates\")\n",
    "\n",
    "ax_v[0].plot(numpy.array(history_errs)[:,0], '-r')\n",
    "ax_v[0].set_xlabel('Iterations')\n",
    "ax_v[0].set_ylabel('Validation error rate')\n",
    "\n",
    "ax_v[1].plot(numpy.array(history_errs)[:,1], '-g')\n",
    "ax_v[1].set_xlabel('Iterations')\n",
    "ax_v[1].set_ylabel('Test error rate')\n",
    "\n",
    "fig_v.subplots_adjust(wspace=.4)\n",
    "plt.show()\n",
    "fig_tr.savefig('../trained_models/Method1_and_2/method1_cost_and_accuracy.png')\n",
    "fig_v.savefig('../trained_models/Method1_and_2/method1_validation_and_error_rate.png')"
   ]
  },
  {
   "cell_type": "code",
   "execution_count": null,
   "metadata": {
    "collapsed": true
   },
   "outputs": [],
   "source": []
  }
 ],
 "metadata": {
  "kernelspec": {
   "display_name": "Python 3",
   "language": "python",
   "name": "python3"
  },
  "language_info": {
   "codemirror_mode": {
    "name": "ipython",
    "version": 3
   },
   "file_extension": ".py",
   "mimetype": "text/x-python",
   "name": "python",
   "nbconvert_exporter": "python",
   "pygments_lexer": "ipython3",
   "version": "3.6.3"
  }
 },
 "nbformat": 4,
 "nbformat_minor": 2
}
