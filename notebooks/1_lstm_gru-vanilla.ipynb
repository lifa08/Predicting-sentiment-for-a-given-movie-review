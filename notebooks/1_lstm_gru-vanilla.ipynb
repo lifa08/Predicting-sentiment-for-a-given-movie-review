{
 "cells": [
  {
   "cell_type": "markdown",
   "metadata": {},
   "source": [
    "## Method 1: use RNN(Recurrent Neural Network) to predict the sentimental polarity of a given document\n",
    "\n",
    "RNN includes LSTM (Long Short Term Memory), GRN( Gated Re- current Units) and the vanilla RNN.\n",
    "\n",
    "Running the training can take 30 minutes or more."
   ]
  },
  {
   "cell_type": "code",
   "execution_count": 1,
   "metadata": {},
   "outputs": [
    {
     "data": {
      "image/png": "[encoded data removed]",
      "text/plain": [
       "<IPython.core.display.Image object>"
      ]
     },
     "execution_count": 1,
     "metadata": {},
     "output_type": "execute_result"
    }
   ],
   "source": [
    "from IPython.display import Image\n",
    "Image(\"../img/Method1/LSTM.png\")"
   ]
  },
  {
   "cell_type": "code",
   "execution_count": 2,
   "metadata": {},
   "outputs": [],
   "source": [
    "from __future__ import print_function\n",
    "import six.moves.cPickle as pickle\n",
    "\n",
    "from collections import OrderedDict\n",
    "import sys\n",
    "import time\n",
    "import numpy\n",
    "\n",
    "import os\n",
    "os.environ[\"THEANO_FLAGS\"] = \"mode=FAST_RUN,device=cpu,floatX=float32\"\n",
    "import theano\n",
    "from theano import config\n",
    "import theano.tensor as tensor\n",
    "from theano.sandbox.rng_mrg import MRG_RandomStreams as RandomStreams\n",
    "\n",
    "sys.path.append('../script')\n",
    "import imdb"
   ]
  },
  {
   "cell_type": "code",
   "execution_count": 3,
   "metadata": {
    "collapsed": true
   },
   "outputs": [],
   "source": [
    "SEED = 123\n",
    "numpy.random.seed(SEED)"
   ]
  },
  {
   "cell_type": "code",
   "execution_count": 4,
   "metadata": {
    "collapsed": true
   },
   "outputs": [],
   "source": [
    "def adadelta(lr, tparams, grads, x, mask, y, cost):\n",
    "    \"\"\"\n",
    "    An adaptive learning rate optimizer\n",
    "\n",
    "    Parameters\n",
    "    ----------\n",
    "    lr : Theano SharedVariable\n",
    "        Initial learning rate\n",
    "    tpramas: Theano SharedVariable\n",
    "        Model parameters\n",
    "    grads: Theano variable\n",
    "        Gradients of cost w.r.t to parameres\n",
    "    x: Theano variable\n",
    "        Model inputs\n",
    "    mask: Theano variable\n",
    "        Sequence mask\n",
    "    y: Theano variable\n",
    "        Targets\n",
    "    cost: Theano variable\n",
    "        Objective fucntion to minimize\n",
    "\n",
    "    Notes\n",
    "    -----\n",
    "    For more information, see [ADADELTA]_.\n",
    "\n",
    "    .. [ADADELTA] Matthew D. Zeiler, *ADADELTA: An Adaptive Learning\n",
    "       Rate Method*, arXiv:1212.5701.\n",
    "    \"\"\"\n",
    "\n",
    "    zipped_grads = [theano.shared(p.get_value() * numpy_floatX(0.),\n",
    "                                  name='%s_grad' % k)\n",
    "                    for k, p in tparams.items()]\n",
    "    running_up2 = [theano.shared(p.get_value() * numpy_floatX(0.),\n",
    "                                 name='%s_rup2' % k)\n",
    "                   for k, p in tparams.items()]\n",
    "    running_grads2 = [theano.shared(p.get_value() * numpy_floatX(0.),\n",
    "                                    name='%s_rgrad2' % k)\n",
    "                      for k, p in tparams.items()]\n",
    "\n",
    "    zgup = [(zg, g) for zg, g in zip(zipped_grads, grads)]\n",
    "    rg2up = [(rg2, 0.95 * rg2 + 0.05 * (g ** 2))\n",
    "             for rg2, g in zip(running_grads2, grads)]\n",
    "\n",
    "    f_grad_shared = theano.function([x, mask, y], cost, updates=zgup + rg2up,\n",
    "                                    name='adadelta_f_grad_shared')\n",
    "\n",
    "    updir = [-tensor.sqrt(ru2 + 1e-6) / tensor.sqrt(rg2 + 1e-6) * zg\n",
    "             for zg, ru2, rg2 in zip(zipped_grads,\n",
    "                                     running_up2,\n",
    "                                     running_grads2)]\n",
    "    ru2up = [(ru2, 0.95 * ru2 + 0.05 * (ud ** 2))\n",
    "             for ru2, ud in zip(running_up2, updir)]\n",
    "    param_up = [(p, p + ud) for p, ud in zip(tparams.values(), updir)]\n",
    "\n",
    "    f_update = theano.function([lr], [], updates=ru2up + param_up,\n",
    "                               on_unused_input='ignore',\n",
    "                               name='adadelta_f_update')\n",
    "\n",
    "    return f_grad_shared, f_update"
   ]
  },
  {
   "cell_type": "code",
   "execution_count": 5,
   "metadata": {
    "collapsed": true
   },
   "outputs": [],
   "source": [
    "# the same as model_options = locals().copy() in function train_lstm\n",
    "model_options = {}\n",
    "model_options.update({'test_size': 500, 'reload_model': None, 'use_dropout': True,\n",
    "                       'noise_std': 0.0, 'dataset': 'imdb', 'valid_batch_size': 64,\n",
    "                       'batch_size': 16, 'maxlen': 100, 'saveFreq': 1110, 'validFreq': 370,\n",
    "                       'saveto': '../trained_models/Method1_and_2/lstm_model.npz', 'encoder': 'lstm', 'optimizer': adadelta,\n",
    "                       'n_words': 10000, 'lrate': 0.0001, 'decay_c': 0.0, \n",
    "                       'dispFreq': 100, 'max_epochs': 100, 'patience': 10, 'dim_proj': 128})\n",
    "# 7078735  total words  114053  unique words"
   ]
  },
  {
   "cell_type": "code",
   "execution_count": 6,
   "metadata": {},
   "outputs": [
    {
     "name": "stdout",
     "output_type": "stream",
     "text": [
      "{'encoder': 'lstm', 'optimizer': <function adadelta at 0x10fb3af50>, 'validFreq': 370, 'lrate': 0.0001, 'test_size': 500, 'batch_size': 16, 'decay_c': 0.0, 'patience': 10, 'reload_model': None, 'n_words': 10000, 'max_epochs': 100, 'dispFreq': 100, 'dataset': 'imdb', 'use_dropout': True, 'dim_proj': 128, 'maxlen': 100, 'saveto': '../trained_models/Method1_and_2/lstm_model.npz', 'noise_std': 0.0, 'valid_batch_size': 64, 'saveFreq': 1110}\n"
     ]
    }
   ],
   "source": [
    "print(model_options)"
   ]
  },
  {
   "cell_type": "code",
   "execution_count": 7,
   "metadata": {
    "collapsed": true
   },
   "outputs": [],
   "source": [
    "datasets = {'imdb': (imdb.load_data, imdb.prepare_data)}\n",
    "def get_dataset(name):\n",
    "    return datasets[name][0], datasets[name][1]"
   ]
  },
  {
   "cell_type": "code",
   "execution_count": 8,
   "metadata": {
    "collapsed": true
   },
   "outputs": [],
   "source": [
    "# Get the function names from imdb module\n",
    "load_data, prepare_data = get_dataset(model_options['dataset'])"
   ]
  },
  {
   "cell_type": "code",
   "execution_count": 9,
   "metadata": {},
   "outputs": [
    {
     "name": "stdout",
     "output_type": "stream",
     "text": [
      "Loading data\n"
     ]
    }
   ],
   "source": [
    "# imdb.load_data(n_words, valid_portion, maxlen)\n",
    "print('Loading data')\n",
    "data_path = '../data/gensim/gensim_imdb.pkl'\n",
    "n_words = model_options['n_words'] # Vocabulary size\n",
    "maxlen = model_options['maxlen'] # Sequence longer than this get ignored\n",
    "train, valid, test = load_data(path=data_path, n_words=n_words,\n",
    "                               valid_portion=0.05, maxlen=maxlen)"
   ]
  },
  {
   "cell_type": "code",
   "execution_count": 10,
   "metadata": {},
   "outputs": [
    {
     "name": "stdout",
     "output_type": "stream",
     "text": [
      "[[10, 17, 6, 377, 18, 7, 45, 49, 50, 303, 1], [1, 0, 1, 73, 3, 115, 1, 2, 3, 17, 93, 4692], [9, 55, 22, 856, 10, 29, 56, 21, 2979, 2363, 310, 1]]\n",
      "[0, 0, 0]\n",
      "2435\n"
     ]
    }
   ],
   "source": [
    "# check from imdb.load_data function that train includes train_x, train_y\n",
    "# print some train_x and train_y to get the sense what they look like\n",
    "train_x, train_y = train\n",
    "\n",
    "print(train_x[0:3])\n",
    "print(train_y[0:3])\n",
    "print(len(train_x))"
   ]
  },
  {
   "cell_type": "code",
   "execution_count": 11,
   "metadata": {},
   "outputs": [
    {
     "name": "stdout",
     "output_type": "stream",
     "text": [
      "The test size set in parameters: 500\n",
      "The real size of test set: 25000\n"
     ]
    }
   ],
   "source": [
    "test_size = model_options['test_size']\n",
    "print('The test size set in parameters: ' + str(test_size))\n",
    "\n",
    "# Select randomly the test_size number of test smaples from test which is much larger\n",
    "# The test set is sorted by size, but we want to keep random\n",
    "# size example.  So we must select a random selection of the\n",
    "# examples.\n",
    "if test_size > 0:\n",
    "    print('The real size of test set: ' + str(len(test[0])))\n",
    "    idx = numpy.arange(len(test[0])) # test[0] is test_x\n",
    "    numpy.random.shuffle(idx) # shuffle: to rearrange (playing cards, dominoes, tiles, etc.) to produce a random order\n",
    "    idx = idx[:test_size]\n",
    "    test = ([test[0][n] for n in idx], [test[1][n] for n in idx])"
   ]
  },
  {
   "cell_type": "code",
   "execution_count": 12,
   "metadata": {
    "collapsed": true
   },
   "outputs": [],
   "source": [
    "# Get the number of sentimental class\n",
    "ydim = numpy.max(train[1]) + 1 # train_y = train[1]\n",
    "model_options['ydim'] = ydim"
   ]
  },
  {
   "cell_type": "code",
   "execution_count": 13,
   "metadata": {
    "collapsed": true
   },
   "outputs": [],
   "source": [
    "def ortho_weight(ndim):\n",
    "    W = numpy.random.randn(ndim, ndim)\n",
    "    u, s, v = numpy.linalg.svd(W)\n",
    "    return u.astype(config.floatX)"
   ]
  },
  {
   "cell_type": "code",
   "execution_count": 14,
   "metadata": {
    "collapsed": true
   },
   "outputs": [],
   "source": [
    "# concate prefix pp to name\n",
    "def _p(pp, name):\n",
    "    return '%s_%s' % (pp, name)"
   ]
  },
  {
   "cell_type": "code",
   "execution_count": 15,
   "metadata": {
    "collapsed": true
   },
   "outputs": [],
   "source": [
    "# Initialize the parameters of lstm layer\n",
    "def param_init_lstm(options, params, prefix='lstm'):\n",
    "    \"\"\"\n",
    "    Init the LSTM parameter:\n",
    "\n",
    "    :see: init_params\n",
    "    \"\"\"\n",
    "    W = numpy.concatenate([ortho_weight(options['dim_proj']),\n",
    "                           ortho_weight(options['dim_proj']),\n",
    "                           ortho_weight(options['dim_proj']),\n",
    "                           ortho_weight(options['dim_proj'])], axis=1)\n",
    "    params[_p(prefix, 'W')] = W # _p is a function to concate prefix and W --> lstm_W\n",
    "    U = numpy.concatenate([ortho_weight(options['dim_proj']),\n",
    "                           ortho_weight(options['dim_proj']),\n",
    "                           ortho_weight(options['dim_proj']),\n",
    "                           ortho_weight(options['dim_proj'])], axis=1)\n",
    "    params[_p(prefix, 'U')] = U\n",
    "    b = numpy.zeros((4 * options['dim_proj'],))\n",
    "    params[_p(prefix, 'b')] = b.astype(config.floatX)\n",
    "\n",
    "    return params"
   ]
  },
  {
   "cell_type": "code",
   "execution_count": 16,
   "metadata": {},
   "outputs": [
    {
     "data": {
      "text/plain": [
       "OrderedDict([('lstm_W',\n",
       "              array([[-0.97752005,  0.21084256, -0.89628685,  0.44347477, -0.5562504 ,\n",
       "                       0.83101475, -0.8234588 ,  0.56737614],\n",
       "                     [ 0.21084256,  0.97752005,  0.44347477,  0.89628685,  0.83101475,\n",
       "                       0.5562504 ,  0.56737614,  0.8234588 ]], dtype=float32))])"
      ]
     },
     "execution_count": 16,
     "metadata": {},
     "output_type": "execute_result"
    }
   ],
   "source": [
    "params_test = OrderedDict()\n",
    "def ptest(options, params_test, prefix='lstm'):\n",
    "    W = numpy.concatenate([ortho_weight(2),\n",
    "                       ortho_weight(2),\n",
    "                       ortho_weight(2),\n",
    "                       ortho_weight(2)], axis=1)\n",
    "    params_test[_p('lstm', 'W')] = W\n",
    "    return params_test\n",
    "\n",
    "ptest(model_options, params_test, prefix=model_options['encoder'])"
   ]
  },
  {
   "cell_type": "code",
   "execution_count": 17,
   "metadata": {
    "collapsed": true
   },
   "outputs": [],
   "source": [
    "# state_below is passed in the emb --> the weights in the first layer ? why not X\n",
    "# because emb is the embedding of words which represents words\n",
    "def lstm_layer(tparams, state_below, options, prefix='lstm', mask=None):\n",
    "    nsteps = state_below.shape[0] # time steps namely, the number of words in a sentence\n",
    "    if state_below.ndim == 3:\n",
    "        n_samples = state_below.shape[1] # the number of sentences in a minibatch\n",
    "    else:\n",
    "        n_samples = 1 # in the case of no minibatch applied, then train with one sentence at a time\n",
    "\n",
    "    assert mask is not None # sequence mask must be provided\n",
    "\n",
    "    def _slice(_x, n, dim):\n",
    "        if _x.ndim == 3:\n",
    "            return _x[:, :, n * dim:(n + 1) * dim]\n",
    "        return _x[:, n * dim:(n + 1) * dim]\n",
    "\n",
    "    # m_: mask, x_: state_below which is emb * lstm_W + lstm_b\n",
    "    def _step(m_, x_, h_, c_):\n",
    "        preact = tensor.dot(h_, tparams[_p(prefix, 'U')]) # lstm_U*h_t-1\n",
    "        preact += x_ # Wemb * lstm_W + lstm_b + lstm_U*h_t-1\n",
    "\n",
    "        i = tensor.nnet.sigmoid(_slice(preact, 0, options['dim_proj']))\n",
    "        f = tensor.nnet.sigmoid(_slice(preact, 1, options['dim_proj']))\n",
    "        o = tensor.nnet.sigmoid(_slice(preact, 2, options['dim_proj']))\n",
    "        c = tensor.tanh(_slice(preact, 3, options['dim_proj']))\n",
    "\n",
    "        c = f * c_ + i * c # c_ means previous state refer to s[t]= f*s[t-1] + i*s[t]\n",
    "        c = m_[:, None] * c + (1. - m_)[:, None] * c_ # c is of shape (minibatch maxlen, number of sentences\n",
    "                                                    # in a minibatch, word embbdeding size) = (98, 16, 4)\n",
    "        # c = theano.printing.Print('c')(c)\n",
    "\n",
    "        h = o * tensor.tanh(c)\n",
    "        h = m_[:, None] * h + (1. - m_)[:, None] * h_ # ??\n",
    "\n",
    "        return h, c\n",
    "\n",
    "    # emb * lstm_W + lstm_b\n",
    "    state_below = (tensor.dot(state_below, tparams[_p(prefix, 'W')]) +\n",
    "                   tparams[_p(prefix, 'b')])\n",
    "\n",
    "    dim_proj = options['dim_proj']\n",
    "    # scan function, sequence is the input x, nonsequence is ussually not iterated such as w and b\n",
    "    rval, updates = theano.scan(_step,\n",
    "                                sequences=[mask, state_below],\n",
    "                                outputs_info=[tensor.alloc(numpy_floatX(0.),\n",
    "                                                           n_samples,\n",
    "                                                           dim_proj),\n",
    "                                              tensor.alloc(numpy_floatX(0.),\n",
    "                                                           n_samples,\n",
    "                                                           dim_proj)],\n",
    "                                name=_p(prefix, '_layers'),\n",
    "                                n_steps=nsteps) # repeat as the number of words in a sentence\n",
    "    return rval[0] # rval = h which is of shape (n_samples, dim_proj) or (n_timesteps, n_samples, dim_proj)?"
   ]
  },
  {
   "cell_type": "code",
   "execution_count": 18,
   "metadata": {
    "collapsed": true
   },
   "outputs": [],
   "source": [
    "def gru_layer(tparams, state_below, options, prefix='gru', mask=None):\n",
    "    nsteps = state_below.shape[0]\n",
    "    if state_below.ndim == 3:\n",
    "        n_samples = state_below.shape[1]\n",
    "    else:\n",
    "        n_samples = 1\n",
    "\n",
    "    assert mask is not None\n",
    "\n",
    "    def _slice(_x, n, dim):\n",
    "        if _x.ndim == 3:\n",
    "            return _x[:, :, n * dim:(n + 1) * dim]\n",
    "        return _x[:, n * dim:(n + 1) * dim]\n",
    "    \n",
    "    def x_seperate(_x, dim):\n",
    "        if _x.ndim == 3:\n",
    "            return _x[:, :, 0: 2 * dim], _x[:, :, 2 * dim:]\n",
    "        return _x[:, 0: 2 * dim], _x[:, 2 * dim:]\n",
    "\n",
    "    def _step(m_, x_, h_):\n",
    "        _x12, _x3 = x_seperate(x_, model_options['dim_proj'])\n",
    "\n",
    "        preact = tensor.dot(h_, tparams[_p(prefix, 'U')])\n",
    "        preact += _x12\n",
    "\n",
    "        m = tensor.nnet.sigmoid(preact)\n",
    "        r = _slice(m, 0, model_options['dim_proj'])\n",
    "        u = _slice(m, 1, model_options['dim_proj'])\n",
    "\n",
    "        _h = tensor.tanh(_x3 + tensor.dot(r * h_, tparams[_p(prefix, 'W_hh')]))\n",
    "        h = u * h_ + (1.0 - u) * _h\n",
    "\n",
    "        h = m_[:, None] * h + (1. - m_)[:, None] * h_\n",
    "\n",
    "        return h\n",
    "\n",
    "    state_below = (tensor.dot(state_below, tparams[_p(prefix, 'W')]) +\n",
    "                   tparams[_p(prefix, 'b')])\n",
    "\n",
    "    dim_proj = options['dim_proj']\n",
    "    initial_hidden_vector = tensor.alloc(numpy_floatX(0.), n_samples, dim_proj)\n",
    "\n",
    "    rval, updates = theano.scan(_step,\n",
    "                                sequences=[mask, state_below],\n",
    "                                outputs_info=[initial_hidden_vector],\n",
    "                                name=_p(prefix, '_layers'),\n",
    "                                n_steps=nsteps)\n",
    "    return rval[0]"
   ]
  },
  {
   "cell_type": "code",
   "execution_count": 19,
   "metadata": {
    "collapsed": true
   },
   "outputs": [],
   "source": [
    "# Initialize the parameters of gru layer\n",
    "def param_init_gru(options, params, prefix='gru'):\n",
    "    \"\"\"\n",
    "    Init the GRU parameter:\n",
    "\n",
    "    :see: init_params\n",
    "    \"\"\"\n",
    "    W = numpy.concatenate([ortho_weight(options['dim_proj']),\n",
    "                           ortho_weight(options['dim_proj']),\n",
    "                           ortho_weight(options['dim_proj'])], axis=1)\n",
    "    params[_p(prefix, 'W')] = W\n",
    "        \n",
    "    U = numpy.concatenate([ortho_weight(options['dim_proj']),\n",
    "                           ortho_weight(options['dim_proj'])], axis=1)\n",
    "    params[_p(prefix, 'U')] = U\n",
    "\n",
    "    W_hh = ortho_weight(options['dim_proj'])\n",
    "    params[_p(prefix, 'W_hh')] = W_hh\n",
    "\n",
    "    b = numpy.zeros((3 * options['dim_proj'],))\n",
    "    params[_p(prefix, 'b')] = b.astype(config.floatX)\n",
    "\n",
    "    return params"
   ]
  },
  {
   "cell_type": "code",
   "execution_count": 20,
   "metadata": {
    "collapsed": true
   },
   "outputs": [],
   "source": [
    "def vanilla_layer(tparams, state_below, options, prefix='vanilla', mask=None):\n",
    "    nsteps = state_below.shape[0]\n",
    "    if state_below.ndim == 3:\n",
    "        n_samples = state_below.shape[1]\n",
    "    else:\n",
    "        n_samples = 1\n",
    "\n",
    "    assert mask is not None\n",
    "\n",
    "    def _step(m_, x_, h_):\n",
    "        a = x_ + tensor.dot(h_, tparams[_p(prefix, 'W')])\n",
    "        h = tensor.tanh(a)\n",
    "        h = m_[:, None] * h + (1. - m_)[:, None] * h_\n",
    "        return h\n",
    "\n",
    "    state_below = (tensor.dot(state_below, tparams[_p(prefix, 'U')]) +\n",
    "                   tparams[_p(prefix, 'b')])\n",
    "\n",
    "    dim_proj = options['dim_proj']\n",
    "    initial_hidden_vector = tensor.alloc(numpy_floatX(0.), n_samples, dim_proj)\n",
    "\n",
    "    rval, updates = theano.scan(_step,\n",
    "                                sequences=[mask, state_below],\n",
    "                                outputs_info=[initial_hidden_vector],\n",
    "                                name=_p(prefix, '_layers'),\n",
    "                                n_steps=nsteps)\n",
    "    return rval[0]"
   ]
  },
  {
   "cell_type": "code",
   "execution_count": 21,
   "metadata": {
    "collapsed": true
   },
   "outputs": [],
   "source": [
    "def param_init_vanilla(options, params, prefix='vanilla'):\n",
    "    \"\"\"\n",
    "    Init the vanilla RNN parameter:\n",
    "\n",
    "    :see: init_params\n",
    "    \"\"\"\n",
    "    ndim = options['dim_proj']\n",
    "    W_bound = numpy.sqrt(6. / (ndim + ndim))\n",
    "\n",
    "    U = numpy.asarray(numpy.random.uniform(low=-W_bound, high=W_bound, size=(ndim, ndim)))\n",
    "    params[_p(prefix, 'U')] = U.astype(config.floatX)\n",
    "\n",
    "    W = numpy.asarray(numpy.random.uniform(low=-W_bound, high=W_bound, size=(ndim, ndim)))\n",
    "    params[_p(prefix, 'W')] = W.astype(config.floatX)\n",
    "\n",
    "    b = numpy.zeros(options['dim_proj'],)\n",
    "    params[_p(prefix, 'b')] = b.astype(config.floatX)\n",
    "\n",
    "    return params"
   ]
  },
  {
   "cell_type": "code",
   "execution_count": 22,
   "metadata": {
    "collapsed": true
   },
   "outputs": [],
   "source": [
    "# ff: Feed Forward (normal neural net), only useful to put after lstm\n",
    "#     before the classifier.\n",
    "layers = {'lstm': (param_init_lstm, lstm_layer), \\\n",
    "         'gru': (param_init_gru, gru_layer), \\\n",
    "         'vanilla': (param_init_vanilla, vanilla_layer)}\n",
    "\n",
    "def get_layer(name):\n",
    "    fns = layers[name]\n",
    "    return fns"
   ]
  },
  {
   "cell_type": "code",
   "execution_count": 23,
   "metadata": {
    "collapsed": true
   },
   "outputs": [],
   "source": [
    "def init_params(options):\n",
    "    \"\"\"\n",
    "    Global (not LSTM) parameters. For the embeding and the classifier.\n",
    "    \"\"\"\n",
    "    params = OrderedDict()\n",
    "\n",
    "    # embedding layer\n",
    "    randn = numpy.random.rand(options['n_words'],\n",
    "                              options['dim_proj']) # n_words = vocabulary size, dim_proj = word embedding size\n",
    "\n",
    "    params['Wemb'] = (0.01 * randn).astype(config.floatX)\n",
    "\n",
    "    # lstm layer\n",
    "    params = get_layer(options['encoder'])[0](options, params, prefix=options['encoder'])\n",
    "\n",
    "    # classifier\n",
    "    params['U'] = 0.01 * numpy.random.randn(options['dim_proj'],\n",
    "                                            options['ydim']).astype(config.floatX)\n",
    "    params['b'] = numpy.zeros((options['ydim'],)).astype(config.floatX)\n",
    "\n",
    "    return params"
   ]
  },
  {
   "cell_type": "code",
   "execution_count": 24,
   "metadata": {
    "collapsed": true
   },
   "outputs": [],
   "source": [
    "params = init_params(model_options)"
   ]
  },
  {
   "cell_type": "code",
   "execution_count": 25,
   "metadata": {
    "collapsed": true
   },
   "outputs": [],
   "source": [
    "def init_tparams(params):\n",
    "    tparams = OrderedDict()\n",
    "    for kk, pp in params.items():\n",
    "        tparams[kk] = theano.shared(params[kk], name=kk)\n",
    "    return tparams"
   ]
  },
  {
   "cell_type": "code",
   "execution_count": 26,
   "metadata": {
    "collapsed": true
   },
   "outputs": [],
   "source": [
    "# This create Theano Shared Variable from the parameters.\n",
    "# Dict name (string) -> Theano Tensor Shared Variable\n",
    "# params and tparams have different copy of the weights. --> dont know why use different copies\n",
    "# Why? --> https://stackoverflow.com/questions/31143452/theano-shared-variables-on-python\n",
    "tparams = init_tparams(params)"
   ]
  },
  {
   "cell_type": "code",
   "execution_count": 27,
   "metadata": {},
   "outputs": [
    {
     "name": "stdout",
     "output_type": "stream",
     "text": [
      "[10000   128]\n"
     ]
    }
   ],
   "source": [
    "emb = tparams['Wemb']\n",
    "print(emb.shape.eval())"
   ]
  },
  {
   "cell_type": "code",
   "execution_count": 28,
   "metadata": {
    "collapsed": true
   },
   "outputs": [],
   "source": [
    "# state_before is proj namely hidden state\n",
    "def dropout_layer(state_before, use_noise, trng):\n",
    "    proj = tensor.switch(use_noise,\n",
    "                         (state_before *\n",
    "                          trng.binomial(state_before.shape,\n",
    "                                        p=0.5, n=1,\n",
    "                                        dtype=state_before.dtype)),\n",
    "                         state_before * 0.5)\n",
    "    return proj"
   ]
  },
  {
   "cell_type": "code",
   "execution_count": 29,
   "metadata": {
    "collapsed": true
   },
   "outputs": [],
   "source": [
    "def numpy_floatX(data):\n",
    "    return numpy.asarray(data, dtype=config.floatX)"
   ]
  },
  {
   "cell_type": "code",
   "execution_count": 30,
   "metadata": {
    "collapsed": true
   },
   "outputs": [],
   "source": [
    "def build_model(tparams, options):\n",
    "    trng = RandomStreams(SEED)\n",
    "\n",
    "    # Used for dropout.\n",
    "    use_noise = theano.shared(numpy_floatX(0.)) # --> [0], thus this line of code is the same as use_noise=[0]\n",
    "\n",
    "    x = tensor.matrix('x', dtype='int64') # x includes multiple sentences\n",
    "    mask = tensor.matrix('mask', dtype=config.floatX) # sequence mask\n",
    "    y = tensor.vector('y', dtype='int64')\n",
    "\n",
    "    n_timesteps = x.shape[0] # number of words per sentence\n",
    "    n_samples = x.shape[1] # number of sentences in a minibatch\n",
    "\n",
    "    # x.flatten() --> number of words * number of sentences\n",
    "    emb = tparams['Wemb'][x.flatten()].reshape([n_timesteps,\n",
    "                                                n_samples,\n",
    "                                                options['dim_proj']]) # each word in the sentence\n",
    "                                                                      # get its corresponding weights\n",
    "\n",
    "    # call get_layer(options['encoder'])[1] --> lstm_layer --> lstm_layer(tparams,...,)\n",
    "    # here emb is used to initialize states_below in lstm_layer function\n",
    "    proj = get_layer(options['encoder'])[1](tparams, emb, options,\n",
    "                                            prefix=options['encoder'],\n",
    "                                            mask=mask)\n",
    "\n",
    "    projshape = theano.printing.Print('proj')(proj.shape)\n",
    "    # mean over word hidden representations in a sentence, proj is of shape(n_samples, dim_proj)\n",
    "    if options['encoder'] == 'lstm' or options['encoder'] == 'gru':\n",
    "        proj = (proj * mask[:, :, None]).sum(axis=0) # add up the hidden representations of all words in a sentence\n",
    "        proj = proj / mask.sum(axis=0)[:, None] # mask.sum(axis=0) is the length of sentence without padding\n",
    "    if options['use_dropout']:\n",
    "        proj = dropout_layer(proj, use_noise, trng)\n",
    "\n",
    "    # last layer\n",
    "    pred = tensor.nnet.softmax(tensor.dot(proj, tparams['U']) + tparams['b'])\n",
    "    # pred is the probability of a sentence belonging to a class. It is of shape (n_samples, class)\n",
    "\n",
    "    f_pred_prob = theano.function([x, mask], pred, name='f_pred_prob')\n",
    "    f_pred = theano.function([x, mask], pred.argmax(axis=1), name='f_pred')\n",
    "\n",
    "    off = 1e-8\n",
    "    if pred.dtype == 'float16':\n",
    "        off = 1e-6\n",
    "\n",
    "    # get the probability of the right class and calculate its negative log. --> negative log likelihood\n",
    "    cost = -tensor.log(pred[tensor.arange(n_samples), y] + off).mean()\n",
    "\n",
    "    return use_noise, x, mask, y, f_pred_prob, f_pred, cost"
   ]
  },
  {
   "cell_type": "code",
   "execution_count": 31,
   "metadata": {
    "collapsed": true
   },
   "outputs": [],
   "source": [
    "(use_noise, x, mask,\n",
    " y, f_pred_prob, f_pred, cost) = build_model(tparams, model_options)"
   ]
  },
  {
   "cell_type": "code",
   "execution_count": 32,
   "metadata": {
    "collapsed": true
   },
   "outputs": [],
   "source": [
    "# add weight decay\n",
    "decay_c = model_options['decay_c']\n",
    "if decay_c > 0.:\n",
    "    decay_c = theano.shared(numpy_floatX(decay_c), name='decay_c')\n",
    "    weight_decay = 0.\n",
    "    weight_decay += (tparams['U'] ** 2).sum()\n",
    "    weight_decay *= decay_c\n",
    "    cost += weight_decay"
   ]
  },
  {
   "cell_type": "code",
   "execution_count": 33,
   "metadata": {
    "collapsed": true
   },
   "outputs": [],
   "source": [
    "# define cost that includes weight decay\n",
    "f_cost = theano.function([x, mask, y], cost, name='f_cost')"
   ]
  },
  {
   "cell_type": "code",
   "execution_count": 34,
   "metadata": {
    "collapsed": true
   },
   "outputs": [],
   "source": [
    "# define gradient functions\n",
    "grads = tensor.grad(cost, wrt=list(tparams.values()))\n",
    "f_grad = theano.function([x, mask, y], grads, name='f_grad')"
   ]
  },
  {
   "cell_type": "code",
   "execution_count": 35,
   "metadata": {
    "collapsed": true
   },
   "outputs": [],
   "source": [
    "# define optmizer\n",
    "optimizer = model_options['optimizer']\n",
    "lr = tensor.scalar(name='lr')\n",
    "f_grad_shared, f_update = optimizer(lr, tparams, grads,\n",
    "                                        x, mask, y, cost)"
   ]
  },
  {
   "cell_type": "code",
   "execution_count": 36,
   "metadata": {
    "collapsed": true
   },
   "outputs": [],
   "source": [
    "def get_minibatches_idx(n, minibatch_size, shuffle=False):\n",
    "    \"\"\"\n",
    "    Used to shuffle the dataset at each iteration.\n",
    "    \"\"\"\n",
    "\n",
    "    idx_list = numpy.arange(n, dtype=\"int32\")\n",
    "\n",
    "    if shuffle:\n",
    "        numpy.random.shuffle(idx_list)\n",
    "\n",
    "    minibatches = []\n",
    "    minibatch_start = 0\n",
    "    for i in range(n // minibatch_size):\n",
    "        minibatches.append(idx_list[minibatch_start:\n",
    "                                    minibatch_start + minibatch_size])\n",
    "        minibatch_start += minibatch_size\n",
    "\n",
    "    if (minibatch_start != n):\n",
    "        # Make a minibatch out of what is left\n",
    "        minibatches.append(idx_list[minibatch_start:])\n",
    "\n",
    "    return zip(range(len(minibatches)), minibatches)"
   ]
  },
  {
   "cell_type": "code",
   "execution_count": 37,
   "metadata": {},
   "outputs": [
    {
     "name": "stdout",
     "output_type": "stream",
     "text": [
      "Optimization\n"
     ]
    }
   ],
   "source": [
    "print('Optimization')\n",
    "valid_batch_size = model_options['valid_batch_size']\n",
    "kf_valid = get_minibatches_idx(len(valid[0]), valid_batch_size)\n",
    "kf_test = get_minibatches_idx(len(test[0]), valid_batch_size)"
   ]
  },
  {
   "cell_type": "code",
   "execution_count": 38,
   "metadata": {},
   "outputs": [
    {
     "name": "stdout",
     "output_type": "stream",
     "text": [
      "2435 train examples\n",
      "128 valid examples\n",
      "500 test examples\n"
     ]
    }
   ],
   "source": [
    "print(\"%d train examples\" % len(train[0]))\n",
    "print(\"%d valid examples\" % len(valid[0]))\n",
    "print(\"%d test examples\" % len(test[0]))"
   ]
  },
  {
   "cell_type": "code",
   "execution_count": 39,
   "metadata": {
    "collapsed": true
   },
   "outputs": [],
   "source": [
    "history_errs = []\n",
    "best_p = None # for storing best parameters\n",
    "bad_count = 0"
   ]
  },
  {
   "cell_type": "code",
   "execution_count": 40,
   "metadata": {
    "collapsed": true
   },
   "outputs": [],
   "source": [
    "# Compute the validation error after this number of update.\n",
    "validFreq = model_options['validFreq']\n",
    "\n",
    "# The batch size during training.\n",
    "batch_size = model_options['batch_size']\n",
    "\n",
    "saveFreq = model_options['saveFreq']\n",
    "\n",
    "if validFreq == -1:\n",
    "    validFreq = len(train[0]) // batch_size\n",
    "if saveFreq == -1:\n",
    "    saveFreq = len(train[0]) // batch_size"
   ]
  },
  {
   "cell_type": "code",
   "execution_count": 41,
   "metadata": {
    "collapsed": true
   },
   "outputs": [],
   "source": [
    "uidx = 0  # the number of update done\n",
    "estop = False  # early stop"
   ]
  },
  {
   "cell_type": "code",
   "execution_count": 42,
   "metadata": {
    "collapsed": true
   },
   "outputs": [],
   "source": [
    "def unzip(zipped):\n",
    "    \"\"\"\n",
    "    When we pickle the model. Needed for the GPU stuff.\n",
    "    \"\"\"\n",
    "    new_params = OrderedDict()\n",
    "    for kk, vv in zipped.items():\n",
    "        new_params[kk] = vv.get_value()\n",
    "    return new_params"
   ]
  },
  {
   "cell_type": "code",
   "execution_count": 43,
   "metadata": {
    "collapsed": true
   },
   "outputs": [],
   "source": [
    "def zipp(params, tparams):\n",
    "    \"\"\"\n",
    "    When we reload the model. Needed for the GPU stuff.\n",
    "    \"\"\"\n",
    "    for kk, vv in params.items():\n",
    "        tparams[kk].set_value(vv)"
   ]
  },
  {
   "cell_type": "code",
   "execution_count": 44,
   "metadata": {
    "collapsed": true
   },
   "outputs": [],
   "source": [
    "def pred_error(f_pred, prepare_data, data, iterator, verbose=False):\n",
    "    \"\"\"\n",
    "    Just compute the error\n",
    "    f_pred: Theano fct computing the prediction\n",
    "    prepare_data: usual prepare_data for that dataset.\n",
    "    \"\"\"\n",
    "    valid_err = 0\n",
    "    for _, valid_index in iterator:\n",
    "        x, mask, y = prepare_data([data[0][t] for t in valid_index],\n",
    "                                  numpy.array(data[1])[valid_index],\n",
    "                                  maxlen=None)\n",
    "        preds = f_pred(x, mask)\n",
    "        targets = numpy.array(data[1])[valid_index]\n",
    "        valid_err += (preds == targets).sum()\n",
    "    valid_err = 1. - numpy_floatX(valid_err) / len(data[0])\n",
    "\n",
    "    return valid_err"
   ]
  },
  {
   "cell_type": "code",
   "execution_count": null,
   "metadata": {
    "scrolled": false
   },
   "outputs": [
    {
     "name": "stdout",
     "output_type": "stream",
     "text": [
      "Epoch 1/100 Update 100/153 Cost 0.6989676\n",
      "Progress: 0.4min / 60.1min (1%)\n",
      "Seen 2435 samples\n",
      "Epoch 2/100 Update 47/153 Cost 0.6747616\n",
      "Progress: 0.7min / 50.6min (1%)\n",
      "Epoch 2/100 Update 147/153 Cost 0.7180719\n",
      "Progress: 0.9min / 46.4min (2%)\n",
      "Seen 2435 samples\n",
      "Validating.\n",
      "Train  0.4406570841889117 Valid  0.421875 Test  0.494\n",
      "Testing for early stop criteria.\n",
      "1.) len(history_errs)=1 > patience=10?\n",
      "Epoch 3/100 Update 94/153 Cost 0.6669215\n",
      "Progress: 1.3min / 50.5min (3%)\n",
      "Seen 2435 samples\n",
      "Epoch 4/100 Update 41/153 Cost 0.698466\n",
      "Progress: 1.5min / 46.9min (3%)\n",
      "Epoch 4/100 Update 141/153 Cost 0.7142364\n",
      "Progress: 1.7min / 44.6min (4%)\n",
      "Seen 2435 samples\n",
      "Epoch 5/100 Update 88/153 Cost 0.68508273\n",
      "Progress: 2.0min / 42.8min (5%)\n"
     ]
    }
   ],
   "source": [
    "max_epochs = model_options['max_epochs']\n",
    "dispFreq = model_options['dispFreq'] # Display to stdout the training progress every N updates\n",
    "saveFreq = model_options['saveFreq']\n",
    "saveto = model_options['saveto'] # The best model will be saved there\n",
    "\n",
    "lrate = model_options['lrate']\n",
    "patience = model_options['patience']\n",
    "\n",
    "train_costs = numpy.array([]) # add for plot\n",
    "train_accus = numpy.array([])\n",
    "\n",
    "start_time = time.time()\n",
    "try:\n",
    "    for eidx in range(max_epochs):\n",
    "        n_samples = 0 # the number of sentence\n",
    "\n",
    "        # Get new shuffled index for the training set.\n",
    "        kf = get_minibatches_idx(len(train[0]), batch_size, shuffle=True)\n",
    "        training_set_size = len(kf)\n",
    "        for _, train_index in kf:\n",
    "            uidx += 1\n",
    "            use_noise.set_value(1.) # going to use noise\n",
    "\n",
    "            # Select the random examples for this minibatch\n",
    "            y = [train[1][t] for t in train_index]\n",
    "            x = [train[0][t] for t in train_index] # wrap 16 sentences into an array \n",
    "                                        # as a result, x is of 2 dimensions, size of 1998/16 * 16 sentences\n",
    "            # Get the data in numpy.ndarray format\n",
    "            # This swap the axis!\n",
    "            # Return something of shape (minibatch maxlen, n_samples)\n",
    "            # n_samples is the number of sentences in a minibatch\n",
    "            x, mask, y = prepare_data(x, y) # all the sentence will have the same length which is minibatch maxlen\n",
    "            n_samples += x.shape[1] # x.shape[1] is the number of sentence in a minibatch\n",
    "\n",
    "            cost = f_grad_shared(x, mask, y) # call the model\n",
    "            f_update(lrate)\n",
    "\n",
    "            accuracy = (f_pred(x, mask) == y).sum() / len(y)\n",
    "            train_costs = numpy.append(train_costs, cost)\n",
    "            train_accus = numpy.append(train_accus, accuracy)\n",
    "\n",
    "            if numpy.isnan(cost) or numpy.isinf(cost):\n",
    "                print('bad cost detected: ', cost)\n",
    "                break\n",
    "            if numpy.mod(uidx, dispFreq) == 0:\n",
    "                remainder = (uidx % training_set_size)\n",
    "                if(remainder == 0 and uidx != 0):\n",
    "                    remainder = training_set_size\n",
    "                print('Epoch ' + str(eidx + 1) + \"/\" + str(max_epochs) + ' Update ' + str(remainder) + \"/\" + str(training_set_size) + ' Cost ' + str(cost))\n",
    "                progress = (float(eidx) / float(max_epochs)) + ((float(remainder) / float(training_set_size)) / max_epochs)\n",
    "                if(progress > 0):\n",
    "                    time_taken = (time.time() - start_time) / 60\n",
    "                    time_remaining = time_taken / progress\n",
    "                    print('Progress: %.1fmin / ' % time_taken + '%.1fmin' % time_remaining + ' (%.0f' % (progress * 100) + \"%)\") \n",
    "\n",
    "            if saveto and numpy.mod(uidx, saveFreq) == 0:\n",
    "\n",
    "                if best_p is not None:\n",
    "                    params = best_p\n",
    "                else:\n",
    "                    params = unzip(tparams)\n",
    "                    numpy.savez(saveto, history_errs=history_errs, **params)\n",
    "                    pickle.dump(model_options, open('%s.pkl' % saveto, 'wb'), -1)\n",
    "                    print('Saved results to: ' + saveto + '.')\n",
    "            if numpy.mod(uidx, validFreq) == 0:\n",
    "                print(\"Validating.\")\n",
    "                use_noise.set_value(0.) # at validation stage, dont use noise\n",
    "                train_err = pred_error(f_pred, prepare_data, train, kf)\n",
    "                valid_err = pred_error(f_pred, prepare_data, valid, kf_valid)\n",
    "                test_err = pred_error(f_pred, prepare_data, test, kf_test)\n",
    "                \n",
    "                kf_valid = get_minibatches_idx(len(valid[0]), valid_batch_size)\n",
    "                kf_test = get_minibatches_idx(len(test[0]), valid_batch_size)\n",
    "\n",
    "                history_errs.append([valid_err, test_err])\n",
    "\n",
    "                if (best_p is None or\n",
    "                    valid_err <= numpy.array(history_errs)[:, 0].min()):\n",
    "\n",
    "                    best_p = unzip(tparams)\n",
    "                    bad_counter = 0\n",
    "\n",
    "                print('Train ', train_err, 'Valid ', valid_err,\n",
    "                       'Test ', test_err)\n",
    "\n",
    "                print(\"Testing for early stop criteria.\")\n",
    "                print(\"1.) len(history_errs)=\" + str(len(history_errs)) + \" > patience=\" + str(patience)+ \"?\")\n",
    "                if(len(history_errs) > patience):\n",
    "                    print(\"2.) valid_err=\" + str(valid_err) + \" >= numpy.array(history_errs)[:-patience,0].min()=\" + str(numpy.array(history_errs)[:-patience,0].min()) + \"?\")\n",
    "                    if(valid_err >= numpy.array(history_errs)[:-patience,\n",
    "                                                           0].min()):\n",
    "                        print(\"bad_counter=\" + str(bad_counter) + \" > patience=\" + str(patience) + \"?\")\n",
    "                        \n",
    "                if (len(history_errs) > patience and\n",
    "                    valid_err >= numpy.array(history_errs)[:-patience,\n",
    "                                                           0].min()):\n",
    "                    bad_counter += 1\n",
    "                    if bad_counter > patience:\n",
    "                        print('Early Stop!')\n",
    "                        estop = True\n",
    "                        break\n",
    "\n",
    "        print('Seen %d samples' % n_samples)\n",
    "\n",
    "        if estop:\n",
    "            break\n",
    "\n",
    "except KeyboardInterrupt:\n",
    "    print(\"Training interupted\")\n",
    "\n",
    "print(\"Doing final calculations.\")\n",
    "\n",
    "if best_p is not None:\n",
    "    zipp(best_p, tparams)\n",
    "else:\n",
    "    best_p = unzip(tparams)\n",
    "\n",
    "use_noise.set_value(0.)\n",
    "kf_train_sorted = get_minibatches_idx(len(train[0]), batch_size)\n",
    "train_err = pred_error(f_pred, prepare_data, train, kf_train_sorted)\n",
    "valid_err = pred_error(f_pred, prepare_data, valid, kf_valid)\n",
    "test_err = pred_error(f_pred, prepare_data, test, kf_test)\n",
    "\n",
    "print( 'Train ', train_err, 'Valid ', valid_err, 'Test ', test_err )\n",
    "if saveto:\n",
    "    numpy.savez(saveto, train_err=train_err,\n",
    "                valid_err=valid_err, test_err=test_err,\n",
    "                history_errs=history_errs, **best_p)\n",
    "    print('Saved results to: ' + saveto + '.')\n",
    "\n",
    "end_time = time.time()\n",
    "print('The code run for %d epochs, with %f sec/epochs' % (\n",
    "    (eidx + 1), (end_time - start_time) / (1. * (eidx + 1))))\n",
    "print( ('Training took %.1fs' %\n",
    "        (end_time - start_time)), file=sys.stderr)"
   ]
  },
  {
   "cell_type": "code",
   "execution_count": null,
   "metadata": {
    "collapsed": true
   },
   "outputs": [],
   "source": [
    "print(len(train_costs))"
   ]
  },
  {
   "cell_type": "code",
   "execution_count": null,
   "metadata": {
    "collapsed": true
   },
   "outputs": [],
   "source": [
    "import matplotlib.pyplot as plt\n",
    "\n",
    "fig_tr, ax_tr = plt.subplots(1, 2, figsize=(16, 4))\n",
    "fig_tr.suptitle(\"Cost and Accuracy on Training Set\")\n",
    "\n",
    "ax_tr[0].plot(train_costs, '-r')\n",
    "ax_tr[0].set_xlabel('Iterations')\n",
    "ax_tr[0].set_ylabel('Cost')\n",
    "\n",
    "ax_tr[1].plot(train_accus, '-g')\n",
    "ax_tr[1].set_xlabel('Iterations')\n",
    "ax_tr[1].set_ylabel('Accuracy')\n",
    "\n",
    "fig_tr.subplots_adjust(wspace=.4)\n",
    "plt.show()\n",
    "\n",
    "fig_v, ax_v = plt.subplots(1, 2, figsize=(16, 4))\n",
    "fig_v.suptitle(\"Validation and test error rates\")\n",
    "\n",
    "ax_v[0].plot(numpy.array(history_errs)[:,0], '-r')\n",
    "ax_v[0].set_xlabel('Iterations')\n",
    "ax_v[0].set_ylabel('Validation error rate')\n",
    "\n",
    "ax_v[1].plot(numpy.array(history_errs)[:,1], '-g')\n",
    "ax_v[1].set_xlabel('Iterations')\n",
    "ax_v[1].set_ylabel('Test error rate')\n",
    "\n",
    "fig_v.subplots_adjust(wspace=.4)\n",
    "plt.show()\n",
    "fig_tr.savefig('../trained_models/Method1_and_2/method1_cost_and_accuracy.png')\n",
    "fig_v.savefig('../trained_models/Method1_and_2/method1_validation_and_error_rate.png')"
   ]
  },
  {
   "cell_type": "code",
   "execution_count": null,
   "metadata": {
    "collapsed": true
   },
   "outputs": [],
   "source": []
  }
 ],
 "metadata": {
  "kernelspec": {
   "display_name": "Python 2.7",
   "language": "python",
   "name": "python27"
  },
  "language_info": {
   "codemirror_mode": {
    "name": "ipython",
    "version": 2
   },
   "file_extension": ".py",
   "mimetype": "text/x-python",
   "name": "python",
   "nbconvert_exporter": "python",
   "pygments_lexer": "ipython2",
   "version": "2.7.14"
  }
 },
 "nbformat": 4,
 "nbformat_minor": 2
}
