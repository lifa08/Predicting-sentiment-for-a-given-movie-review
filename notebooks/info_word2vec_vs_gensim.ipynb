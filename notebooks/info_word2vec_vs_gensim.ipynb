{
 "cells": [
  {
   "cell_type": "markdown",
   "metadata": {},
   "source": [
    "## Exploring two word2vec models (word2vec vs gensim)"
   ]
  },
  {
   "cell_type": "code",
   "execution_count": 1,
   "metadata": {
    "collapsed": true
   },
   "outputs": [],
   "source": [
    "import word2vec\n",
    "import numpy\n",
    "\n",
    "import gensim, logging\n",
    "logging.basicConfig(format='%(asctime)s : %(levelname)s : %(message)s', level=logging.INFO)\n",
    "\n",
    "import nltk"
   ]
  },
  {
   "cell_type": "markdown",
   "metadata": {},
   "source": [
    "### 1. Python interface to Google word2vec\n",
    "\n",
    "Ref: https://github.com/danielfrg/word2vec"
   ]
  },
  {
   "cell_type": "code",
   "execution_count": 2,
   "metadata": {
    "collapsed": true
   },
   "outputs": [],
   "source": [
    "def read_dataset(path):\n",
    "    \"\"\"Read a dataset, where the first column contains a real-valued score,\n",
    "    followed by a tab and a string of words.\n",
    "    \"\"\"\n",
    "    dataset = []\n",
    "    with open(path, \"r\") as f:\n",
    "        for line in f:\n",
    "            line_parts = line.strip().split(\"\\t\")\n",
    "            dataset.append((float(line_parts[0]), line_parts[1].lower()))\n",
    "    return dataset"
   ]
  },
  {
   "cell_type": "code",
   "execution_count": 35,
   "metadata": {},
   "outputs": [],
   "source": [
    "path = '../data/info_word2vec_vs_gensim/train.txt'\n",
    "sentences_train = read_dataset(path)\n",
    "models_path = '../trained_models/info/'"
   ]
  },
  {
   "cell_type": "code",
   "execution_count": 36,
   "metadata": {},
   "outputs": [],
   "source": [
    "f = open(models_path + 'sentence_forword2vector.txt', 'w')\n",
    "for label, sentence in sentences_train:\n",
    "    f.write(sentence)\n",
    "f.close()"
   ]
  },
  {
   "cell_type": "markdown",
   "metadata": {},
   "source": [
    "word2phrase groups up similar words \"Los Angeles\" to \"Los_Angeles\".\n",
    "\n",
    "**Note:** word2phrase will create a phrases text file which can be used as a better input for word2vec. However, we can also use the original text file as input for word2vec, thus this step can be skipped."
   ]
  },
  {
   "cell_type": "code",
   "execution_count": 37,
   "metadata": {},
   "outputs": [
    {
     "name": "stdout",
     "output_type": "stream",
     "text": [
      "Starting training using file ../trained_models/info/sentence_forword2vector.txt\n",
      "Words processed: 100K     Vocab size: 76K  \n",
      "Vocab size (unigrams + bigrams): 51508\n",
      "Words in train file: 133711\n",
      "Words written: 100K\r"
     ]
    }
   ],
   "source": [
    "word2vec.word2phrase(models_path + 'sentence_forword2vector.txt', models_path + 'sentence_phrases.txt', verbose=True)"
   ]
  },
  {
   "cell_type": "markdown",
   "metadata": {},
   "source": [
    "Train the model using the word2phrase output.\n",
    "\n",
    "word2vec generates a bin file containing the word vectors in a binary format."
   ]
  },
  {
   "cell_type": "code",
   "execution_count": 38,
   "metadata": {},
   "outputs": [
    {
     "name": "stdout",
     "output_type": "stream",
     "text": [
      "Starting training using file ../trained_models/info/sentence_phrases.txt\n",
      "Vocab size: 3062\n",
      "Words in train file: 110763\n"
     ]
    }
   ],
   "source": [
    "word2vec.word2vec(models_path + 'sentence_phrases.txt', models_path + 'sentence_phrases_bin.bin', size=100, verbose=True)"
   ]
  },
  {
   "cell_type": "markdown",
   "metadata": {},
   "source": [
    "word2clusters cluster the trained vectors.\n",
    "\n",
    "The output file contains the cluster for every word in the vocabulary."
   ]
  },
  {
   "cell_type": "code",
   "execution_count": 39,
   "metadata": {},
   "outputs": [
    {
     "name": "stdout",
     "output_type": "stream",
     "text": [
      "Starting training using file ../trained_models/info/sentence_phrases_bin.bin\n",
      "Vocab size: 10\n",
      "Words in train file: 7315\n"
     ]
    }
   ],
   "source": [
    "word2vec.word2clusters(models_path + 'sentence_phrases_bin.bin', models_path + 'sentence_phrases_clusters.txt', 100, verbose=True)"
   ]
  },
  {
   "cell_type": "code",
   "execution_count": 40,
   "metadata": {},
   "outputs": [
    {
     "name": "stderr",
     "output_type": "stream",
     "text": [
      "/Users/lifa08/anaconda3/lib/python3.6/site-packages/word2vec/utils.py:7: RuntimeWarning: divide by zero encountered in true_divide\n",
      "  return (1.0 / LA.norm(vec, ord=2)) * vec\n",
      "/Users/lifa08/anaconda3/lib/python3.6/site-packages/numpy/linalg/linalg.py:2168: RuntimeWarning: invalid value encountered in sqrt\n",
      "  ret = sqrt(sqnorm)\n"
     ]
    },
    {
     "data": {
      "text/plain": [
       "array(['</s>', ',', 'the', ..., 'ethnic', 'nonsense', 'earth'],\n",
       "      dtype='<U78')"
      ]
     },
     "execution_count": 40,
     "metadata": {},
     "output_type": "execute_result"
    }
   ],
   "source": [
    "model = word2vec.load(models_path + 'sentence_phrases_bin.bin')\n",
    "model.vocab"
   ]
  },
  {
   "cell_type": "code",
   "execution_count": 41,
   "metadata": {},
   "outputs": [
    {
     "data": {
      "text/plain": [
       "(3062, 100)"
      ]
     },
     "execution_count": 41,
     "metadata": {},
     "output_type": "execute_result"
    }
   ],
   "source": [
    "model.vectors.shape"
   ]
  },
  {
   "cell_type": "code",
   "execution_count": 42,
   "metadata": {},
   "outputs": [
    {
     "data": {
      "text/plain": [
       "array([[  6.58986646e-13,   7.27593387e-13,  -6.30599360e-13, ...,\n",
       "          2.50888205e-13,   5.03685635e-13,   3.18791556e-14],\n",
       "       [             inf,             -inf,              inf, ...,\n",
       "                     inf,             -inf,             -inf],\n",
       "       [ -5.62611520e-11,  -5.00759087e-11,   3.81477835e-11, ...,\n",
       "         -2.24868180e-11,  -4.26854073e-11,  -6.83195792e-11],\n",
       "       ..., \n",
       "       [             inf,             -inf,              inf, ...,\n",
       "                     inf,             -inf,             -inf],\n",
       "       [  4.68127880e+07,  -2.65415392e+08,   9.31840160e+07, ...,\n",
       "          1.49419648e+08,  -1.03577656e+08,  -2.93692864e+08],\n",
       "       [  2.17401704e-12,  -1.59137998e-11,   5.15266085e-12, ...,\n",
       "          9.41512753e-12,  -7.24156499e-12,  -1.71239758e-11]])"
      ]
     },
     "execution_count": 42,
     "metadata": {},
     "output_type": "execute_result"
    }
   ],
   "source": [
    "model.vectors"
   ]
  },
  {
   "cell_type": "markdown",
   "metadata": {},
   "source": [
    "Retreive the vector of individual words."
   ]
  },
  {
   "cell_type": "code",
   "execution_count": 43,
   "metadata": {},
   "outputs": [
    {
     "data": {
      "text/plain": [
       "(100,)"
      ]
     },
     "execution_count": 43,
     "metadata": {},
     "output_type": "execute_result"
    }
   ],
   "source": [
    "model['nonsense'].shape"
   ]
  },
  {
   "cell_type": "code",
   "execution_count": 44,
   "metadata": {},
   "outputs": [
    {
     "data": {
      "text/plain": [
       "array([ inf, -inf,  inf, -inf,  inf,  inf, -inf, -inf, -inf,  inf])"
      ]
     },
     "execution_count": 44,
     "metadata": {},
     "output_type": "execute_result"
    }
   ],
   "source": [
    "model[','][:10]"
   ]
  },
  {
   "cell_type": "markdown",
   "metadata": {},
   "source": [
    "Do simple queries to retreive words similar to \"the\" based on cosine similarity.\n",
    "\n",
    "This returned a tuple with 2 items:\n",
    "\n",
    "    indexes: numpy array with the indexes of the similar words in the vocabulary\n",
    "    metrics: numpy array with cosine similarity to each word"
   ]
  },
  {
   "cell_type": "code",
   "execution_count": 45,
   "metadata": {},
   "outputs": [
    {
     "data": {
      "text/plain": [
       "(array([1016, 1025, 1024, 1023, 1022, 1021, 1020, 1019, 1018, 1017]),\n",
       " array([ nan,  nan,  nan,  nan,  nan,  nan,  nan,  nan,  nan,  nan]))"
      ]
     },
     "execution_count": 45,
     "metadata": {},
     "output_type": "execute_result"
    }
   ],
   "source": [
    "indexes, metrics = model.cosine(',')\n",
    "indexes, metrics"
   ]
  },
  {
   "cell_type": "code",
   "execution_count": 46,
   "metadata": {},
   "outputs": [
    {
     "data": {
      "text/plain": [
       "array(['faith', 'writer', 'class', 'ultimate', 'cute', 'fears', 'fit',\n",
       "       '.nothing', 'steven', 'several'],\n",
       "      dtype='<U78')"
      ]
     },
     "execution_count": 46,
     "metadata": {},
     "output_type": "execute_result"
    }
   ],
   "source": [
    "model.vocab[indexes]"
   ]
  },
  {
   "cell_type": "code",
   "execution_count": 47,
   "metadata": {},
   "outputs": [
    {
     "data": {
      "text/plain": [
       "rec.array([('faith',  nan), ('writer',  nan), ('class',  nan),\n",
       "           ('ultimate',  nan), ('cute',  nan), ('fears',  nan),\n",
       "           ('fit',  nan), ('.nothing',  nan), ('steven',  nan),\n",
       "           ('several',  nan)], \n",
       "          dtype=[('word', '<U78'), ('metric', '<f8')])"
      ]
     },
     "execution_count": 47,
     "metadata": {},
     "output_type": "execute_result"
    }
   ],
   "source": [
    "model.generate_response(indexes, metrics)"
   ]
  },
  {
   "cell_type": "code",
   "execution_count": 48,
   "metadata": {},
   "outputs": [
    {
     "data": {
      "text/plain": [
       "[('faith', nan),\n",
       " ('writer', nan),\n",
       " ('class', nan),\n",
       " ('ultimate', nan),\n",
       " ('cute', nan),\n",
       " ('fears', nan),\n",
       " ('fit', nan),\n",
       " ('.nothing', nan),\n",
       " ('steven', nan),\n",
       " ('several', nan)]"
      ]
     },
     "execution_count": 48,
     "metadata": {},
     "output_type": "execute_result"
    }
   ],
   "source": [
    "model.generate_response(indexes, metrics).tolist()"
   ]
  },
  {
   "cell_type": "code",
   "execution_count": 49,
   "metadata": {},
   "outputs": [
    {
     "data": {
      "text/plain": [
       "[('faith', nan),\n",
       " ('writer', nan),\n",
       " ('class', nan),\n",
       " ('ultimate', nan),\n",
       " ('cute', nan),\n",
       " ('fears', nan),\n",
       " ('fit', nan),\n",
       " ('.nothing', nan),\n",
       " ('steven', nan),\n",
       " ('several', nan)]"
      ]
     },
     "execution_count": 49,
     "metadata": {},
     "output_type": "execute_result"
    }
   ],
   "source": [
    "indexes, metrics = model.cosine('good')\n",
    "model.generate_response(indexes, metrics).tolist()"
   ]
  },
  {
   "cell_type": "markdown",
   "metadata": {},
   "source": [
    "### 2. gensim word2vec model\n",
    "\n",
    "Refs:\n",
    "\n",
    "https://radimrehurek.com/gensim/models/word2vec.html\n",
    "\n",
    "https://rare-technologies.com/word2vec-tutorial/"
   ]
  },
  {
   "cell_type": "code",
   "execution_count": 50,
   "metadata": {
    "collapsed": true
   },
   "outputs": [],
   "source": [
    "sentences_train = read_dataset(path)"
   ]
  },
  {
   "cell_type": "code",
   "execution_count": 51,
   "metadata": {},
   "outputs": [
    {
     "name": "stdout",
     "output_type": "stream",
     "text": [
      "[(0.69444, \"the rock is destined to be the 21st century 's new `` conan '' and that he 's going to make a splash even greater than arnold schwarzenegger , jean-claud van damme or steven segal .\"), (0.83333, \"the gorgeously elaborate continuation of `` the lord of the rings '' trilogy is so huge that a column of words can not adequately describe co-writer\\\\/director peter jackson 's expanded vision of j.r.r. tolkien 's middle-earth .\")]\n"
     ]
    }
   ],
   "source": [
    "print(sentences_train[:2])"
   ]
  },
  {
   "cell_type": "code",
   "execution_count": 52,
   "metadata": {},
   "outputs": [
    {
     "name": "stdout",
     "output_type": "stream",
     "text": [
      "[\"the rock is destined to be the 21st century 's new `` conan '' and that he 's going to make a splash even greater than arnold schwarzenegger , jean-claud van damme or steven segal .\", \"the gorgeously elaborate continuation of `` the lord of the rings '' trilogy is so huge that a column of words can not adequately describe co-writer\\\\/director peter jackson 's expanded vision of j.r.r. tolkien 's middle-earth .\"]\n"
     ]
    }
   ],
   "source": [
    "sentences = []\n",
    "i = 0\n",
    "for label, sentence in sentences_train:\n",
    "    sentences.append(sentence)\n",
    "\n",
    "print(sentences[:2])"
   ]
  },
  {
   "cell_type": "code",
   "execution_count": 53,
   "metadata": {
    "collapsed": true
   },
   "outputs": [],
   "source": [
    "unknown_token = \"UNKNOWN_TOKEN\"\n",
    "sentence_start_token = \"SENTENCE_START\"\n",
    "sentence_end_token = \"SENTENCE_END\""
   ]
  },
  {
   "cell_type": "code",
   "execution_count": 54,
   "metadata": {},
   "outputs": [
    {
     "name": "stdout",
     "output_type": "stream",
     "text": [
      "[['the', 'rock', 'is', 'destined', 'to', 'be', 'the', '21st', 'century', \"'s\", 'new', '``', 'conan', \"''\", 'and', 'that', 'he', \"'s\", 'going', 'to', 'make', 'a', 'splash', 'even', 'greater', 'than', 'arnold', 'schwarzenegger', ',', 'jean-claud', 'van', 'damme', 'or', 'steven', 'segal', '.'], ['the', 'gorgeously', 'elaborate', 'continuation', 'of', '``', 'the', 'lord', 'of', 'the', 'rings', \"''\", 'trilogy', 'is', 'so', 'huge', 'that', 'a', 'column', 'of', 'words', 'can', 'not', 'adequately', 'describe', 'co-writer\\\\/director', 'peter', 'jackson', \"'s\", 'expanded', 'vision', 'of', 'j.r.r', '.', 'tolkien', \"'s\", 'middle-earth', '.']]\n"
     ]
    }
   ],
   "source": [
    "# Tokenize the sentences into words\n",
    "tokenized_sentences = [nltk.word_tokenize(sent) for sent in sentences]\n",
    "print(tokenized_sentences[:2])"
   ]
  },
  {
   "cell_type": "markdown",
   "metadata": {},
   "source": [
    "**Note**: \n",
    "\n",
    "`gensim.models.Word2Vec(sentences, iter)` will run **two passes** over the sentences \n",
    "iterator (or, in general iter+1 passes; default iter=5). \n",
    "\n",
    "First pass: collects words and their frequencies to build **an internal dictionary tree**\n",
    "\n",
    "The second and subsequent passes: train the neural model."
   ]
  },
  {
   "cell_type": "code",
   "execution_count": 55,
   "metadata": {},
   "outputs": [
    {
     "name": "stderr",
     "output_type": "stream",
     "text": [
      "2018-07-10 11:11:18,262 : WARNING : consider setting layer size to a multiple of 4 for greater performance\n",
      "2018-07-10 11:11:18,265 : INFO : collecting all words and their counts\n",
      "2018-07-10 11:11:18,268 : INFO : PROGRESS: at sentence #0, processed 0 words, keeping 0 word types\n",
      "2018-07-10 11:11:18,270 : INFO : collected 100 word types from a corpus of 140 raw words and 5 sentences\n",
      "2018-07-10 11:11:18,273 : INFO : Loading a fresh vocabulary\n",
      "2018-07-10 11:11:18,275 : INFO : min_count=1 retains 100 unique words (100% of original 100, drops 0)\n",
      "2018-07-10 11:11:18,278 : INFO : min_count=1 leaves 140 word corpus (100% of original 140, drops 0)\n",
      "2018-07-10 11:11:18,283 : INFO : deleting the raw counts dictionary of 100 items\n",
      "2018-07-10 11:11:18,288 : INFO : sample=0.001 downsamples 100 most-common words\n",
      "2018-07-10 11:11:18,292 : INFO : downsampling leaves estimated 55 word corpus (40.0% of prior 140)\n",
      "2018-07-10 11:11:18,296 : INFO : estimated required memory for 100 words and 10 dimensions: 58000 bytes\n",
      "2018-07-10 11:11:18,300 : INFO : resetting layer weights\n",
      "2018-07-10 11:11:18,305 : INFO : training model with 4 workers on 100 vocabulary and 10 features, using sg=0 hs=0 sample=0.001 negative=5 window=5\n",
      "2018-07-10 11:11:18,311 : INFO : worker thread finished; awaiting finish of 3 more threads\n",
      "2018-07-10 11:11:18,319 : INFO : worker thread finished; awaiting finish of 2 more threads\n",
      "2018-07-10 11:11:18,330 : INFO : worker thread finished; awaiting finish of 1 more threads\n",
      "2018-07-10 11:11:18,340 : INFO : worker thread finished; awaiting finish of 0 more threads\n",
      "2018-07-10 11:11:18,344 : INFO : training on 700 raw words (268 effective words) took 0.0s, 8069 effective words/s\n",
      "2018-07-10 11:11:18,347 : WARNING : under 10 jobs per worker: consider setting a smaller `batch_words' for smoother alpha decay\n"
     ]
    }
   ],
   "source": [
    "embedding_size = 10\n",
    "model = gensim.models.Word2Vec(tokenized_sentences[0:5], min_count=1, size=embedding_size, window=5, workers=4)"
   ]
  },
  {
   "cell_type": "markdown",
   "metadata": {},
   "source": [
    "Access the word vector for an individual word."
   ]
  },
  {
   "cell_type": "code",
   "execution_count": 56,
   "metadata": {},
   "outputs": [
    {
     "data": {
      "text/plain": [
       "array([ 0.0402225 , -0.01383673, -0.04880496,  0.03738531, -0.0256329 ,\n",
       "       -0.02597997, -0.04470853,  0.00275434, -0.04621249, -0.01988631], dtype=float32)"
      ]
     },
     "execution_count": 56,
     "metadata": {},
     "output_type": "execute_result"
    }
   ],
   "source": [
    "model.wv['but']"
   ]
  },
  {
   "cell_type": "code",
   "execution_count": 57,
   "metadata": {},
   "outputs": [
    {
     "name": "stderr",
     "output_type": "stream",
     "text": [
      "2018-07-10 11:11:18,583 : INFO : saving Word2Vec object under ../trained_models/info/mygword2vmodel, separately None\n",
      "2018-07-10 11:11:18,589 : INFO : not storing attribute syn0norm\n",
      "2018-07-10 11:11:18,592 : INFO : not storing attribute cum_table\n",
      "2018-07-10 11:11:18,598 : INFO : saved ../trained_models/info/mygword2vmodel\n"
     ]
    }
   ],
   "source": [
    "model.save(models_path + 'mygword2vmodel')"
   ]
  },
  {
   "cell_type": "code",
   "execution_count": 58,
   "metadata": {
    "collapsed": true
   },
   "outputs": [],
   "source": [
    "del model"
   ]
  },
  {
   "cell_type": "code",
   "execution_count": 59,
   "metadata": {},
   "outputs": [
    {
     "name": "stderr",
     "output_type": "stream",
     "text": [
      "2018-07-10 11:11:27,533 : INFO : loading Word2Vec object from ../trained_models/info/mygword2vmodel\n",
      "2018-07-10 11:11:27,538 : INFO : loading wv recursively from ../trained_models/info/mygword2vmodel.wv.* with mmap=None\n",
      "2018-07-10 11:11:27,541 : INFO : setting ignored attribute syn0norm to None\n",
      "2018-07-10 11:11:27,543 : INFO : setting ignored attribute cum_table to None\n",
      "2018-07-10 11:11:27,547 : INFO : loaded ../trained_models/info/mygword2vmodel\n"
     ]
    }
   ],
   "source": [
    "model = gensim.models.Word2Vec.load(models_path + 'mygword2vmodel')"
   ]
  },
  {
   "cell_type": "code",
   "execution_count": 60,
   "metadata": {},
   "outputs": [
    {
     "data": {
      "text/plain": [
       "array([ 0.0402225 , -0.01383673, -0.04880496,  0.03738531, -0.0256329 ,\n",
       "       -0.02597997, -0.04470853,  0.00275434, -0.04621249, -0.01988631], dtype=float32)"
      ]
     },
     "execution_count": 60,
     "metadata": {},
     "output_type": "execute_result"
    }
   ],
   "source": [
    "model.wv['but']"
   ]
  },
  {
   "cell_type": "markdown",
   "metadata": {},
   "source": [
    "`model.wv` is a dictionary that contains `model.wv.index2word` and `model.wv.syn0`.\n",
    "\n",
    "`model.wv.syn0` contains the word embeddings and is thus of shape (num_words, embedding_size)"
   ]
  },
  {
   "cell_type": "code",
   "execution_count": 61,
   "metadata": {},
   "outputs": [
    {
     "name": "stdout",
     "output_type": "stream",
     "text": [
      "[ 0.0402225  -0.01383673 -0.04880496  0.03738531 -0.0256329  -0.02597997\n",
      " -0.04470853  0.00275434 -0.04621249 -0.01988631]\n",
      "(100, 10)\n",
      "[[ -4.85028736e-02   6.90227933e-03   3.76802385e-02  -1.43604996e-02\n",
      "    1.30194193e-02  -1.02926986e-02   4.54240888e-02  -2.78824475e-02\n",
      "    7.39598254e-05   4.64480370e-02]\n",
      " [  2.34042350e-02   3.70108224e-02   3.80503125e-02   2.76730284e-02\n",
      "   -3.75781469e-02  -2.50255018e-02  -1.28103625e-02   2.12863479e-02\n",
      "   -2.23294012e-02  -3.30078602e-02]\n",
      " [ -4.36908379e-02   2.53004041e-02   2.75953971e-02  -2.04372723e-02\n",
      "   -1.22186681e-02   2.49917340e-02   4.67930268e-03   1.70949602e-03\n",
      "    1.95773505e-02  -5.59843145e-03]]\n"
     ]
    }
   ],
   "source": [
    "# create a dictionary that maps words to their corresponding embedding vectors\n",
    "w2v = dict(zip(model.wv.index2word, model.wv.syn0))\n",
    "print(w2v['but'])\n",
    "print(model.wv.syn0.shape)\n",
    "print(model.wv.syn0[:3])"
   ]
  },
  {
   "cell_type": "code",
   "execution_count": 62,
   "metadata": {},
   "outputs": [
    {
     "name": "stdout",
     "output_type": "stream",
     "text": [
      "[[ -4.85028736e-02   6.90227933e-03   3.76802385e-02  -1.43604996e-02\n",
      "    1.30194193e-02  -1.02926986e-02   4.54240888e-02  -2.78824475e-02\n",
      "    7.39598254e-05   4.64480370e-02]\n",
      " [  2.34042350e-02   3.70108224e-02   3.80503125e-02   2.76730284e-02\n",
      "   -3.75781469e-02  -2.50255018e-02  -1.28103625e-02   2.12863479e-02\n",
      "   -2.23294012e-02  -3.30078602e-02]\n",
      " [ -4.36908379e-02   2.53004041e-02   2.75953971e-02  -2.04372723e-02\n",
      "   -1.22186681e-02   2.49917340e-02   4.67930268e-03   1.70949602e-03\n",
      "    1.95773505e-02  -5.59843145e-03]]\n",
      "True\n"
     ]
    }
   ],
   "source": [
    "# http://adventuresinmachinelearning.com/gensim-word2vec-tutorial/\n",
    "embedding_matrix = numpy.zeros((len(model.wv.vocab), embedding_size))\n",
    "for i in range(len(model.wv.vocab)):\n",
    "    embedding_vector = model.wv[model.wv.index2word[i]]\n",
    "    if embedding_vector is not None:\n",
    "        embedding_matrix[i] = embedding_vector\n",
    "\n",
    "print(embedding_matrix[:3])\n",
    "\n",
    "print(numpy.allclose(embedding_matrix, model.wv.syn0))"
   ]
  },
  {
   "cell_type": "markdown",
   "metadata": {},
   "source": [
    "Transfer sentence words to their corresponding embeddings."
   ]
  },
  {
   "cell_type": "code",
   "execution_count": 63,
   "metadata": {},
   "outputs": [
    {
     "name": "stdout",
     "output_type": "stream",
     "text": [
      "[[ -4.85028736e-02   6.90227933e-03   3.76802385e-02  -1.43604996e-02\n",
      "    1.30194193e-02  -1.02926986e-02   4.54240888e-02  -2.78824475e-02\n",
      "    7.39598254e-05   4.64480370e-02]\n",
      " [ -3.41202095e-02  -3.38358618e-02  -1.68177821e-02  -3.70543115e-02\n",
      "   -4.28975783e-02  -2.08996329e-02   2.73697879e-02  -4.39694040e-02\n",
      "   -3.52290869e-02  -2.83895321e-02]]\n",
      "[[ -4.85028736e-02   6.90227933e-03   3.76802385e-02  -1.43604996e-02\n",
      "    1.30194193e-02  -1.02926986e-02   4.54240888e-02  -2.78824475e-02\n",
      "    7.39598254e-05   4.64480370e-02]\n",
      " [ -3.41202095e-02  -3.38358618e-02  -1.68177821e-02  -3.70543115e-02\n",
      "   -4.28975783e-02  -2.08996329e-02   2.73697879e-02  -4.39694040e-02\n",
      "   -3.52290869e-02  -2.83895321e-02]]\n",
      "True\n"
     ]
    }
   ],
   "source": [
    "sentence_matrix = numpy.zeros((len(tokenized_sentences[0]), embedding_size))\n",
    "for i, word in enumerate(tokenized_sentences[0]):\n",
    "    sentence_matrix[i] = model.wv[word]\n",
    "    # sentence_matrix[i] = w2v[word]\n",
    "print(sentence_matrix[:2])\n",
    "\n",
    "sentence_wv = model.wv[tokenized_sentences[0]]\n",
    "print(sentence_wv[:2])\n",
    "\n",
    "print(numpy.allclose(sentence_matrix, sentence_wv))"
   ]
  },
  {
   "cell_type": "code",
   "execution_count": 64,
   "metadata": {},
   "outputs": [
    {
     "name": "stdout",
     "output_type": "stream",
     "text": [
      "100\n",
      "[  0.  13.   6.  14.   7.  15.   0.  16.  17.   4.  18.   8.  19.   9.  20.\n",
      "  10.  21.   4.  22.   7.  23.   3.  24.  25.  26.  27.  28.  29.   5.  30.\n",
      "  31.  32.  33.  34.  35.   2.]\n"
     ]
    }
   ],
   "source": [
    "print(len(model.wv.vocab))\n",
    "\n",
    "idx_sentence = numpy.zeros(len(tokenized_sentences[0]))\n",
    "for i, word in enumerate(tokenized_sentences[0]):\n",
    "    idx_sentence[i] = model.wv.vocab[word].index\n",
    "print(idx_sentence)"
   ]
  },
  {
   "cell_type": "code",
   "execution_count": 65,
   "metadata": {},
   "outputs": [
    {
     "data": {
      "text/plain": [
       "array([-0.0079626 , -0.01740446,  0.03870961, -0.04500164, -0.03749513,\n",
       "        0.03458533,  0.04255144,  0.02880084,  0.00620809,  0.01464351])"
      ]
     },
     "execution_count": 65,
     "metadata": {},
     "output_type": "execute_result"
    }
   ],
   "source": [
    "embedding_matrix[35]"
   ]
  },
  {
   "cell_type": "code",
   "execution_count": 66,
   "metadata": {},
   "outputs": [
    {
     "name": "stdout",
     "output_type": "stream",
     "text": [
      "7161\n"
     ]
    }
   ],
   "source": [
    "print(len(tokenized_sentences))"
   ]
  },
  {
   "cell_type": "code",
   "execution_count": 67,
   "metadata": {
    "collapsed": true
   },
   "outputs": [],
   "source": [
    "def sentences_to_idxs(tokenized_sentences):\n",
    "    idx_sentences = []\n",
    "    for tokenized_sentence in tokenized_sentences:\n",
    "        idx_one_sentence = numpy.zeros(len(tokenized_sentence))\n",
    "        idx = 0\n",
    "        for idx, word in enumerate(tokenized_sentence):\n",
    "            idx_one_sentence[idx] = model.wv.vocab[word].index\n",
    "        idx_sentences.append(idx_one_sentence) \n",
    "    return idx_sentences"
   ]
  },
  {
   "cell_type": "code",
   "execution_count": 68,
   "metadata": {},
   "outputs": [
    {
     "name": "stdout",
     "output_type": "stream",
     "text": [
      "[array([  0.,  13.,   6.,  14.,   7.,  15.,   0.,  16.,  17.,   4.,  18.,\n",
      "         8.,  19.,   9.,  20.,  10.,  21.,   4.,  22.,   7.,  23.,   3.,\n",
      "        24.,  25.,  26.,  27.,  28.,  29.,   5.,  30.,  31.,  32.,  33.,\n",
      "        34.,  35.,   2.]), array([  0.,  36.,  37.,  38.,   1.,   8.,   0.,  39.,   1.,   0.,  40.,\n",
      "         9.,  41.,   6.,  42.,  43.,  10.,   3.,  44.,   1.,  45.,  46.,\n",
      "        47.,  48.,  49.,  50.,  51.,  52.,   4.,  53.,  54.,   1.,  55.,\n",
      "         2.,  56.,   4.,  57.,   2.]), array([ 58.,  59.,  60.,  61.,   3.,  62.,   1.,  63.,  11.,   3.,  12.,\n",
      "        64.,  65.,   5.,   3.,  12.,  66.,  67.,  68.,   7.,   0.,  69.,\n",
      "        11.,  70.,   0.,  71.,  72.,  73.,  74.,   0.,  75.,   5.,  76.,\n",
      "         5.,  77.,   1.,   0.,  78.,   2.]), array([ 79.,  80.,  81.,  82.,  83.,  84.,  85.,  86.,  87.,  88.,   1.,\n",
      "        89.,  90.,  91.,  92.,  93.,   1.,  94.,   2.]), array([ 95.,   0.,  96.,   6.,  97.,  98.,  99.,   2.])]\n"
     ]
    }
   ],
   "source": [
    "idx_sentences = sentences_to_idxs(tokenized_sentences[0:5])\n",
    "print(idx_sentences)"
   ]
  },
  {
   "cell_type": "markdown",
   "metadata": {},
   "source": [
    "word2vec model does not need to tokenize sentence before training while gensim model expects a sequence of sentences which are composed of a list of words. Therefore, gensim model is often used together with natural language processing tools such as nltk. From the above explorations, we can see that gensim model is more stable."
   ]
  },
  {
   "cell_type": "code",
   "execution_count": null,
   "metadata": {
    "collapsed": true
   },
   "outputs": [],
   "source": []
  },
  {
   "cell_type": "code",
   "execution_count": null,
   "metadata": {
    "collapsed": true
   },
   "outputs": [],
   "source": []
  }
 ],
 "metadata": {
  "kernelspec": {
   "display_name": "Python 3",
   "language": "python",
   "name": "python3"
  },
  "language_info": {
   "codemirror_mode": {
    "name": "ipython",
    "version": 3
   },
   "file_extension": ".py",
   "mimetype": "text/x-python",
   "name": "python",
   "nbconvert_exporter": "python",
   "pygments_lexer": "ipython3",
   "version": "3.6.3"
  }
 },
 "nbformat": 4,
 "nbformat_minor": 2
}
